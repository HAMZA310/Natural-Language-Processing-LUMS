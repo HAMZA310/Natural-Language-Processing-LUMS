{
 "cells": [
  {
   "cell_type": "markdown",
   "metadata": {},
   "source": [
    "##  Feed Forward Net"
   ]
  },
  {
   "cell_type": "markdown",
   "metadata": {},
   "source": [
    "I get val-accuracy of on simple Feed Forward Net $0.6603$ after 8 epochs with the following architecture:\n",
    "- Embedding layer \n",
    "- LSTM layer (with $300$ units)\n",
    "- dense layer of $150$ units\n",
    "- batch normalization \n",
    "- Last dense layer with $1$ unit\n",
    "\n",
    "#### Exact breakdown of the results after $8$ epochs is the following:\n",
    "> $ 6s 1ms/step - loss: 0.0189 - acc: 0.9948 - f1_m: 0.9961 - precision_m: 0.9964 - recall_m: 0.9958 - val_loss: 2.3061 - val_acc: 0.6603 - val_f1_m: 0.7921 - val_precision_m: 0.6658 - val_recall_m: 0.9808$"
   ]
  },
  {
   "cell_type": "code",
   "execution_count": null,
   "metadata": {},
   "outputs": [],
   "source": []
  },
  {
   "cell_type": "markdown",
   "metadata": {},
   "source": [
    "### LSTM Model "
   ]
  },
  {
   "cell_type": "markdown",
   "metadata": {},
   "source": [
    "I get val-accuracy of on LSTM $0.6649$ after 7 epochs with the following architecture:\n",
    "- Embedding layer \n",
    "- LSTM layer (with $300$ units)\n",
    "- dense layer of $150$ units\n",
    "- batch normalization \n",
    "- Last dense layer with $1$ unit\n",
    "\n",
    "#### Exact breakdown of the results after $10$ epochs is the following:\n",
    "> $ loss: 0.5578 - acc: 0.7160 - f1_m: 0.8109 - precision_m: 0.7343 - recall_m: 0.9100 - val_loss: 0.6815 - val_acc: 0.5530 - val_f1_m: 0.6255 - val_precision_m: 0.7011 - val_recall_m: 0.5685$"
   ]
  },
  {
   "cell_type": "code",
   "execution_count": null,
   "metadata": {},
   "outputs": [],
   "source": []
  },
  {
   "cell_type": "markdown",
   "metadata": {},
   "source": [
    "### BiLSTM Model "
   ]
  },
  {
   "cell_type": "markdown",
   "metadata": {},
   "source": [
    "I get accuracy of on LSTM $ 0.6261$ after 6 epochs with the following architecture:\n",
    "- Embedding layer \n",
    "- Bidirection-LSTM layer (with $300$ units)\n",
    "- dense layer of $150$ units\n",
    "- Last dense layer with $1$ unit\n",
    "\n",
    "#### Exact breakdown of the results after $10$ epochs is the following:\n",
    "> $ 42s 10ms/step - loss: 0.0431 - acc: 0.9875 - f1_m: 0.9908 - precision_m: 0.9892 - recall_m: 0.9926 - val_loss: 1.8808 - val_acc: 0.5983 - val_f1_m: 0.7165 - val_precision_m: 0.6720 - val_recall_m: 0.7705$"
   ]
  },
  {
   "cell_type": "code",
   "execution_count": null,
   "metadata": {},
   "outputs": [],
   "source": []
  }
 ],
 "metadata": {
  "kernelspec": {
   "display_name": "Python 3",
   "language": "python",
   "name": "python3"
  },
  "language_info": {
   "codemirror_mode": {
    "name": "ipython",
    "version": 3
   },
   "file_extension": ".py",
   "mimetype": "text/x-python",
   "name": "python",
   "nbconvert_exporter": "python",
   "pygments_lexer": "ipython3",
   "version": "3.6.5"
  }
 },
 "nbformat": 4,
 "nbformat_minor": 2
}
