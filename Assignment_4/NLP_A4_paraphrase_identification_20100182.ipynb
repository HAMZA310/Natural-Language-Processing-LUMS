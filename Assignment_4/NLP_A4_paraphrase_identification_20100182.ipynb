{
 "cells": [
  {
   "cell_type": "markdown",
   "metadata": {},
   "source": [
    "# Paraphrase Detection on MSRP"
   ]
  },
  {
   "cell_type": "code",
   "execution_count": 38,
   "metadata": {},
   "outputs": [],
   "source": [
    "import matplotlib.pyplot as plt\n",
    "%matplotlib inline"
   ]
  },
  {
   "cell_type": "code",
   "execution_count": 4,
   "metadata": {
    "scrolled": true
   },
   "outputs": [
    {
     "name": "stderr",
     "output_type": "stream",
     "text": [
      "/usr/local/anaconda3/lib/python3.6/site-packages/h5py/__init__.py:36: FutureWarning: Conversion of the second argument of issubdtype from `float` to `np.floating` is deprecated. In future, it will be treated as `np.float64 == np.dtype(float).type`.\n",
      "  from ._conv import register_converters as _register_converters\n",
      "Using TensorFlow backend.\n"
     ]
    }
   ],
   "source": [
    "import numpy as np\n",
    "import nltk\n",
    "import string\n",
    "from numpy import array, asarray, zeros\n",
    "import keras\n",
    "from keras.preprocessing.text import Tokenizer\n",
    "from keras.preprocessing.sequence import pad_sequences\n",
    "from keras.models import Sequential\n",
    "from keras.layers import Dense, Flatten, Embedding, LSTM, Bidirectional\n",
    "from keras import optimizers\n",
    "from keras.layers.normalization import BatchNormalization"
   ]
  },
  {
   "cell_type": "markdown",
   "metadata": {},
   "source": [
    "## Training Set"
   ]
  },
  {
   "cell_type": "code",
   "execution_count": 82,
   "metadata": {},
   "outputs": [],
   "source": [
    "with open('msr_paraphrase_train.txt', encoding = 'utf8') as msr_file:\n",
    "    sent1 = []\n",
    "    sent2 = []\n",
    "    is_paraphrase = []\n",
    "    for index, sent in enumerate(msr_file):\n",
    "        if index != 0:\n",
    "            values = sent.split(\"\\t\")\n",
    "            sent1.append(values[3][:-1])\n",
    "            sent2.append(values[4][:-1])\n",
    "            is_paraphrase.append(int(values[0]))\n",
    "\n",
    "all_sents1 = sent1\n",
    "all_sents2 = sent2\n",
    "labels_train = is_paraphrase"
   ]
  },
  {
   "cell_type": "code",
   "execution_count": 83,
   "metadata": {},
   "outputs": [],
   "source": [
    "tok1 = Tokenizer()\n",
    "tok1.fit_on_texts(all_sents1)\n",
    "vocab_size_sents1 = len(tok1.word_index) + 1\n",
    "encoded_sents1 = tok1.texts_to_sequences(all_sents1)"
   ]
  },
  {
   "cell_type": "code",
   "execution_count": 84,
   "metadata": {},
   "outputs": [
    {
     "name": "stdout",
     "output_type": "stream",
     "text": [
      "11758\n"
     ]
    }
   ],
   "source": [
    "tok2 = Tokenizer()\n",
    "tok2.fit_on_texts(all_sents2)\n",
    "vocab_size_sents2 = len(tok2.word_index) + 1\n",
    "print(vocab_size_sents2)\n",
    "encoded_sents2 = tok2.texts_to_sequences(all_sents2)"
   ]
  },
  {
   "cell_type": "code",
   "execution_count": 85,
   "metadata": {},
   "outputs": [
    {
     "data": {
      "text/plain": [
       "23642"
      ]
     },
     "execution_count": 85,
     "metadata": {},
     "output_type": "execute_result"
    }
   ],
   "source": [
    "vocab_size = vocab_size_sents1 + vocab_size_sents2\n",
    "vocab_size"
   ]
  },
  {
   "cell_type": "markdown",
   "metadata": {},
   "source": [
    "### Paddings"
   ]
  },
  {
   "cell_type": "code",
   "execution_count": 86,
   "metadata": {},
   "outputs": [
    {
     "data": {
      "text/plain": [
       "array([[ 1420,   434,    28, ...,     0,     0,     0],\n",
       "       [ 5734,  1145,  5735, ...,     0,     0,     0],\n",
       "       [   39,    31,   607, ...,   310,     0,     0],\n",
       "       ...,\n",
       "       [   13,    38,   613, ...,   963,     0,     0],\n",
       "       [ 2089,   168,    40, ...,   152, 11881, 11882],\n",
       "       [    9,   705,  3807, ...,   664,  3037,     7]], dtype=int32)"
      ]
     },
     "execution_count": 86,
     "metadata": {},
     "output_type": "execute_result"
    }
   ],
   "source": [
    "max_length = 20\n",
    "padded_sents1 = pad_sequences(encoded_sents1, maxlen=max_length, \\\n",
    "                            padding='post')\n",
    "padded_sents1"
   ]
  },
  {
   "cell_type": "code",
   "execution_count": 87,
   "metadata": {},
   "outputs": [
    {
     "data": {
      "text/plain": [
       "array([[ 1932,     2,   144, ...,     0,     0,     0],\n",
       "       [ 5758,  2326,  5759, ...,     4,   872,     0],\n",
       "       [    8,   207,   112, ...,   934,     0,     0],\n",
       "       ...,\n",
       "       [11752,     7,    10, ...,     0,     0,     0],\n",
       "       [ 2886,   946,    36, ..., 11755,     0,     0],\n",
       "       [    4,     5,   136, ..., 11757,     0,     0]], dtype=int32)"
      ]
     },
     "execution_count": 87,
     "metadata": {},
     "output_type": "execute_result"
    }
   ],
   "source": [
    "padded_sents2 = pad_sequences(encoded_sents2, maxlen=max_length, \\\n",
    "                              padding='post')\n",
    "padded_sents2"
   ]
  },
  {
   "cell_type": "markdown",
   "metadata": {},
   "source": [
    "### Embeddings"
   ]
  },
  {
   "cell_type": "code",
   "execution_count": 88,
   "metadata": {},
   "outputs": [],
   "source": [
    "embeddings_index = dict()\n",
    "with open('glove.6B.300d.txt', encoding = \"utf-8\") as glove_file:\n",
    "    for line in glove_file:\n",
    "        values = line.split()\n",
    "        word = values[0]\n",
    "        coefs = asarray(values[1:], dtype='float32')\n",
    "        embeddings_index[word] = coefs\n"
   ]
  },
  {
   "cell_type": "code",
   "execution_count": 89,
   "metadata": {},
   "outputs": [],
   "source": [
    "# create a weight matrix for words in training docs\n",
    "embedding_matrix = zeros((vocab_size, 300))\n",
    "filled_by_tok1 = 0\n",
    "\n",
    "for word, ind in tok1.word_index.items():\n",
    "    filled_by_tok1 = ind\n",
    "    embedding_vector = embeddings_index.get(word)\n",
    "    if embedding_vector is not None:\n",
    "        embedding_matrix[ind] = embedding_vector\n",
    "\n",
    "for word, ind in tok2.word_index.items():\n",
    "    embedding_vector = embeddings_index.get(word)\n",
    "    if embedding_vector is not None:\n",
    "        embedding_matrix[filled_by_tok1+ind] = embedding_vector\n",
    "        "
   ]
  },
  {
   "cell_type": "markdown",
   "metadata": {},
   "source": [
    "### concatenate both paraphrases"
   ]
  },
  {
   "cell_type": "code",
   "execution_count": 90,
   "metadata": {},
   "outputs": [
    {
     "data": {
      "text/plain": [
       "array([[ 1420,   434,    28, ...,     0,     0,     0],\n",
       "       [ 5734,  1145,  5735, ...,     0,     0,     0],\n",
       "       [   39,    31,   607, ...,   310,     0,     0],\n",
       "       ...,\n",
       "       [   13,    38,   613, ...,   963,     0,     0],\n",
       "       [ 2089,   168,    40, ...,   152, 11881, 11882],\n",
       "       [    9,   705,  3807, ...,   664,  3037,     7]], dtype=int32)"
      ]
     },
     "execution_count": 90,
     "metadata": {},
     "output_type": "execute_result"
    }
   ],
   "source": [
    "training_set = [np.concatenate([padded_sents1[i],\\\n",
    "                                padded_sents1[i]]) for i in range(len(padded_docs))]\n",
    "\n",
    "training_set = np.array(training_set)\n",
    "training_set"
   ]
  },
  {
   "cell_type": "code",
   "execution_count": null,
   "metadata": {},
   "outputs": [],
   "source": []
  },
  {
   "cell_type": "markdown",
   "metadata": {},
   "source": [
    "## Test Set"
   ]
  },
  {
   "cell_type": "code",
   "execution_count": 91,
   "metadata": {},
   "outputs": [],
   "source": [
    "with open('msr_paraphrase_test.txt', encoding = 'utf8') as msr_file:\n",
    "    sent1 = []\n",
    "    sent2 = []\n",
    "    is_paraphrase = []\n",
    "    for index, sent in enumerate(msr_file):\n",
    "        if index != 0:\n",
    "            values = sent.split(\"\\t\")\n",
    "            sent1.append(values[3][:-1])\n",
    "            sent2.append(values[4][:-1])\n",
    "            is_paraphrase.append(int(values[0]))\n",
    "\n",
    "all_sents1_test = sent1\n",
    "all_sents2_test = sent2\n",
    "labels_test = is_paraphrase"
   ]
  },
  {
   "cell_type": "markdown",
   "metadata": {},
   "source": [
    "### encode"
   ]
  },
  {
   "cell_type": "code",
   "execution_count": 92,
   "metadata": {},
   "outputs": [],
   "source": [
    "sents1 = all_sents1_test\n",
    "sents2 = all_sents2_test\n",
    "\n",
    "tok1_test = Tokenizer()\n",
    "tok1_test.fit_on_texts(sents1)\n",
    "encoded_sents1_test = tok1_test.texts_to_sequences(sents1)\n",
    "\n",
    "tok2_test = Tokenizer()\n",
    "tok2_test.fit_on_texts(sents2)\n",
    "encoded_sents2_test = tok2_test.texts_to_sequences(sents2)"
   ]
  },
  {
   "cell_type": "markdown",
   "metadata": {},
   "source": [
    "### padding"
   ]
  },
  {
   "cell_type": "code",
   "execution_count": 93,
   "metadata": {},
   "outputs": [
    {
     "data": {
      "text/plain": [
       "array([[ 1420,   434,    28, ...,     0,     0,     0],\n",
       "       [ 5734,  1145,  5735, ...,     0,     0,     0],\n",
       "       [   39,    31,   607, ...,   310,     0,     0],\n",
       "       ...,\n",
       "       [   13,    38,   613, ...,   963,     0,     0],\n",
       "       [ 2089,   168,    40, ...,   152, 11881, 11882],\n",
       "       [    9,   705,  3807, ...,   664,  3037,     7]], dtype=int32)"
      ]
     },
     "execution_count": 93,
     "metadata": {},
     "output_type": "execute_result"
    }
   ],
   "source": [
    "padded_sents1_test = pad_sequences(encoded_sents1_test, maxlen=max_length, \\\n",
    "                              padding='post')\n",
    "padded_sents2_test = pad_sequences(encoded_sents2_test, maxlen=max_length, \\\n",
    "                               padding='post')\n",
    "\n",
    "test_set = []\n",
    "test_set = [np.concatenate((padded_sents1_test[i],padded_sents2_test[i])) \\\n",
    "                for i in range(len(t_padded_docs))]\n",
    "test_set = array(test_set)\n",
    "(training_set)"
   ]
  },
  {
   "cell_type": "code",
   "execution_count": 94,
   "metadata": {},
   "outputs": [],
   "source": [
    "from keras import backend as K\n",
    "\n",
    "def recall_m(y_true, y_pred):\n",
    "    true_positives = K.sum(K.round(K.clip(y_true * y_pred, 0, 1)))\n",
    "    possible_positives = K.sum(K.round(K.clip(y_true, 0, 1)))\n",
    "    recall = true_positives / (possible_positives + K.epsilon())\n",
    "    return recall\n",
    "\n",
    "def precision_m(y_true, y_pred):\n",
    "    true_positives = K.sum(K.round(K.clip(y_true * y_pred, 0, 1)))\n",
    "    predicted_positives = K.sum(K.round(K.clip(y_pred, 0, 1)))\n",
    "    precision = true_positives / (predicted_positives + K.epsilon())\n",
    "    return precision\n",
    "\n",
    "def f1_m(y_true, y_pred):\n",
    "    precision = precision_m(y_true, y_pred)\n",
    "    recall = recall_m(y_true, y_pred)\n",
    "    return 2*((precision*recall) / (precision+recall + K.epsilon()))\n"
   ]
  },
  {
   "cell_type": "code",
   "execution_count": null,
   "metadata": {},
   "outputs": [],
   "source": []
  },
  {
   "cell_type": "markdown",
   "metadata": {},
   "source": [
    "# MODELS"
   ]
  },
  {
   "cell_type": "markdown",
   "metadata": {},
   "source": [
    "## Feedforward network"
   ]
  },
  {
   "cell_type": "code",
   "execution_count": 95,
   "metadata": {},
   "outputs": [
    {
     "name": "stdout",
     "output_type": "stream",
     "text": [
      "_________________________________________________________________\n",
      "Layer (type)                 Output Shape              Param #   \n",
      "=================================================================\n",
      "embedding_6 (Embedding)      (None, 40, 300)           7092600   \n",
      "_________________________________________________________________\n",
      "flatten_5 (Flatten)          (None, 12000)             0         \n",
      "_________________________________________________________________\n",
      "dense_15 (Dense)             (None, 300)               3600300   \n",
      "_________________________________________________________________\n",
      "dense_16 (Dense)             (None, 150)               45150     \n",
      "_________________________________________________________________\n",
      "dense_17 (Dense)             (None, 1)                 151       \n",
      "=================================================================\n",
      "Total params: 10,738,201\n",
      "Trainable params: 3,645,601\n",
      "Non-trainable params: 7,092,600\n",
      "_________________________________________________________________\n"
     ]
    },
    {
     "name": "stderr",
     "output_type": "stream",
     "text": [
      "/usr/local/anaconda3/lib/python3.6/site-packages/ipykernel_launcher.py:13: UserWarning: The `nb_epoch` argument in `fit` has been renamed `epochs`.\n",
      "  del sys.path[0]\n"
     ]
    },
    {
     "name": "stdout",
     "output_type": "stream",
     "text": [
      "Train on 4074 samples, validate on 1725 samples\n",
      "Epoch 1/10\n",
      "4074/4074 [==============================] - 8s 2ms/step - loss: 0.6159 - acc: 0.6851 - f1_m: 0.7941 - precision_m: 0.7048 - recall_m: 0.9208 - val_loss: 0.6322 - val_acc: 0.6638 - val_f1_m: 0.7955 - val_precision_m: 0.6660 - val_recall_m: 0.9912\n",
      "Epoch 2/10\n",
      "4074/4074 [==============================] - 6s 1ms/step - loss: 0.4128 - acc: 0.8127 - f1_m: 0.8665 - precision_m: 0.8294 - recall_m: 0.9157 - val_loss: 0.7148 - val_acc: 0.6591 - val_f1_m: 0.7858 - val_precision_m: 0.6724 - val_recall_m: 0.9486\n",
      "Epoch 3/10\n",
      "4074/4074 [==============================] - 7s 2ms/step - loss: 0.1653 - acc: 0.9396 - f1_m: 0.9554 - precision_m: 0.9481 - recall_m: 0.9649 - val_loss: 0.8210 - val_acc: 0.6006 - val_f1_m: 0.7213 - val_precision_m: 0.6687 - val_recall_m: 0.7864\n",
      "Epoch 4/10\n",
      "4074/4074 [==============================] - 6s 2ms/step - loss: 0.0663 - acc: 0.9833 - f1_m: 0.9875 - precision_m: 0.9855 - recall_m: 0.9899 - val_loss: 1.0760 - val_acc: 0.6458 - val_f1_m: 0.7726 - val_precision_m: 0.6709 - val_recall_m: 0.9136\n",
      "Epoch 5/10\n",
      "4074/4074 [==============================] - 6s 1ms/step - loss: 0.0337 - acc: 0.9924 - f1_m: 0.9943 - precision_m: 0.9936 - recall_m: 0.9952 - val_loss: 1.7532 - val_acc: 0.6591 - val_f1_m: 0.7906 - val_precision_m: 0.6663 - val_recall_m: 0.9755\n",
      "Epoch 6/10\n",
      "4074/4074 [==============================] - 6s 1ms/step - loss: 0.0191 - acc: 0.9946 - f1_m: 0.9960 - precision_m: 0.9960 - recall_m: 0.9961 - val_loss: 1.7592 - val_acc: 0.6643 - val_f1_m: 0.7929 - val_precision_m: 0.6704 - val_recall_m: 0.9738\n",
      "Epoch 7/10\n",
      "4074/4074 [==============================] - 6s 1ms/step - loss: 0.0204 - acc: 0.9951 - f1_m: 0.9963 - precision_m: 0.9962 - recall_m: 0.9964 - val_loss: 1.8115 - val_acc: 0.6580 - val_f1_m: 0.7873 - val_precision_m: 0.6690 - val_recall_m: 0.9595\n",
      "Epoch 8/10\n",
      "4074/4074 [==============================] - 6s 1ms/step - loss: 0.0189 - acc: 0.9948 - f1_m: 0.9961 - precision_m: 0.9964 - recall_m: 0.9958 - val_loss: 2.3061 - val_acc: 0.6603 - val_f1_m: 0.7921 - val_precision_m: 0.6658 - val_recall_m: 0.9808\n",
      "Epoch 9/10\n",
      "4074/4074 [==============================] - 6s 1ms/step - loss: 0.0234 - acc: 0.9936 - f1_m: 0.9953 - precision_m: 0.9953 - recall_m: 0.9953 - val_loss: 1.7127 - val_acc: 0.6504 - val_f1_m: 0.7821 - val_precision_m: 0.6670 - val_recall_m: 0.9495\n",
      "Epoch 10/10\n",
      "4074/4074 [==============================] - 6s 1ms/step - loss: 0.0174 - acc: 0.9953 - f1_m: 0.9964 - precision_m: 0.9960 - recall_m: 0.9969 - val_loss: 1.8633 - val_acc: 0.6539 - val_f1_m: 0.7847 - val_precision_m: 0.6671 - val_recall_m: 0.9563\n"
     ]
    }
   ],
   "source": [
    "# feed_fwd_model\n",
    "feed_fwd_model = Sequential()\n",
    "\n",
    "feed_fwd_model.add(Embedding(vocab_size, 300, \\\n",
    "                             weights=[embedding_matrix], \\\n",
    "                                 input_length=40, trainable=False))\n",
    "feed_fwd_model.add(Flatten())  # to make dim valid for the next layer\n",
    "\n",
    "feed_fwd_model.add(Dense(300, activation = 'relu'))\n",
    "feed_fwd_model.add(Dense(150, input_dim = 300, activation='relu'))\n",
    "feed_fwd_model.add(Dense(1, input_dim = 150, activation='sigmoid'))\n",
    "\n",
    "feed_fwd_model.compile(loss='binary_crossentropy', \\\n",
    "                       optimizer='adam', \\\n",
    "                       metrics=['acc',f1_m,precision_m, recall_m])\n",
    "feed_fwd_model.summary()\n",
    "feed_fwd_model_hist = feed_fwd_model.fit(training_set, labels_train, validation_data=\\\n",
    "                                           (test_set, labels_test), nb_epoch = 10,\\\n",
    "                                               batch_size=64)\n"
   ]
  },
  {
   "cell_type": "markdown",
   "metadata": {},
   "source": [
    "#### Plots"
   ]
  },
  {
   "cell_type": "code",
   "execution_count": 96,
   "metadata": {},
   "outputs": [
    {
     "data": {
      "image/png": "[encoded data removed]",
      "text/plain": [
       "<Figure size 432x288 with 1 Axes>"
      ]
     },
     "metadata": {},
     "output_type": "display_data"
    }
   ],
   "source": [
    "plt.plot(feed_fwd_model_hist.history['val_acc'])\n",
    "plt.plot(feed_fwd_model_hist.history['val_f1_m'])\n",
    "plt.plot(feed_fwd_model_hist.history['val_precision_m'])\n",
    "plt.plot(feed_fwd_model_hist.history['val_recall_m'])\n",
    "\n",
    "\n",
    "plt.title('feed fwd model')\n",
    "plt.xlabel('epoch')\n",
    "plt.legend(['Accuracy','Precision','Recall','F1-score' ], loc='upper right')\n",
    "plt.show()"
   ]
  },
  {
   "cell_type": "code",
   "execution_count": null,
   "metadata": {},
   "outputs": [],
   "source": []
  },
  {
   "cell_type": "markdown",
   "metadata": {},
   "source": [
    "## LSTM\n",
    "\n"
   ]
  },
  {
   "cell_type": "code",
   "execution_count": 105,
   "metadata": {},
   "outputs": [
    {
     "name": "stdout",
     "output_type": "stream",
     "text": [
      "_________________________________________________________________\n",
      "Layer (type)                 Output Shape              Param #   \n",
      "=================================================================\n",
      "embedding_10 (Embedding)     (None, None, 300)         7092600   \n",
      "_________________________________________________________________\n",
      "lstm_5 (LSTM)                (None, 300)               721200    \n",
      "_________________________________________________________________\n",
      "dense_24 (Dense)             (None, 150)               45150     \n",
      "_________________________________________________________________\n",
      "batch_normalization_3 (Batch (None, 150)               600       \n",
      "_________________________________________________________________\n",
      "dense_25 (Dense)             (None, 1)                 151       \n",
      "=================================================================\n",
      "Total params: 7,859,701\n",
      "Trainable params: 766,801\n",
      "Non-trainable params: 7,092,900\n",
      "_________________________________________________________________\n"
     ]
    }
   ],
   "source": [
    "# LSTM Model\n",
    "lstm = Sequential() \n",
    "lstm.add(Embedding(vocab_size, 300, weights=[embedding_matrix], trainable=False))\n",
    "# model.add(Flatten())\n",
    "lstm.add(LSTM(300, dropout = 0.5))\n",
    "lstm.add(Dense(150, input_dim = 300, activation='relu'))\n",
    "lstm.add(BatchNormalization())\n",
    "lstm.add(Dense(1, input_dim = 150, activation='sigmoid'))\n",
    "\n",
    "# compile the model\n",
    "lstm.compile(loss='binary_crossentropy', optimizer='adam', metrics=['acc',f1_m,precision_m, recall_m])\n",
    "# summarize the model\n",
    "lstm.summary()"
   ]
  },
  {
   "cell_type": "code",
   "execution_count": null,
   "metadata": {},
   "outputs": [],
   "source": []
  },
  {
   "cell_type": "markdown",
   "metadata": {},
   "source": [
    "Fitting the model"
   ]
  },
  {
   "cell_type": "code",
   "execution_count": 107,
   "metadata": {},
   "outputs": [
    {
     "name": "stderr",
     "output_type": "stream",
     "text": [
      "/usr/local/anaconda3/lib/python3.6/site-packages/ipykernel_launcher.py:1: UserWarning: The `nb_epoch` argument in `fit` has been renamed `epochs`.\n",
      "  \"\"\"Entry point for launching an IPython kernel.\n"
     ]
    },
    {
     "name": "stdout",
     "output_type": "stream",
     "text": [
      "Train on 4074 samples, validate on 1725 samples\n",
      "Epoch 1/10\n",
      "4074/4074 [==============================] - 29s 7ms/step - loss: 0.6870 - acc: 0.6019 - f1_m: 0.7061 - precision_m: 0.6941 - recall_m: 0.7339 - val_loss: 0.6348 - val_acc: 0.6504 - val_f1_m: 0.7844 - val_precision_m: 0.6632 - val_recall_m: 0.9634\n",
      "Epoch 2/10\n",
      "4074/4074 [==============================] - 24s 6ms/step - loss: 0.6216 - acc: 0.6745 - f1_m: 0.7887 - precision_m: 0.6980 - recall_m: 0.9136 - val_loss: 0.8508 - val_acc: 0.6649 - val_f1_m: 0.7975 - val_precision_m: 0.6649 - val_recall_m: 1.0000\n",
      "Epoch 3/10\n",
      "4074/4074 [==============================] - 24s 6ms/step - loss: 0.6034 - acc: 0.6838 - f1_m: 0.7968 - precision_m: 0.7021 - recall_m: 0.9265 - val_loss: 0.8724 - val_acc: 0.4475 - val_f1_m: 0.3753 - val_precision_m: 0.7599 - val_recall_m: 0.2540\n",
      "Epoch 4/10\n",
      "4074/4074 [==============================] - 23s 6ms/step - loss: 0.5971 - acc: 0.6851 - f1_m: 0.7932 - precision_m: 0.7086 - recall_m: 0.9063 - val_loss: 0.6549 - val_acc: 0.6325 - val_f1_m: 0.7653 - val_precision_m: 0.6632 - val_recall_m: 0.9085\n",
      "Epoch 5/10\n",
      "4074/4074 [==============================] - 23s 6ms/step - loss: 0.5854 - acc: 0.6961 - f1_m: 0.8032 - precision_m: 0.7104 - recall_m: 0.9291 - val_loss: 0.6454 - val_acc: 0.6458 - val_f1_m: 0.7616 - val_precision_m: 0.6883 - val_recall_m: 0.8561\n",
      "Epoch 6/10\n",
      "4074/4074 [==============================] - 25s 6ms/step - loss: 0.5863 - acc: 0.6919 - f1_m: 0.7977 - precision_m: 0.7155 - recall_m: 0.9064 - val_loss: 0.6377 - val_acc: 0.6510 - val_f1_m: 0.7827 - val_precision_m: 0.6651 - val_recall_m: 0.9539\n",
      "Epoch 7/10\n",
      "4074/4074 [==============================] - 23s 6ms/step - loss: 0.5786 - acc: 0.7018 - f1_m: 0.8045 - precision_m: 0.7183 - recall_m: 0.9189 - val_loss: 0.6838 - val_acc: 0.5699 - val_f1_m: 0.6476 - val_precision_m: 0.7054 - val_recall_m: 0.6022\n",
      "Epoch 8/10\n",
      "4074/4074 [==============================] - 24s 6ms/step - loss: 0.5716 - acc: 0.6998 - f1_m: 0.8026 - precision_m: 0.7202 - recall_m: 0.9117 - val_loss: 0.6992 - val_acc: 0.6649 - val_f1_m: 0.7974 - val_precision_m: 0.6651 - val_recall_m: 0.9992\n",
      "Epoch 9/10\n",
      "4074/4074 [==============================] - 23s 6ms/step - loss: 0.5725 - acc: 0.7018 - f1_m: 0.8041 - precision_m: 0.7210 - recall_m: 0.9140 - val_loss: 0.6903 - val_acc: 0.6458 - val_f1_m: 0.7705 - val_precision_m: 0.6743 - val_recall_m: 0.9019\n",
      "Epoch 10/10\n",
      "4074/4074 [==============================] - 23s 6ms/step - loss: 0.5578 - acc: 0.7160 - f1_m: 0.8109 - precision_m: 0.7343 - recall_m: 0.9100 - val_loss: 0.6815 - val_acc: 0.5530 - val_f1_m: 0.6255 - val_precision_m: 0.7011 - val_recall_m: 0.5685\n"
     ]
    }
   ],
   "source": [
    "lstm_hist = lstm.fit(training_set, labels_train, validation_data=\\\n",
    "                                           (test_set, t_labels), nb_epoch = 10,\\\n",
    "                                               batch_size=64)\n"
   ]
  },
  {
   "cell_type": "markdown",
   "metadata": {},
   "source": [
    "##### Plots"
   ]
  },
  {
   "cell_type": "code",
   "execution_count": 108,
   "metadata": {},
   "outputs": [
    {
     "data": {
      "image/png": "[encoded data removed]",
      "text/plain": [
       "<Figure size 432x288 with 1 Axes>"
      ]
     },
     "metadata": {},
     "output_type": "display_data"
    }
   ],
   "source": [
    "\n",
    "plt.plot(lstm_hist.history['val_acc'])\n",
    "plt.plot(lstm_hist.history['val_f1_m'])\n",
    "plt.plot(lstm_hist.history['val_precision_m'])\n",
    "plt.plot(lstm_hist.history['val_recall_m'])\n",
    "\n",
    "\n",
    "plt.title('LSTM')\n",
    "plt.xlabel('epoch')\n",
    "plt.legend(['Accuracy','Precision','Recall','F1-score' ], loc='upper right')\n",
    "plt.show()"
   ]
  },
  {
   "cell_type": "code",
   "execution_count": null,
   "metadata": {},
   "outputs": [],
   "source": []
  },
  {
   "cell_type": "markdown",
   "metadata": {},
   "source": [
    "## BiLSTM "
   ]
  },
  {
   "cell_type": "code",
   "execution_count": 99,
   "metadata": {},
   "outputs": [
    {
     "name": "stdout",
     "output_type": "stream",
     "text": [
      "_________________________________________________________________\n",
      "Layer (type)                 Output Shape              Param #   \n",
      "=================================================================\n",
      "embedding_8 (Embedding)      (None, None, 300)         7092600   \n",
      "_________________________________________________________________\n",
      "bidirectional_2 (Bidirection (None, 600)               1442400   \n",
      "_________________________________________________________________\n",
      "dense_20 (Dense)             (None, 150)               90150     \n",
      "_________________________________________________________________\n",
      "dense_21 (Dense)             (None, 1)                 151       \n",
      "=================================================================\n",
      "Total params: 8,625,301\n",
      "Trainable params: 1,532,701\n",
      "Non-trainable params: 7,092,600\n",
      "_________________________________________________________________\n"
     ]
    }
   ],
   "source": [
    "# BLSTM\n",
    "bilstm_model = Sequential()\n",
    "bilstm_model.add(Embedding(vocab_size, 300,\\\n",
    "                           weights=[embedding_matrix],\\\n",
    "                               trainable=False))\n",
    "bilstm_model.add(Bidirectional(LSTM(300)))\n",
    "bilstm_model.add(Dense(150, input_dim = 300, \\\n",
    "                       activation='relu'))\n",
    "bilstm_model.add(Dense(1, input_dim = 150, \\\n",
    "                       activation='sigmoid'))\n",
    "bilstm_model.compile(loss='binary_crossentropy', \\\n",
    "                     optimizer='adam', \\\n",
    "                     metrics = ['acc',f1_m,precision_m, recall_m])\n",
    "bilstm_model.summary()"
   ]
  },
  {
   "cell_type": "code",
   "execution_count": 100,
   "metadata": {},
   "outputs": [
    {
     "name": "stderr",
     "output_type": "stream",
     "text": [
      "/usr/local/anaconda3/lib/python3.6/site-packages/ipykernel_launcher.py:1: UserWarning: The `nb_epoch` argument in `fit` has been renamed `epochs`.\n",
      "  \"\"\"Entry point for launching an IPython kernel.\n"
     ]
    },
    {
     "name": "stdout",
     "output_type": "stream",
     "text": [
      "Train on 4074 samples, validate on 1725 samples\n",
      "Epoch 1/10\n",
      "4074/4074 [==============================] - 49s 12ms/step - loss: 0.6041 - acc: 0.6841 - f1_m: 0.7935 - precision_m: 0.6920 - recall_m: 0.9489 - val_loss: 0.6327 - val_acc: 0.6643 - val_f1_m: 0.7963 - val_precision_m: 0.6659 - val_recall_m: 0.9941\n",
      "Epoch 2/10\n",
      "4074/4074 [==============================] - 44s 11ms/step - loss: 0.5665 - acc: 0.7106 - f1_m: 0.8099 - precision_m: 0.7253 - recall_m: 0.9240 - val_loss: 0.6385 - val_acc: 0.6429 - val_f1_m: 0.7737 - val_precision_m: 0.6669 - val_recall_m: 0.9253\n",
      "Epoch 3/10\n",
      "4074/4074 [==============================] - 41s 10ms/step - loss: 0.5272 - acc: 0.7359 - f1_m: 0.8210 - precision_m: 0.7530 - recall_m: 0.9098 - val_loss: 0.6778 - val_acc: 0.5855 - val_f1_m: 0.6804 - val_precision_m: 0.6992 - val_recall_m: 0.6664\n",
      "Epoch 4/10\n",
      "4074/4074 [==============================] - 39s 10ms/step - loss: 0.4653 - acc: 0.7833 - f1_m: 0.8467 - precision_m: 0.8085 - recall_m: 0.8985 - val_loss: 0.6869 - val_acc: 0.6220 - val_f1_m: 0.7457 - val_precision_m: 0.6738 - val_recall_m: 0.8386\n",
      "Epoch 5/10\n",
      "4074/4074 [==============================] - 39s 10ms/step - loss: 0.3684 - acc: 0.8378 - f1_m: 0.8823 - precision_m: 0.8607 - recall_m: 0.9091 - val_loss: 0.7526 - val_acc: 0.6104 - val_f1_m: 0.7347 - val_precision_m: 0.6699 - val_recall_m: 0.8164\n",
      "Epoch 6/10\n",
      "4074/4074 [==============================] - 41s 10ms/step - loss: 0.2468 - acc: 0.9033 - f1_m: 0.9287 - precision_m: 0.9207 - recall_m: 0.9385 - val_loss: 1.0827 - val_acc: 0.6261 - val_f1_m: 0.7502 - val_precision_m: 0.6740 - val_recall_m: 0.8501\n",
      "Epoch 7/10\n",
      "4074/4074 [==============================] - 49s 12ms/step - loss: 0.1571 - acc: 0.9354 - f1_m: 0.9521 - precision_m: 0.9499 - recall_m: 0.9557 - val_loss: 1.1037 - val_acc: 0.6110 - val_f1_m: 0.7259 - val_precision_m: 0.6824 - val_recall_m: 0.7800\n",
      "Epoch 8/10\n",
      "4074/4074 [==============================] - 46s 11ms/step - loss: 0.0837 - acc: 0.9713 - f1_m: 0.9782 - precision_m: 0.9759 - recall_m: 0.9810 - val_loss: 1.5197 - val_acc: 0.5855 - val_f1_m: 0.6956 - val_precision_m: 0.6777 - val_recall_m: 0.7192\n",
      "Epoch 9/10\n",
      "4074/4074 [==============================] - 45s 11ms/step - loss: 0.0541 - acc: 0.9843 - f1_m: 0.9882 - precision_m: 0.9900 - recall_m: 0.9867 - val_loss: 1.6587 - val_acc: 0.5925 - val_f1_m: 0.7100 - val_precision_m: 0.6725 - val_recall_m: 0.7557\n",
      "Epoch 10/10\n",
      "4074/4074 [==============================] - 42s 10ms/step - loss: 0.0431 - acc: 0.9875 - f1_m: 0.9908 - precision_m: 0.9892 - recall_m: 0.9926 - val_loss: 1.8808 - val_acc: 0.5983 - val_f1_m: 0.7165 - val_precision_m: 0.6720 - val_recall_m: 0.7705\n"
     ]
    }
   ],
   "source": [
    "bilstm_hist = bilstm_model.fit(training_set, labels_train, \\\n",
    "                               validation_data=(test_set, t_labels),\\\n",
    "                                   nb_epoch = 10, batch_size=64)"
   ]
  },
  {
   "cell_type": "code",
   "execution_count": null,
   "metadata": {},
   "outputs": [],
   "source": []
  },
  {
   "cell_type": "code",
   "execution_count": null,
   "metadata": {},
   "outputs": [],
   "source": []
  },
  {
   "cell_type": "code",
   "execution_count": 101,
   "metadata": {},
   "outputs": [],
   "source": [
    "import matplotlib.pyplot as plt\n",
    "%matplotlib inline"
   ]
  },
  {
   "cell_type": "code",
   "execution_count": 102,
   "metadata": {},
   "outputs": [
    {
     "data": {
      "image/png": "[encoded data removed]",
      "text/plain": [
       "<Figure size 432x288 with 1 Axes>"
      ]
     },
     "metadata": {},
     "output_type": "display_data"
    }
   ],
   "source": [
    "plt.plot(bilstm_hist.history['val_acc'])\n",
    "plt.plot(bilstm_hist.history['val_f1_m'])\n",
    "plt.plot(bilstm_hist.history['val_precision_m'])\n",
    "plt.plot(bilstm_hist.history['val_recall_m'])\n",
    "\n",
    "\n",
    "plt.title('BiLSTM')\n",
    "# plt.ylabel('accuracy')\n",
    "plt.xlabel('epoch')\n",
    "plt.legend(['Accuracy','Precision','Recall','F1-score' ], loc='upper right')\n",
    "plt.show()"
   ]
  },
  {
   "cell_type": "code",
   "execution_count": null,
   "metadata": {},
   "outputs": [],
   "source": []
  }
 ],
 "metadata": {
  "kernelspec": {
   "display_name": "Python 3",
   "language": "python",
   "name": "python3"
  },
  "language_info": {
   "codemirror_mode": {
    "name": "ipython",
    "version": 3
   },
   "file_extension": ".py",
   "mimetype": "text/x-python",
   "name": "python",
   "nbconvert_exporter": "python",
   "pygments_lexer": "ipython3",
   "version": "3.6.5"
  }
 },
 "nbformat": 4,
 "nbformat_minor": 2
}
