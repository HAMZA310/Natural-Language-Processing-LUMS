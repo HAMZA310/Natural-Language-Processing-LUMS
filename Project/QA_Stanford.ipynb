{
  "nbformat": 4,
  "nbformat_minor": 0,
  "metadata": {
    "colab": {
      "name": "QA_Stanford.ipynb",
      "version": "0.3.2",
      "provenance": [],
      "collapsed_sections": []
    },
    "kernelspec": {
      "name": "python3",
      "display_name": "Python 3"
    },
    "accelerator": "GPU"
  },
  "cells": [
    {
      "cell_type": "markdown",
      "metadata": {
        "id": "sfbd1Sdaj2V7",
        "colab_type": "text"
      },
      "source": [
        "For tensor board SSH"
      ]
    },
    {
      "cell_type": "code",
      "metadata": {
        "id": "ZCizU1R0KLOc",
        "colab_type": "code",
        "colab": {}
      },
      "source": [
        ""
      ],
      "execution_count": 0,
      "outputs": []
    },
    {
      "cell_type": "code",
      "metadata": {
        "id": "cXRM8wHzKLLY",
        "colab_type": "code",
        "outputId": "ad8709eb-e971-4cc1-8f36-9ff57501e471",
        "colab": {
          "base_uri": "https://localhost:8080/",
          "height": 258
        }
      },
      "source": [
        "!wget https://bin.equinox.io/c/4VmDzA7iaHb/ngrok-stable-linux-amd64.zip\n",
        "!unzip ngrok-stable-linux-amd64.zip"
      ],
      "execution_count": 0,
      "outputs": [
        {
          "output_type": "stream",
          "text": [
            "--2019-05-05 19:13:26--  https://bin.equinox.io/c/4VmDzA7iaHb/ngrok-stable-linux-amd64.zip\n",
            "Resolving bin.equinox.io (bin.equinox.io)... 34.196.237.103, 54.174.228.92, 52.55.191.55, ...\n",
            "Connecting to bin.equinox.io (bin.equinox.io)|34.196.237.103|:443... connected.\n",
            "HTTP request sent, awaiting response... 200 OK\n",
            "Length: 14991793 (14M) [application/octet-stream]\n",
            "Saving to: ‘ngrok-stable-linux-amd64.zip.3’\n",
            "\n",
            "ngrok-stable-linux- 100%[===================>]  14.30M  7.07MB/s    in 2.0s    \n",
            "\n",
            "2019-05-05 19:13:28 (7.07 MB/s) - ‘ngrok-stable-linux-amd64.zip.3’ saved [14991793/14991793]\n",
            "\n",
            "Archive:  ngrok-stable-linux-amd64.zip\n",
            "replace ngrok? [y]es, [n]o, [A]ll, [N]one, [r]ename: n\n"
          ],
          "name": "stdout"
        }
      ]
    },
    {
      "cell_type": "code",
      "metadata": {
        "id": "N_YaSFZTb7qM",
        "colab_type": "code",
        "colab": {}
      },
      "source": [
        ""
      ],
      "execution_count": 0,
      "outputs": []
    },
    {
      "cell_type": "code",
      "metadata": {
        "id": "1cbpLBA0b3LC",
        "colab_type": "code",
        "outputId": "62e317f0-00a7-434d-e35c-8a715e057adf",
        "colab": {
          "base_uri": "https://localhost:8080/",
          "height": 395
        }
      },
      "source": [
        "import tensorflow as tf\n",
        "path_to_events_file = './save/train/baseline-11/log.txt'\n",
        "for e in tf.train.summary_iterator(path_to_events_file):\n",
        "    for v in e.summary.value:\n",
        "        if v.tag == 'loss' or v.tag == 'accuracy':\n",
        "            print(v.simple_value)"
      ],
      "execution_count": 0,
      "outputs": [
        {
          "output_type": "error",
          "ename": "DataLossError",
          "evalue": "ignored",
          "traceback": [
            "\u001b[0;31m---------------------------------------------------------------------------\u001b[0m",
            "\u001b[0;31mDataLossError\u001b[0m                             Traceback (most recent call last)",
            "\u001b[0;32m<ipython-input-59-130374a8872d>\u001b[0m in \u001b[0;36m<module>\u001b[0;34m()\u001b[0m\n\u001b[1;32m      1\u001b[0m \u001b[0;32mimport\u001b[0m \u001b[0mtensorflow\u001b[0m \u001b[0;32mas\u001b[0m \u001b[0mtf\u001b[0m\u001b[0;34m\u001b[0m\u001b[0;34m\u001b[0m\u001b[0m\n\u001b[1;32m      2\u001b[0m \u001b[0mpath_to_events_file\u001b[0m \u001b[0;34m=\u001b[0m \u001b[0;34m'./save/train/baseline-11/log.txt'\u001b[0m\u001b[0;34m\u001b[0m\u001b[0;34m\u001b[0m\u001b[0m\n\u001b[0;32m----> 3\u001b[0;31m \u001b[0;32mfor\u001b[0m \u001b[0me\u001b[0m \u001b[0;32min\u001b[0m \u001b[0mtf\u001b[0m\u001b[0;34m.\u001b[0m\u001b[0mtrain\u001b[0m\u001b[0;34m.\u001b[0m\u001b[0msummary_iterator\u001b[0m\u001b[0;34m(\u001b[0m\u001b[0mpath_to_events_file\u001b[0m\u001b[0;34m)\u001b[0m\u001b[0;34m:\u001b[0m\u001b[0;34m\u001b[0m\u001b[0;34m\u001b[0m\u001b[0m\n\u001b[0m\u001b[1;32m      4\u001b[0m     \u001b[0;32mfor\u001b[0m \u001b[0mv\u001b[0m \u001b[0;32min\u001b[0m \u001b[0me\u001b[0m\u001b[0;34m.\u001b[0m\u001b[0msummary\u001b[0m\u001b[0;34m.\u001b[0m\u001b[0mvalue\u001b[0m\u001b[0;34m:\u001b[0m\u001b[0;34m\u001b[0m\u001b[0;34m\u001b[0m\u001b[0m\n\u001b[1;32m      5\u001b[0m         \u001b[0;32mif\u001b[0m \u001b[0mv\u001b[0m\u001b[0;34m.\u001b[0m\u001b[0mtag\u001b[0m \u001b[0;34m==\u001b[0m \u001b[0;34m'loss'\u001b[0m \u001b[0;32mor\u001b[0m \u001b[0mv\u001b[0m\u001b[0;34m.\u001b[0m\u001b[0mtag\u001b[0m \u001b[0;34m==\u001b[0m \u001b[0;34m'accuracy'\u001b[0m\u001b[0;34m:\u001b[0m\u001b[0;34m\u001b[0m\u001b[0;34m\u001b[0m\u001b[0m\n",
            "\u001b[0;32m/usr/local/lib/python3.6/dist-packages/tensorflow/python/summary/summary_iterator.py\u001b[0m in \u001b[0;36msummary_iterator\u001b[0;34m(path)\u001b[0m\n\u001b[1;32m     66\u001b[0m   \"\"\"\n\u001b[1;32m     67\u001b[0m   \u001b[0;31m# pylint: enable=line-too-long\u001b[0m\u001b[0;34m\u001b[0m\u001b[0;34m\u001b[0m\u001b[0;34m\u001b[0m\u001b[0m\n\u001b[0;32m---> 68\u001b[0;31m   \u001b[0;32mfor\u001b[0m \u001b[0mr\u001b[0m \u001b[0;32min\u001b[0m \u001b[0mtf_record\u001b[0m\u001b[0;34m.\u001b[0m\u001b[0mtf_record_iterator\u001b[0m\u001b[0;34m(\u001b[0m\u001b[0mpath\u001b[0m\u001b[0;34m)\u001b[0m\u001b[0;34m:\u001b[0m\u001b[0;34m\u001b[0m\u001b[0;34m\u001b[0m\u001b[0m\n\u001b[0m\u001b[1;32m     69\u001b[0m     \u001b[0;32myield\u001b[0m \u001b[0mevent_pb2\u001b[0m\u001b[0;34m.\u001b[0m\u001b[0mEvent\u001b[0m\u001b[0;34m.\u001b[0m\u001b[0mFromString\u001b[0m\u001b[0;34m(\u001b[0m\u001b[0mr\u001b[0m\u001b[0;34m)\u001b[0m\u001b[0;34m\u001b[0m\u001b[0;34m\u001b[0m\u001b[0m\n",
            "\u001b[0;32m/usr/local/lib/python3.6/dist-packages/tensorflow/python/lib/io/tf_record.py\u001b[0m in \u001b[0;36mtf_record_iterator\u001b[0;34m(path, options)\u001b[0m\n\u001b[1;32m    179\u001b[0m     \u001b[0;32mwhile\u001b[0m \u001b[0;32mTrue\u001b[0m\u001b[0;34m:\u001b[0m\u001b[0;34m\u001b[0m\u001b[0;34m\u001b[0m\u001b[0m\n\u001b[1;32m    180\u001b[0m       \u001b[0;32mtry\u001b[0m\u001b[0;34m:\u001b[0m\u001b[0;34m\u001b[0m\u001b[0;34m\u001b[0m\u001b[0m\n\u001b[0;32m--> 181\u001b[0;31m         \u001b[0mreader\u001b[0m\u001b[0;34m.\u001b[0m\u001b[0mGetNext\u001b[0m\u001b[0;34m(\u001b[0m\u001b[0;34m)\u001b[0m\u001b[0;34m\u001b[0m\u001b[0;34m\u001b[0m\u001b[0m\n\u001b[0m\u001b[1;32m    182\u001b[0m       \u001b[0;32mexcept\u001b[0m \u001b[0merrors\u001b[0m\u001b[0;34m.\u001b[0m\u001b[0mOutOfRangeError\u001b[0m\u001b[0;34m:\u001b[0m\u001b[0;34m\u001b[0m\u001b[0;34m\u001b[0m\u001b[0m\n\u001b[1;32m    183\u001b[0m         \u001b[0;32mbreak\u001b[0m\u001b[0;34m\u001b[0m\u001b[0;34m\u001b[0m\u001b[0m\n",
            "\u001b[0;32m/usr/local/lib/python3.6/dist-packages/tensorflow/python/pywrap_tensorflow_internal.py\u001b[0m in \u001b[0;36mGetNext\u001b[0;34m(self)\u001b[0m\n\u001b[1;32m    487\u001b[0m \u001b[0;34m\u001b[0m\u001b[0m\n\u001b[1;32m    488\u001b[0m     \u001b[0;32mdef\u001b[0m \u001b[0mGetNext\u001b[0m\u001b[0;34m(\u001b[0m\u001b[0mself\u001b[0m\u001b[0;34m)\u001b[0m\u001b[0;34m:\u001b[0m\u001b[0;34m\u001b[0m\u001b[0;34m\u001b[0m\u001b[0m\n\u001b[0;32m--> 489\u001b[0;31m         \u001b[0;32mreturn\u001b[0m \u001b[0m_pywrap_tensorflow_internal\u001b[0m\u001b[0;34m.\u001b[0m\u001b[0mPyRecordReader_GetNext\u001b[0m\u001b[0;34m(\u001b[0m\u001b[0mself\u001b[0m\u001b[0;34m)\u001b[0m\u001b[0;34m\u001b[0m\u001b[0;34m\u001b[0m\u001b[0m\n\u001b[0m\u001b[1;32m    490\u001b[0m \u001b[0;34m\u001b[0m\u001b[0m\n\u001b[1;32m    491\u001b[0m     \u001b[0;32mdef\u001b[0m \u001b[0mrecord\u001b[0m\u001b[0;34m(\u001b[0m\u001b[0mself\u001b[0m\u001b[0;34m)\u001b[0m\u001b[0;34m:\u001b[0m\u001b[0;34m\u001b[0m\u001b[0;34m\u001b[0m\u001b[0m\n",
            "\u001b[0;31mDataLossError\u001b[0m: corrupted record at 0"
          ]
        }
      ]
    },
    {
      "cell_type": "code",
      "metadata": {
        "id": "P10IgXbHSD0Y",
        "colab_type": "code",
        "outputId": "cb42a005-b361-430a-c437-cfe8033c8786",
        "colab": {
          "base_uri": "https://localhost:8080/",
          "height": 102
        }
      },
      "source": [
        "!ls"
      ],
      "execution_count": 0,
      "outputs": [
        {
          "output_type": "stream",
          "text": [
            "args.py\t\t ngrok\t\t\t\t save\n",
            "data\t\t ngrok-stable-linux-amd64.zip\t setup.py\n",
            "environment.yml  ngrok-stable-linux-amd64.zip.1  test.py\n",
            "layers.py\t ngrok-stable-linux-amd64.zip.2  train.py\n",
            "models.py\t __pycache__\t\t\t util.py\n"
          ],
          "name": "stdout"
        }
      ]
    },
    {
      "cell_type": "code",
      "metadata": {
        "id": "JpyqO9FOKLIc",
        "colab_type": "code",
        "colab": {}
      },
      "source": [
        "LOG_DIR = './log.txt'\n",
        "get_ipython().system_raw(\n",
        "    'tensorboard --logdir {} --host 0.0.0.0 --port 6006'.format(LOG_DIR)\n",
        ")"
      ],
      "execution_count": 0,
      "outputs": []
    },
    {
      "cell_type": "code",
      "metadata": {
        "id": "ty0qdtyEKQbe",
        "colab_type": "code",
        "colab": {}
      },
      "source": [
        "get_ipython().system_raw('./ngrok http 6006 &')"
      ],
      "execution_count": 0,
      "outputs": []
    },
    {
      "cell_type": "code",
      "metadata": {
        "id": "4m6IB_GMKQX9",
        "colab_type": "code",
        "outputId": "926c2831-88a8-4819-b2c8-ba5a0241ff67",
        "colab": {
          "base_uri": "https://localhost:8080/",
          "height": 34
        }
      },
      "source": [
        "! curl -s http://localhost:4040/api/tunnels | python3 -c \\\n",
        "    \"import sys, json; print(json.load(sys.stdin)['tunnels'][0]['public_url'])\""
      ],
      "execution_count": 0,
      "outputs": [
        {
          "output_type": "stream",
          "text": [
            "https://8aaf8bfa.ngrok.io\n"
          ],
          "name": "stdout"
        }
      ]
    },
    {
      "cell_type": "code",
      "metadata": {
        "id": "37n-37DJTMAI",
        "colab_type": "code",
        "outputId": "b6fc510c-06c0-49d9-b91a-3fd8c4644053",
        "colab": {
          "base_uri": "https://localhost:8080/",
          "height": 34
        }
      },
      "source": [
        "%cd .."
      ],
      "execution_count": 0,
      "outputs": [
        {
          "output_type": "stream",
          "text": [
            "/content/squad\n"
          ],
          "name": "stdout"
        }
      ]
    },
    {
      "cell_type": "code",
      "metadata": {
        "id": "jRHLTgtXKLE3",
        "colab_type": "code",
        "outputId": "5ee31b13-0c46-490e-fb38-eb83b282f188",
        "colab": {
          "base_uri": "https://localhost:8080/",
          "height": 54
        }
      },
      "source": [
        "!python train.py -n baseline"
      ],
      "execution_count": 0,
      "outputs": [
        {
          "output_type": "stream",
          "text": [
            "python3: can't open file 'train.py': [Errno 2] No such file or directory\n"
          ],
          "name": "stdout"
        }
      ]
    },
    {
      "cell_type": "code",
      "metadata": {
        "id": "VnoSp_y5h377",
        "colab_type": "code",
        "outputId": "31323a41-6148-4d26-cd03-45ec34aab1c0",
        "colab": {
          "base_uri": "https://localhost:8080/",
          "height": 85
        }
      },
      "source": [
        "import random, string, urllib.request, json, getpass\n",
        "\n",
        "#Generate root password\n",
        "password = ''.join(random.choice(string.ascii_letters + string.digits) for i in range(20))\n",
        "\n",
        "#Download ngrok\n",
        "! wget -q -c -nc https://bin.equinox.io/c/4VmDzA7iaHb/ngrok-stable-linux-amd64.zip\n",
        "! unzip -qq -n ngrok-stable-linux-amd64.zip\n",
        "\n",
        "#Setup sshd\n",
        "! apt-get install -qq -o=Dpkg::Use-Pty=0 openssh-server pwgen > /dev/null\n",
        "\n",
        "#Set root password\n",
        "! echo root:$password | chpasswd\n",
        "! mkdir -p /var/run/sshd\n",
        "! echo \"PermitRootLogin yes\" >> /etc/ssh/sshd_config\n",
        "! echo \"PasswordAuthentication yes\" >> /etc/ssh/sshd_config\n",
        "! echo \"LD_LIBRARY_PATH=/usr/lib64-nvidia\" >> /root/.bashrc\n",
        "! echo \"export LD_LIBRARY_PATH\" >> /root/.bashrc\n",
        "\n",
        "#Run sshd\n",
        "get_ipython().system_raw('/usr/sbin/sshd -D &')\n",
        "\n",
        "#Ask token\n",
        "print(\"Copy authtoken from https://dashboard.ngrok.com/auth\")\n",
        "authtoken = getpass.getpass()\n",
        "\n",
        "#Create tunnel\n",
        "get_ipython().system_raw('./ngrok authtoken $authtoken && ./ngrok tcp 22 &')\n",
        "\n",
        "#Get public address and print connect command\n",
        "with urllib.request.urlopen('http://localhost:4040/api/tunnels') as response:\n",
        "  data = json.loads(response.read().decode())\n",
        "  (host, port) = data['tunnels'][0]['public_url'][6:].split(':')\n",
        "  print(f'SSH command: ssh -p{port} root@{host}')\n",
        "\n",
        "#Print root password\n",
        "print(f'Root password: {password}')"
      ],
      "execution_count": 0,
      "outputs": [
        {
          "output_type": "stream",
          "text": [
            "Copy authtoken from https://dashboard.ngrok.com/auth\n",
            "··········\n",
            "SSH command: ssh -p19666 root@0.tcp.ngrok.io\n",
            "Root password: FW5fvwAQPljSuphP6LJv\n"
          ],
          "name": "stdout"
        }
      ]
    },
    {
      "cell_type": "code",
      "metadata": {
        "id": "_P2iS-oWWVIz",
        "colab_type": "code",
        "colab": {}
      },
      "source": [
        ""
      ],
      "execution_count": 0,
      "outputs": []
    },
    {
      "cell_type": "code",
      "metadata": {
        "id": "k4nDPUeoh9ip",
        "colab_type": "code",
        "colab": {}
      },
      "source": [
        "#user ssh: -p19666 root@0.tcp.ngrok.io\n",
        "# pass ssh: FW5fvwAQPljSuphP6LJv"
      ],
      "execution_count": 0,
      "outputs": []
    },
    {
      "cell_type": "code",
      "metadata": {
        "id": "kvSFonP-h9ff",
        "colab_type": "code",
        "colab": {}
      },
      "source": [
        ""
      ],
      "execution_count": 0,
      "outputs": []
    },
    {
      "cell_type": "code",
      "metadata": {
        "id": "EvOrNij6gr-o",
        "colab_type": "code",
        "outputId": "0cbf27ff-5c9e-4b1a-e32b-971028b23c5f",
        "colab": {
          "base_uri": "https://localhost:8080/",
          "height": 122
        }
      },
      "source": [
        "from google.colab import drive, files\n",
        "drive.mount('/gdrive')"
      ],
      "execution_count": 0,
      "outputs": [
        {
          "output_type": "stream",
          "text": [
            "Go to this URL in a browser: https://accounts.google.com/o/oauth2/auth?client_id=947318989803-6bn6qk8qdgf4n4g3pfee6491hc0brc4i.apps.googleusercontent.com&redirect_uri=urn%3Aietf%3Awg%3Aoauth%3A2.0%3Aoob&scope=email%20https%3A%2F%2Fwww.googleapis.com%2Fauth%2Fdocs.test%20https%3A%2F%2Fwww.googleapis.com%2Fauth%2Fdrive%20https%3A%2F%2Fwww.googleapis.com%2Fauth%2Fdrive.photos.readonly%20https%3A%2F%2Fwww.googleapis.com%2Fauth%2Fpeopleapi.readonly&response_type=code\n",
            "\n",
            "Enter your authorization code:\n",
            "··········\n",
            "Mounted at /gdrive\n"
          ],
          "name": "stdout"
        }
      ]
    },
    {
      "cell_type": "code",
      "metadata": {
        "id": "ihvRFjiqLZ6S",
        "colab_type": "code",
        "outputId": "738cdf7f-44c9-432a-8f0b-92254230bb62",
        "colab": {
          "base_uri": "https://localhost:8080/",
          "height": 85
        }
      },
      "source": [
        "!git clone https://github.com/chrischute/squad.git"
      ],
      "execution_count": 0,
      "outputs": [
        {
          "output_type": "stream",
          "text": [
            "Cloning into 'squad'...\n",
            "remote: Enumerating objects: 17, done.\u001b[K\n",
            "remote: Total 17 (delta 0), reused 0 (delta 0), pack-reused 17\u001b[K\n",
            "Unpacking objects: 100% (17/17), done.\n"
          ],
          "name": "stdout"
        }
      ]
    },
    {
      "cell_type": "code",
      "metadata": {
        "id": "kMrqXe_QCR-t",
        "colab_type": "code",
        "colab": {}
      },
      "source": [
        ""
      ],
      "execution_count": 0,
      "outputs": []
    },
    {
      "cell_type": "markdown",
      "metadata": {
        "id": "oFQ4bNFhCUcg",
        "colab_type": "text"
      },
      "source": [
        "change directory to squad\n",
        "> %cd squad or %cd content/squad"
      ]
    },
    {
      "cell_type": "code",
      "metadata": {
        "id": "6zopiPubUtyJ",
        "colab_type": "code",
        "outputId": "00bcc968-8305-4d68-fc08-03be9e992417",
        "colab": {
          "base_uri": "https://localhost:8080/",
          "height": 34
        }
      },
      "source": [
        "!ls\n"
      ],
      "execution_count": 0,
      "outputs": [
        {
          "output_type": "stream",
          "text": [
            "sample_data  squad\n"
          ],
          "name": "stdout"
        }
      ]
    },
    {
      "cell_type": "code",
      "metadata": {
        "id": "2eFh8ptGRsfe",
        "colab_type": "code",
        "outputId": "70d5400e-8519-4d89-c1c1-458940f011b0",
        "colab": {
          "base_uri": "https://localhost:8080/",
          "height": 34
        }
      },
      "source": [
        "%cd squad/data"
      ],
      "execution_count": 0,
      "outputs": [
        {
          "output_type": "stream",
          "text": [
            "/content/squad/data\n"
          ],
          "name": "stdout"
        }
      ]
    },
    {
      "cell_type": "code",
      "metadata": {
        "id": "KESkEptRQOEE",
        "colab_type": "code",
        "colab": {}
      },
      "source": [
        "# %cd squad\n",
        "import sys, os\n",
        "sys.path.append(os.getcwd())\n"
      ],
      "execution_count": 0,
      "outputs": []
    },
    {
      "cell_type": "code",
      "metadata": {
        "id": "dzhBu9S5quBw",
        "colab_type": "code",
        "outputId": "e6679c0f-76a8-4194-95b8-223236f1b01b",
        "colab": {
          "base_uri": "https://localhost:8080/",
          "height": 34
        }
      },
      "source": [
        "!ls\n"
      ],
      "execution_count": 0,
      "outputs": [
        {
          "output_type": "stream",
          "text": [
            "ngrok  ngrok-stable-linux-amd64.zip  sample_data  squad\n"
          ],
          "name": "stdout"
        }
      ]
    },
    {
      "cell_type": "code",
      "metadata": {
        "id": "SFBbZch6rOOp",
        "colab_type": "code",
        "colab": {}
      },
      "source": [
        ""
      ],
      "execution_count": 0,
      "outputs": []
    },
    {
      "cell_type": "code",
      "metadata": {
        "id": "ZMNmxGh3rOli",
        "colab_type": "code",
        "outputId": "529c75e2-0868-4e00-8279-f55473302e61",
        "colab": {
          "base_uri": "https://localhost:8080/",
          "height": 51
        }
      },
      "source": [
        "# %cd data\n",
        "# Install the PyDrive wrapper & import libraries.\n",
        "# This only needs to be done once per notebook.\n",
        "!pip install -U -q PyDrive\n",
        "from pydrive.auth import GoogleAuth\n",
        "from pydrive.drive import GoogleDrive\n",
        "from google.colab import auth\n",
        "from oauth2client.client import GoogleCredentials\n",
        "\n",
        "# Authenticate and create the PyDrive client.\n",
        "# This only needs to be done once per notebook.\n",
        "auth.authenticate_user()\n",
        "gauth = GoogleAuth()\n",
        "gauth.credentials = GoogleCredentials.get_application_default()\n",
        "drive = GoogleDrive(gauth)\n",
        "\n"
      ],
      "execution_count": 0,
      "outputs": [
        {
          "output_type": "stream",
          "text": [
            "\u001b[?25l\r\u001b[K     |▎                               | 10kB 23.0MB/s eta 0:00:01\r\u001b[K     |▋                               | 20kB 2.1MB/s eta 0:00:01\r\u001b[K     |█                               | 30kB 3.1MB/s eta 0:00:01\r\u001b[K     |█▎                              | 40kB 2.0MB/s eta 0:00:01\r\u001b[K     |█▋                              | 51kB 2.5MB/s eta 0:00:01\r\u001b[K     |██                              | 61kB 3.0MB/s eta 0:00:01\r\u001b[K     |██▎                             | 71kB 3.5MB/s eta 0:00:01\r\u001b[K     |██▋                             | 81kB 3.9MB/s eta 0:00:01\r\u001b[K     |███                             | 92kB 4.4MB/s eta 0:00:01\r\u001b[K     |███▎                            | 102kB 3.3MB/s eta 0:00:01\r\u001b[K     |███▋                            | 112kB 3.3MB/s eta 0:00:01\r\u001b[K     |████                            | 122kB 3.3MB/s eta 0:00:01\r\u001b[K     |████▎                           | 133kB 3.3MB/s eta 0:00:01\r\u001b[K     |████▋                           | 143kB 3.3MB/s eta 0:00:01\r\u001b[K     |█████                           | 153kB 3.3MB/s eta 0:00:01\r\u001b[K     |█████▎                          | 163kB 3.3MB/s eta 0:00:01\r\u001b[K     |█████▋                          | 174kB 3.3MB/s eta 0:00:01\r\u001b[K     |██████                          | 184kB 3.3MB/s eta 0:00:01\r\u001b[K     |██████▎                         | 194kB 3.3MB/s eta 0:00:01\r\u001b[K     |██████▋                         | 204kB 3.3MB/s eta 0:00:01\r\u001b[K     |███████                         | 215kB 3.3MB/s eta 0:00:01\r\u001b[K     |███████▎                        | 225kB 3.3MB/s eta 0:00:01\r\u001b[K     |███████▋                        | 235kB 3.3MB/s eta 0:00:01\r\u001b[K     |████████                        | 245kB 3.3MB/s eta 0:00:01\r\u001b[K     |████████▎                       | 256kB 3.3MB/s eta 0:00:01\r\u001b[K     |████████▋                       | 266kB 3.3MB/s eta 0:00:01\r\u001b[K     |█████████                       | 276kB 3.3MB/s eta 0:00:01\r\u001b[K     |█████████▎                      | 286kB 3.3MB/s eta 0:00:01\r\u001b[K     |█████████▋                      | 296kB 3.3MB/s eta 0:00:01\r\u001b[K     |██████████                      | 307kB 3.3MB/s eta 0:00:01\r\u001b[K     |██████████▎                     | 317kB 3.3MB/s eta 0:00:01\r\u001b[K     |██████████▋                     | 327kB 3.3MB/s eta 0:00:01\r\u001b[K     |███████████                     | 337kB 3.3MB/s eta 0:00:01\r\u001b[K     |███████████▎                    | 348kB 3.3MB/s eta 0:00:01\r\u001b[K     |███████████▋                    | 358kB 3.3MB/s eta 0:00:01\r\u001b[K     |████████████                    | 368kB 3.3MB/s eta 0:00:01\r\u001b[K     |████████████▎                   | 378kB 3.3MB/s eta 0:00:01\r\u001b[K     |████████████▋                   | 389kB 3.3MB/s eta 0:00:01\r\u001b[K     |█████████████                   | 399kB 3.3MB/s eta 0:00:01\r\u001b[K     |█████████████▎                  | 409kB 3.3MB/s eta 0:00:01\r\u001b[K     |█████████████▋                  | 419kB 3.3MB/s eta 0:00:01\r\u001b[K     |██████████████                  | 430kB 3.3MB/s eta 0:00:01\r\u001b[K     |██████████████▎                 | 440kB 3.3MB/s eta 0:00:01\r\u001b[K     |██████████████▋                 | 450kB 3.3MB/s eta 0:00:01\r\u001b[K     |███████████████                 | 460kB 3.3MB/s eta 0:00:01\r\u001b[K     |███████████████▎                | 471kB 3.3MB/s eta 0:00:01\r\u001b[K     |███████████████▋                | 481kB 3.3MB/s eta 0:00:01\r\u001b[K     |████████████████                | 491kB 3.3MB/s eta 0:00:01\r\u001b[K     |████████████████▎               | 501kB 3.3MB/s eta 0:00:01\r\u001b[K     |████████████████▋               | 512kB 3.3MB/s eta 0:00:01\r\u001b[K     |█████████████████               | 522kB 3.3MB/s eta 0:00:01\r\u001b[K     |█████████████████▎              | 532kB 3.3MB/s eta 0:00:01\r\u001b[K     |█████████████████▋              | 542kB 3.3MB/s eta 0:00:01\r\u001b[K     |██████████████████              | 552kB 3.3MB/s eta 0:00:01\r\u001b[K     |██████████████████▎             | 563kB 3.3MB/s eta 0:00:01\r\u001b[K     |██████████████████▋             | 573kB 3.3MB/s eta 0:00:01\r\u001b[K     |███████████████████             | 583kB 3.3MB/s eta 0:00:01\r\u001b[K     |███████████████████▎            | 593kB 3.3MB/s eta 0:00:01\r\u001b[K     |███████████████████▋            | 604kB 3.3MB/s eta 0:00:01\r\u001b[K     |████████████████████            | 614kB 3.3MB/s eta 0:00:01\r\u001b[K     |████████████████████▎           | 624kB 3.3MB/s eta 0:00:01\r\u001b[K     |████████████████████▋           | 634kB 3.3MB/s eta 0:00:01\r\u001b[K     |█████████████████████           | 645kB 3.3MB/s eta 0:00:01\r\u001b[K     |█████████████████████▎          | 655kB 3.3MB/s eta 0:00:01\r\u001b[K     |█████████████████████▋          | 665kB 3.3MB/s eta 0:00:01\r\u001b[K     |██████████████████████          | 675kB 3.3MB/s eta 0:00:01\r\u001b[K     |██████████████████████▎         | 686kB 3.3MB/s eta 0:00:01\r\u001b[K     |██████████████████████▋         | 696kB 3.3MB/s eta 0:00:01\r\u001b[K     |███████████████████████         | 706kB 3.3MB/s eta 0:00:01\r\u001b[K     |███████████████████████▎        | 716kB 3.3MB/s eta 0:00:01\r\u001b[K     |███████████████████████▋        | 727kB 3.3MB/s eta 0:00:01\r\u001b[K     |████████████████████████        | 737kB 3.3MB/s eta 0:00:01\r\u001b[K     |████████████████████████▎       | 747kB 3.3MB/s eta 0:00:01\r\u001b[K     |████████████████████████▋       | 757kB 3.3MB/s eta 0:00:01\r\u001b[K     |████████████████████████▉       | 768kB 3.3MB/s eta 0:00:01\r\u001b[K     |█████████████████████████▏      | 778kB 3.3MB/s eta 0:00:01\r\u001b[K     |█████████████████████████▌      | 788kB 3.3MB/s eta 0:00:01\r\u001b[K     |█████████████████████████▉      | 798kB 3.3MB/s eta 0:00:01\r\u001b[K     |██████████████████████████▏     | 808kB 3.3MB/s eta 0:00:01\r\u001b[K     |██████████████████████████▌     | 819kB 3.3MB/s eta 0:00:01\r\u001b[K     |██████████████████████████▉     | 829kB 3.3MB/s eta 0:00:01\r\u001b[K     |███████████████████████████▏    | 839kB 3.3MB/s eta 0:00:01\r\u001b[K     |███████████████████████████▌    | 849kB 3.3MB/s eta 0:00:01\r\u001b[K     |███████████████████████████▉    | 860kB 3.3MB/s eta 0:00:01\r\u001b[K     |████████████████████████████▏   | 870kB 3.3MB/s eta 0:00:01\r\u001b[K     |████████████████████████████▌   | 880kB 3.3MB/s eta 0:00:01\r\u001b[K     |████████████████████████████▉   | 890kB 3.3MB/s eta 0:00:01\r\u001b[K     |█████████████████████████████▏  | 901kB 3.3MB/s eta 0:00:01\r\u001b[K     |█████████████████████████████▌  | 911kB 3.3MB/s eta 0:00:01\r\u001b[K     |█████████████████████████████▉  | 921kB 3.3MB/s eta 0:00:01\r\u001b[K     |██████████████████████████████▏ | 931kB 3.3MB/s eta 0:00:01\r\u001b[K     |██████████████████████████████▌ | 942kB 3.3MB/s eta 0:00:01\r\u001b[K     |██████████████████████████████▉ | 952kB 3.3MB/s eta 0:00:01\r\u001b[K     |███████████████████████████████▏| 962kB 3.3MB/s eta 0:00:01\r\u001b[K     |███████████████████████████████▌| 972kB 3.3MB/s eta 0:00:01\r\u001b[K     |███████████████████████████████▉| 983kB 3.3MB/s eta 0:00:01\r\u001b[K     |████████████████████████████████| 993kB 3.3MB/s \n",
            "\u001b[?25h  Building wheel for PyDrive (setup.py) ... \u001b[?25l\u001b[?25hdone\n"
          ],
          "name": "stdout"
        }
      ]
    },
    {
      "cell_type": "markdown",
      "metadata": {
        "id": "7LVES8W4Ap-f",
        "colab_type": "text"
      },
      "source": [
        "download train into data directory. give gdrive id of train-v2- get shareable link has id in the link"
      ]
    },
    {
      "cell_type": "code",
      "metadata": {
        "id": "6mxXT5U9tuTG",
        "colab_type": "code",
        "colab": {}
      },
      "source": [
        "import json\n",
        "# %cd data\n",
        "# Download a file based on its file ID.\n",
        "#\n",
        "# A file ID looks like: laggVyWshwcyP6kEI-y_W3P8D26sz\n",
        "file_id = '1Gu2dm8YO8xIvUdglWuCLdQYjwpnnYU0b'\n",
        "downloaded = drive.CreateFile({'id': file_id})\n",
        "downloaded_content = downloaded.GetContentString()"
      ],
      "execution_count": 0,
      "outputs": []
    },
    {
      "cell_type": "code",
      "metadata": {
        "id": "WbXydKCDILVS",
        "colab_type": "code",
        "colab": {}
      },
      "source": [
        "downloaded_content = json.loads(downloaded_content)"
      ],
      "execution_count": 0,
      "outputs": []
    },
    {
      "cell_type": "code",
      "metadata": {
        "id": "7XABmo6autoH",
        "colab_type": "code",
        "colab": {}
      },
      "source": [
        ""
      ],
      "execution_count": 0,
      "outputs": []
    },
    {
      "cell_type": "code",
      "metadata": {
        "id": "D3g8npYZmdM4",
        "colab_type": "code",
        "outputId": "6b2225f6-ff4e-43c7-c5cd-2077b9ff3347",
        "colab": {
          "base_uri": "https://localhost:8080/",
          "height": 34
        }
      },
      "source": [
        "\n",
        "!ls\n"
      ],
      "execution_count": 0,
      "outputs": [
        {
          "output_type": "stream",
          "text": [
            "dev-v2.0.json  test-v2.0.json  train-v2.0.json\n"
          ],
          "name": "stdout"
        }
      ]
    },
    {
      "cell_type": "markdown",
      "metadata": {
        "id": "IsjeYyFD9IwY",
        "colab_type": "text"
      },
      "source": [
        "Update train file as json into data directory (i.e. current directory)"
      ]
    },
    {
      "cell_type": "code",
      "metadata": {
        "id": "wCX0vXvbuiUE",
        "colab_type": "code",
        "colab": {}
      },
      "source": [
        "filename = 'train-v2.0.json'\n",
        "with open(filename, \"w\") as fh:\n",
        "    json.dump(downloaded_content, fh)"
      ],
      "execution_count": 0,
      "outputs": []
    },
    {
      "cell_type": "markdown",
      "metadata": {
        "id": "f0nLea3sA5YG",
        "colab_type": "text"
      },
      "source": [
        "Change directory to squad"
      ]
    },
    {
      "cell_type": "code",
      "metadata": {
        "id": "h0aIFrE3CwDl",
        "colab_type": "code",
        "outputId": "ce63f978-4fac-44ce-da4f-afa0bcfe4912",
        "colab": {
          "base_uri": "https://localhost:8080/",
          "height": 34
        }
      },
      "source": [
        "%cd ..\n"
      ],
      "execution_count": 0,
      "outputs": [
        {
          "output_type": "stream",
          "text": [
            "/content/squad\n"
          ],
          "name": "stdout"
        }
      ]
    },
    {
      "cell_type": "code",
      "metadata": {
        "id": "ZXqEvOgrLbTy",
        "colab_type": "code",
        "outputId": "d367868e-18d7-439e-f936-176224cb0200",
        "colab": {
          "base_uri": "https://localhost:8080/",
          "height": 785
        }
      },
      "source": [
        "!python setup.py"
      ],
      "execution_count": 0,
      "outputs": [
        {
          "output_type": "stream",
          "text": [
            "Downloading GloVe word vectors...\n",
            "glove.840B.300d.zip: 2.18GB [01:03, 34.4MB/s]                \n",
            "Unzipping GloVe word vectors...\n",
            "Downloading spacy language model...\n",
            "Requirement already satisfied: en_core_web_sm==2.0.0 from https://github.com/explosion/spacy-models/releases/download/en_core_web_sm-2.0.0/en_core_web_sm-2.0.0.tar.gz#egg=en_core_web_sm==2.0.0 in /usr/local/lib/python3.6/dist-packages (2.0.0)\n",
            "\n",
            "\u001b[93m    Linking successful\u001b[0m\n",
            "    /usr/local/lib/python3.6/dist-packages/en_core_web_sm -->\n",
            "    /usr/local/lib/python3.6/dist-packages/spacy/data/en\n",
            "\n",
            "    You can now load the model via spacy.load('en')\n",
            "\n",
            "Pre-processing train examples...\n",
            "100% 119/119 [00:20<00:00,  6.62it/s]\n",
            "36024 questions in total\n",
            "Pre-processing word vectors...\n",
            "2196018it [03:13, 11337.50it/s]                \n",
            "44625 / 50048 tokens have corresponding word embedding vector\n",
            "Pre-processing char vectors...\n",
            "621 tokens have corresponding char embedding vector\n",
            "Pre-processing dev examples...\n",
            "100% 16/16 [00:03<00:00,  5.45it/s]\n",
            "6078 questions in total\n",
            "Converting train examples to indices...\n",
            "36024it [00:14, 2413.89it/s]\n",
            "Built 35938 / 36024 instances of features in total\n",
            "Converting dev examples to indices...\n",
            "6078it [00:02, 2458.03it/s]\n",
            "Built 5951 / 6078 instances of features in total\n",
            "Pre-processing test examples...\n",
            "100% 20/20 [00:02<00:00,  9.39it/s]\n",
            "5915 questions in total\n",
            "Saving test eval...\n",
            "Converting test examples to indices...\n",
            "5915it [00:02, 2422.98it/s]\n",
            "Built 5915 / 5915 instances of features in total\n",
            "Saving test meta...\n",
            "Saving word embedding...\n",
            "Saving char embedding...\n",
            "Saving train eval...\n",
            "Saving dev eval...\n",
            "Saving word dictionary...\n",
            "Saving char dictionary...\n",
            "Saving dev meta...\n"
          ],
          "name": "stdout"
        }
      ]
    },
    {
      "cell_type": "code",
      "metadata": {
        "id": "cltfdBg5VAFY",
        "colab_type": "code",
        "colab": {}
      },
      "source": [
        ""
      ],
      "execution_count": 0,
      "outputs": []
    },
    {
      "cell_type": "code",
      "metadata": {
        "id": "AETRNDPMSJo-",
        "colab_type": "code",
        "outputId": "06921b24-1e04-40ea-e505-3754bcab0851",
        "colab": {
          "base_uri": "https://localhost:8080/",
          "height": 190
        }
      },
      "source": [
        "!pip install tensorboardX"
      ],
      "execution_count": 0,
      "outputs": [
        {
          "output_type": "stream",
          "text": [
            "Collecting tensorboardX\n",
            "\u001b[?25l  Downloading https://files.pythonhosted.org/packages/5c/76/89dd44458eb976347e5a6e75eb79fecf8facd46c1ce259bad54e0044ea35/tensorboardX-1.6-py2.py3-none-any.whl (129kB)\n",
            "\r\u001b[K     |██▌                             | 10kB 21.9MB/s eta 0:00:01\r\u001b[K     |█████                           | 20kB 2.1MB/s eta 0:00:01\r\u001b[K     |███████▋                        | 30kB 3.0MB/s eta 0:00:01\r\u001b[K     |██████████▏                     | 40kB 2.0MB/s eta 0:00:01\r\u001b[K     |████████████▋                   | 51kB 2.5MB/s eta 0:00:01\r\u001b[K     |███████████████▏                | 61kB 3.0MB/s eta 0:00:01\r\u001b[K     |█████████████████▊              | 71kB 3.4MB/s eta 0:00:01\r\u001b[K     |████████████████████▎           | 81kB 3.9MB/s eta 0:00:01\r\u001b[K     |██████████████████████▉         | 92kB 4.3MB/s eta 0:00:01\r\u001b[K     |█████████████████████████▎      | 102kB 3.3MB/s eta 0:00:01\r\u001b[K     |███████████████████████████▉    | 112kB 3.3MB/s eta 0:00:01\r\u001b[K     |██████████████████████████████▍ | 122kB 3.3MB/s eta 0:00:01\r\u001b[K     |████████████████████████████████| 133kB 3.3MB/s \n",
            "\u001b[?25hRequirement already satisfied: six in /usr/local/lib/python3.6/dist-packages (from tensorboardX) (1.12.0)\n",
            "Requirement already satisfied: numpy in /usr/local/lib/python3.6/dist-packages (from tensorboardX) (1.16.3)\n",
            "Requirement already satisfied: protobuf>=3.2.0 in /usr/local/lib/python3.6/dist-packages (from tensorboardX) (3.7.1)\n",
            "Requirement already satisfied: setuptools in /usr/local/lib/python3.6/dist-packages (from protobuf>=3.2.0->tensorboardX) (41.0.1)\n",
            "Installing collected packages: tensorboardX\n",
            "Successfully installed tensorboardX-1.6\n"
          ],
          "name": "stdout"
        }
      ]
    },
    {
      "cell_type": "code",
      "metadata": {
        "id": "thDaeWJBUl9f",
        "colab_type": "code",
        "outputId": "46dbb640-7e1e-4ffa-d8fd-945d2a5eb35e",
        "colab": {
          "base_uri": "https://localhost:8080/",
          "height": 54
        }
      },
      "source": [
        "!pip install tensorboardcolab\n"
      ],
      "execution_count": 0,
      "outputs": [
        {
          "output_type": "stream",
          "text": [
            "Requirement already satisfied: tensorboardcolab in /usr/local/lib/python3.6/dist-packages (0.0.22)\n"
          ],
          "name": "stdout"
        }
      ]
    },
    {
      "cell_type": "markdown",
      "metadata": {
        "id": "zFjA8u7_C2ab",
        "colab_type": "text"
      },
      "source": [
        "NLL should keep decreasing in each epoch. NLL is error."
      ]
    },
    {
      "cell_type": "code",
      "metadata": {
        "id": "q2WTDo19MDps",
        "colab_type": "code",
        "outputId": "1fd936f1-7242-4f5c-87bf-52f306c8df74",
        "colab": {
          "base_uri": "https://localhost:8080/",
          "height": 5623
        }
      },
      "source": [
        "\n",
        "!python train.py -n baseline"
      ],
      "execution_count": 0,
      "outputs": [
        {
          "output_type": "stream",
          "text": [
            "[05.06.19 04:19:20] Args: {\n",
            "    \"batch_size\": 64,\n",
            "    \"char_emb_file\": \"./data/char_emb.json\",\n",
            "    \"dev_eval_file\": \"./data/dev_eval.json\",\n",
            "    \"dev_record_file\": \"./data/dev.npz\",\n",
            "    \"drop_prob\": 0.2,\n",
            "    \"ema_decay\": 0.999,\n",
            "    \"eval_steps\": 50000,\n",
            "    \"gpu_ids\": [\n",
            "        0\n",
            "    ],\n",
            "    \"hidden_size\": 100,\n",
            "    \"l2_wd\": 0,\n",
            "    \"load_path\": null,\n",
            "    \"lr\": 0.5,\n",
            "    \"max_ans_len\": 15,\n",
            "    \"max_checkpoints\": 5,\n",
            "    \"max_grad_norm\": 5.0,\n",
            "    \"maximize_metric\": true,\n",
            "    \"metric_name\": \"F1\",\n",
            "    \"name\": \"baseline\",\n",
            "    \"num_epochs\": 30,\n",
            "    \"num_visuals\": 10,\n",
            "    \"num_workers\": 4,\n",
            "    \"save_dir\": \"./save/train/baseline-01\",\n",
            "    \"seed\": 224,\n",
            "    \"test_eval_file\": \"./data/test_eval.json\",\n",
            "    \"test_record_file\": \"./data/test.npz\",\n",
            "    \"train_eval_file\": \"./data/train_eval.json\",\n",
            "    \"train_record_file\": \"./data/train.npz\",\n",
            "    \"use_squad_v2\": true,\n",
            "    \"word_emb_file\": \"./data/word_emb.json\"\n",
            "}\n",
            "[05.06.19 04:19:20] Using random seed 224...\n",
            "[05.06.19 04:19:20] Loading embeddings...\n",
            "[05.06.19 04:19:22] Building model...\n",
            "[05.06.19 04:19:28] Saver will maximize F1...\n",
            "[05.06.19 04:19:28] Building dataset...\n",
            "tcmalloc: large alloc 1840029696 bytes == 0xe452c000 @  0x7f8ab948ab6b 0x7f8ab94aa379 0x7f8a66cb2e4e 0x7f8a66cb4dca 0x7f8a678f8d62 0x7f8a67a16b1b 0x7f8a65a0c094 0x7f8a678ed61a 0x7f8a67b6e896 0x7f8a658f646d 0x7f8aaf4945ec 0x7f8aaf494651 0x503091 0x506859 0x504c28 0x501ba7 0x591461 0x54b813 0x555421 0x5a730c 0x503073 0x506859 0x502209 0x502f3d 0x506859 0x504c28 0x506393 0x634d52 0x634e0a 0x6385c8 0x63915a\n",
            "tcmalloc: large alloc 1844633600 bytes == 0x151ff6000 @  0x7f8ab948ab6b 0x7f8ab94aa379 0x7f8a66cb2e4e 0x7f8a66cb4dca 0x7f8a67c60d46 0x7f8a67c76644 0x7f8a67c8c6f0 0x7f8a67a19368 0x7f8a67919344 0x7f8a67bd064f 0x7f8a658cd582 0x7f8aaf3c62a1 0x5030d5 0x507641 0x504c28 0x501ba7 0x591461 0x54b813 0x555421 0x5a730c 0x503073 0x506859 0x502209 0x502f3d 0x506859 0x504c28 0x506393 0x634d52 0x634e0a 0x6385c8 0x63915a\n",
            "[05.06.19 04:19:33] Training...\n",
            "[05.06.19 04:19:33] Starting epoch 1...\n",
            "100% 35938/35938 [02:46<00:00, 220.65it/s, NLL=7.2, epoch=1] \n",
            "[05.06.19 04:22:20] Starting epoch 2...\n",
            "[05.06.19 04:23:25] Evaluating at step 50018...\n",
            " 39% 14080/35938 [01:05<01:39, 220.76it/s, NLL=7.54, epoch=2]\n",
            "  0% 0/5951 [00:00<?, ?it/s]\u001b[A/usr/local/lib/python3.6/dist-packages/torch/nn/modules/rnn.py:214: RuntimeWarning: RNN module weights are not part of single contiguous chunk of memory. This means they need to be compacted at every call, possibly greatly increasing memory usage. To compact weights again call flatten_parameters().\n",
            "  self.num_layers, self.dropout, self.training, self.bidirectional)\n",
            "\n",
            "  1% 64/5951 [00:00<00:49, 119.51it/s]\u001b[A\n",
            "  1% 64/5951 [00:00<00:49, 119.51it/s, NLL=4.87]\u001b[A\n",
            "  2% 128/5951 [00:00<00:48, 119.51it/s, NLL=4.89]\u001b[A\n",
            "  3% 192/5951 [00:00<00:35, 162.95it/s, NLL=4.89]\u001b[A\n",
            "  3% 192/5951 [00:00<00:35, 162.95it/s, NLL=4.82]\u001b[A\n",
            "  4% 256/5951 [00:00<00:34, 162.95it/s, NLL=4.9] \u001b[A\n",
            "  5% 320/5951 [00:00<00:34, 162.95it/s, NLL=4.93]\u001b[A\n",
            "  6% 384/5951 [00:00<00:25, 221.24it/s, NLL=4.93]\u001b[A\n",
            "  6% 384/5951 [00:00<00:25, 221.24it/s, NLL=4.93]\u001b[A\n",
            "  8% 448/5951 [00:00<00:24, 221.24it/s, NLL=4.97]\u001b[A\n",
            "  9% 512/5951 [00:00<00:24, 221.24it/s, NLL=4.93]\u001b[A\n",
            " 10% 576/5951 [00:00<00:18, 291.58it/s, NLL=4.93]\u001b[A\n",
            " 10% 576/5951 [00:00<00:18, 291.58it/s, NLL=4.93]\u001b[A\n",
            " 11% 640/5951 [00:01<00:18, 291.58it/s, NLL=4.94]\u001b[A\n",
            " 12% 704/5951 [00:01<00:13, 375.11it/s, NLL=4.94]\u001b[A\n",
            " 12% 704/5951 [00:01<00:13, 375.11it/s, NLL=4.94]\u001b[A\n",
            " 13% 768/5951 [00:01<00:13, 375.11it/s, NLL=4.97]\u001b[A\n",
            " 14% 832/5951 [00:01<00:13, 375.11it/s, NLL=4.99]\u001b[A\n",
            " 15% 896/5951 [00:01<00:10, 476.27it/s, NLL=4.99]\u001b[A\n",
            " 15% 896/5951 [00:01<00:10, 476.27it/s, NLL=5.02]\u001b[A\n",
            " 16% 960/5951 [00:01<00:10, 476.27it/s, NLL=5.04]\u001b[A\n",
            " 17% 1024/5951 [00:01<00:08, 576.30it/s, NLL=5.04]\u001b[A\n",
            " 17% 1024/5951 [00:01<00:08, 576.30it/s, NLL=5.06]\u001b[A\n",
            " 18% 1088/5951 [00:01<00:08, 576.30it/s, NLL=5.07]\u001b[A\n",
            " 19% 1152/5951 [00:01<00:07, 684.35it/s, NLL=5.07]\u001b[A\n",
            " 19% 1152/5951 [00:01<00:07, 684.35it/s, NLL=5.09]\u001b[A\n",
            " 20% 1216/5951 [00:01<00:06, 684.35it/s, NLL=5.08]\u001b[A\n",
            " 22% 1280/5951 [00:01<00:06, 684.35it/s, NLL=5.08]\u001b[A\n",
            " 23% 1344/5951 [00:01<00:05, 800.36it/s, NLL=5.08]\u001b[A\n",
            " 23% 1344/5951 [00:01<00:05, 800.36it/s, NLL=5.08]\u001b[A\n",
            " 24% 1408/5951 [00:01<00:05, 800.36it/s, NLL=5.07]\u001b[A\n",
            " 25% 1472/5951 [00:01<00:05, 881.62it/s, NLL=5.07]\u001b[A\n",
            " 25% 1472/5951 [00:01<00:05, 881.62it/s, NLL=5.06]\u001b[A\n",
            " 26% 1536/5951 [00:01<00:05, 881.62it/s, NLL=5.05]\u001b[A\n",
            " 27% 1600/5951 [00:01<00:04, 881.62it/s, NLL=5.03]\u001b[A\n",
            " 28% 1664/5951 [00:01<00:04, 992.90it/s, NLL=5.03]\u001b[A\n",
            " 28% 1664/5951 [00:01<00:04, 992.90it/s, NLL=5.04]\u001b[A\n",
            " 29% 1728/5951 [00:01<00:04, 992.90it/s, NLL=5.06]\u001b[A\n",
            " 30% 1792/5951 [00:01<00:04, 981.80it/s, NLL=5.06]\u001b[A\n",
            " 30% 1792/5951 [00:01<00:04, 981.80it/s, NLL=5.08]\u001b[A\n",
            " 31% 1856/5951 [00:02<00:04, 981.80it/s, NLL=5.18]\u001b[A\n",
            " 32% 1920/5951 [00:02<00:04, 938.82it/s, NLL=5.18]\u001b[A\n",
            " 32% 1920/5951 [00:02<00:04, 938.82it/s, NLL=5.25]\u001b[A\n",
            " 33% 1984/5951 [00:02<00:04, 938.82it/s, NLL=5.25]\u001b[A\n",
            " 34% 2048/5951 [00:02<00:04, 947.39it/s, NLL=5.25]\u001b[A\n",
            " 34% 2048/5951 [00:02<00:04, 947.39it/s, NLL=5.25]\u001b[A\n",
            " 35% 2112/5951 [00:02<00:04, 947.39it/s, NLL=5.22]\u001b[A\n",
            " 37% 2176/5951 [00:02<00:03, 947.39it/s, NLL=5.18]\u001b[A\n",
            " 38% 2240/5951 [00:02<00:03, 1036.47it/s, NLL=5.18]\u001b[A\n",
            " 38% 2240/5951 [00:02<00:03, 1036.47it/s, NLL=5.14]\u001b[A\n",
            " 39% 2304/5951 [00:02<00:03, 1036.47it/s, NLL=5.12]\u001b[A\n",
            " 40% 2368/5951 [00:02<00:03, 1036.47it/s, NLL=5.1] \u001b[A\n",
            " 41% 2432/5951 [00:02<00:03, 1105.54it/s, NLL=5.1]\u001b[A\n",
            " 41% 2432/5951 [00:02<00:03, 1105.54it/s, NLL=5.09]\u001b[A\n",
            " 42% 2496/5951 [00:02<00:03, 1105.54it/s, NLL=5.07]\u001b[A\n",
            " 43% 2560/5951 [00:02<00:03, 1118.29it/s, NLL=5.07]\u001b[A\n",
            " 43% 2560/5951 [00:02<00:03, 1118.29it/s, NLL=5.07]\u001b[A\n",
            " 44% 2624/5951 [00:02<00:02, 1118.29it/s, NLL=5.06]\u001b[A\n",
            " 45% 2688/5951 [00:02<00:02, 1134.99it/s, NLL=5.06]\u001b[A\n",
            " 45% 2688/5951 [00:02<00:02, 1134.99it/s, NLL=5.06]\u001b[A\n",
            " 46% 2752/5951 [00:02<00:02, 1134.99it/s, NLL=5.08]\u001b[A\n",
            " 47% 2816/5951 [00:02<00:02, 1090.79it/s, NLL=5.08]\u001b[A\n",
            " 47% 2816/5951 [00:02<00:02, 1090.79it/s, NLL=5.1] \u001b[A\n",
            " 48% 2880/5951 [00:02<00:02, 1090.79it/s, NLL=5.11]\u001b[A\n",
            " 49% 2944/5951 [00:03<00:02, 1064.48it/s, NLL=5.11]\u001b[A\n",
            " 49% 2944/5951 [00:03<00:02, 1064.48it/s, NLL=5.13]\u001b[A\n",
            " 51% 3008/5951 [00:03<00:02, 1064.48it/s, NLL=5.15]\u001b[A\n",
            " 52% 3072/5951 [00:03<00:02, 1006.22it/s, NLL=5.15]\u001b[A\n",
            " 52% 3072/5951 [00:03<00:02, 1006.22it/s, NLL=5.16]\u001b[A\n",
            " 53% 3136/5951 [00:03<00:02, 1006.22it/s, NLL=5.17]\u001b[A\n",
            " 54% 3200/5951 [00:03<00:02, 1068.40it/s, NLL=5.17]\u001b[A\n",
            " 54% 3200/5951 [00:03<00:02, 1068.40it/s, NLL=5.17]\u001b[A\n",
            " 55% 3264/5951 [00:03<00:02, 1068.40it/s, NLL=5.17]\u001b[A\n",
            " 56% 3328/5951 [00:03<00:02, 1112.42it/s, NLL=5.17]\u001b[A\n",
            " 56% 3328/5951 [00:03<00:02, 1112.42it/s, NLL=5.17]\u001b[A\n",
            " 57% 3392/5951 [00:03<00:02, 1112.42it/s, NLL=5.16]\u001b[A\n",
            " 58% 3456/5951 [00:03<00:02, 1112.42it/s, NLL=5.16]\u001b[A\n",
            " 59% 3520/5951 [00:03<00:02, 1174.31it/s, NLL=5.16]\u001b[A\n",
            " 59% 3520/5951 [00:03<00:02, 1174.31it/s, NLL=5.16]\u001b[A\n",
            " 60% 3584/5951 [00:03<00:02, 1174.31it/s, NLL=5.16]\u001b[A\n",
            " 61% 3648/5951 [00:03<00:01, 1196.18it/s, NLL=5.16]\u001b[A\n",
            " 61% 3648/5951 [00:03<00:01, 1196.18it/s, NLL=5.17]\u001b[A\n",
            " 62% 3712/5951 [00:03<00:01, 1196.18it/s, NLL=5.17]\u001b[A\n",
            " 63% 3776/5951 [00:03<00:01, 1196.18it/s, NLL=5.18]\u001b[A\n",
            " 65% 3840/5951 [00:03<00:01, 1233.80it/s, NLL=5.18]\u001b[A\n",
            " 65% 3840/5951 [00:03<00:01, 1233.80it/s, NLL=5.19]\u001b[A\n",
            " 66% 3904/5951 [00:03<00:01, 1233.80it/s, NLL=5.2] \u001b[A\n",
            " 67% 3968/5951 [00:03<00:01, 1232.38it/s, NLL=5.2]\u001b[A\n",
            " 67% 3968/5951 [00:03<00:01, 1232.38it/s, NLL=5.21]\u001b[A\n",
            " 68% 4032/5951 [00:03<00:01, 1232.38it/s, NLL=5.21]\u001b[A\n",
            " 69% 4096/5951 [00:03<00:01, 1232.38it/s, NLL=5.22]\u001b[A\n",
            " 70% 4160/5951 [00:04<00:01, 1287.86it/s, NLL=5.22]\u001b[A\n",
            " 70% 4160/5951 [00:04<00:01, 1287.86it/s, NLL=5.23]\u001b[A\n",
            " 71% 4224/5951 [00:04<00:01, 1287.86it/s, NLL=5.22]\u001b[A\n",
            " 72% 4288/5951 [00:04<00:01, 1287.86it/s, NLL=5.23]\u001b[A\n",
            " 73% 4352/5951 [00:04<00:01, 1204.29it/s, NLL=5.23]\u001b[A\n",
            " 73% 4352/5951 [00:04<00:01, 1204.29it/s, NLL=5.23]\u001b[A\n",
            " 74% 4416/5951 [00:04<00:01, 1204.29it/s, NLL=5.24]\u001b[A\n",
            " 75% 4480/5951 [00:04<00:01, 1147.15it/s, NLL=5.24]\u001b[A\n",
            " 75% 4480/5951 [00:04<00:01, 1147.15it/s, NLL=5.25]\u001b[A\n",
            " 76% 4544/5951 [00:04<00:01, 1147.15it/s, NLL=5.25]\u001b[A\n",
            " 77% 4608/5951 [00:04<00:01, 1118.50it/s, NLL=5.25]\u001b[A\n",
            " 77% 4608/5951 [00:04<00:01, 1118.50it/s, NLL=5.25]\u001b[A\n",
            " 79% 4672/5951 [00:04<00:01, 1118.50it/s, NLL=5.27]\u001b[A\n",
            " 80% 4736/5951 [00:04<00:01, 1046.73it/s, NLL=5.27]\u001b[A\n",
            " 80% 4736/5951 [00:04<00:01, 1046.73it/s, NLL=5.27]\u001b[A\n",
            " 81% 4800/5951 [00:04<00:01, 1046.73it/s, NLL=5.27]\u001b[A\n",
            " 82% 4864/5951 [00:04<00:01, 1046.73it/s, NLL=5.27]\u001b[A\n",
            " 83% 4928/5951 [00:04<00:00, 1079.44it/s, NLL=5.27]\u001b[A\n",
            " 83% 4928/5951 [00:04<00:00, 1079.44it/s, NLL=5.28]\u001b[A\n",
            " 84% 4992/5951 [00:04<00:00, 1079.44it/s, NLL=5.28]\u001b[A\n",
            " 85% 5056/5951 [00:04<00:00, 1103.39it/s, NLL=5.28]\u001b[A\n",
            " 85% 5056/5951 [00:04<00:00, 1103.39it/s, NLL=5.28]\u001b[A\n",
            " 86% 5120/5951 [00:04<00:00, 1103.39it/s, NLL=5.28]\u001b[A\n",
            " 87% 5184/5951 [00:04<00:00, 1103.39it/s, NLL=5.28]\u001b[A\n",
            " 88% 5248/5951 [00:04<00:00, 1178.34it/s, NLL=5.28]\u001b[A\n",
            " 88% 5248/5951 [00:04<00:00, 1178.34it/s, NLL=5.28]\u001b[A\n",
            " 89% 5312/5951 [00:05<00:00, 1178.34it/s, NLL=5.27]\u001b[A\n",
            " 90% 5376/5951 [00:05<00:00, 1157.98it/s, NLL=5.27]\u001b[A\n",
            " 90% 5376/5951 [00:05<00:00, 1157.98it/s, NLL=5.28]\u001b[A\n",
            " 91% 5440/5951 [00:05<00:00, 1157.98it/s, NLL=5.28]\u001b[A\n",
            " 92% 5504/5951 [00:05<00:00, 1157.98it/s, NLL=5.27]\u001b[A\n",
            " 94% 5568/5951 [00:05<00:00, 1206.97it/s, NLL=5.27]\u001b[A\n",
            " 94% 5568/5951 [00:05<00:00, 1206.97it/s, NLL=5.27]\u001b[A\n",
            " 95% 5632/5951 [00:05<00:00, 1206.97it/s, NLL=5.28]\u001b[A\n",
            " 96% 5696/5951 [00:05<00:00, 1206.97it/s, NLL=5.28]\u001b[A\n",
            " 97% 5760/5951 [00:05<00:00, 1198.26it/s, NLL=5.28]\u001b[A\n",
            " 97% 5760/5951 [00:05<00:00, 1198.26it/s, NLL=5.29]\u001b[A\n",
            " 98% 5824/5951 [00:05<00:00, 1198.26it/s, NLL=5.29]\u001b[A\n",
            " 99% 5888/5951 [00:05<00:00, 1219.31it/s, NLL=5.29]\u001b[A\n",
            " 99% 5888/5951 [00:05<00:00, 1219.31it/s, NLL=5.29]\u001b[A\n",
            "100% 5951/5951 [00:05<00:00, 1219.31it/s, NLL=5.29]\u001b[A\n",
            "[05.06.19 04:23:32] Saved checkpoint: ./save/train/baseline-01/step_50018.pth.tar\n",
            "[05.06.19 04:23:33] New best checkpoint at step 50018...\n",
            "[05.06.19 04:23:33] Dev NLL: 05.29, F1: 52.19, EM: 52.19, AvNA: 52.14\n",
            "[05.06.19 04:23:33] Visualizing in TensorBoard...\n",
            "100% 35938/35938 [02:55<00:00, 204.10it/s, NLL=7.11, epoch=2]\n",
            "[05.06.19 04:25:16] Starting epoch 3...\n",
            "[05.06.19 04:27:28] Evaluating at step 100036...\n",
            " 78% 28160/35938 [02:12<00:34, 227.78it/s, NLL=5.97, epoch=3]\n",
            "  0% 0/5951 [00:00<?, ?it/s]\u001b[A\n",
            "  1% 64/5951 [00:00<00:49, 119.62it/s]\u001b[A\n",
            "  1% 64/5951 [00:00<00:49, 119.62it/s, NLL=4.65]\u001b[A\n",
            "  2% 128/5951 [00:00<00:48, 119.62it/s, NLL=4.58]\u001b[A\n",
            "  3% 192/5951 [00:00<00:35, 163.22it/s, NLL=4.58]\u001b[A\n",
            "  3% 192/5951 [00:00<00:35, 163.22it/s, NLL=4.48]\u001b[A\n",
            "  4% 256/5951 [00:00<00:34, 163.22it/s, NLL=4.59]\u001b[A\n",
            "  5% 320/5951 [00:00<00:34, 163.22it/s, NLL=4.68]\u001b[A\n",
            "  6% 384/5951 [00:00<00:25, 221.64it/s, NLL=4.68]\u001b[A\n",
            "  6% 384/5951 [00:00<00:25, 221.64it/s, NLL=4.72]\u001b[A\n",
            "  8% 448/5951 [00:00<00:24, 221.64it/s, NLL=4.78]\u001b[A\n",
            "  9% 512/5951 [00:00<00:18, 294.02it/s, NLL=4.78]\u001b[A\n",
            "  9% 512/5951 [00:00<00:18, 294.02it/s, NLL=4.76]\u001b[A\n",
            " 10% 576/5951 [00:00<00:18, 294.02it/s, NLL=4.77]\u001b[A\n",
            " 11% 640/5951 [00:01<00:14, 376.49it/s, NLL=4.77]\u001b[A\n",
            " 11% 640/5951 [00:01<00:14, 376.49it/s, NLL=4.74]\u001b[A\n",
            " 12% 704/5951 [00:01<00:13, 376.49it/s, NLL=4.71]\u001b[A\n",
            " 13% 768/5951 [00:01<00:13, 376.49it/s, NLL=4.72]\u001b[A\n",
            " 14% 832/5951 [00:01<00:10, 478.05it/s, NLL=4.72]\u001b[A\n",
            " 14% 832/5951 [00:01<00:10, 478.05it/s, NLL=4.71]\u001b[A\n",
            " 15% 896/5951 [00:01<00:10, 478.05it/s, NLL=4.72]\u001b[A\n",
            " 16% 960/5951 [00:01<00:08, 585.39it/s, NLL=4.72]\u001b[A\n",
            " 16% 960/5951 [00:01<00:08, 585.39it/s, NLL=4.72]\u001b[A\n",
            " 17% 1024/5951 [00:01<00:08, 585.39it/s, NLL=4.73]\u001b[A\n",
            " 18% 1088/5951 [00:01<00:07, 676.35it/s, NLL=4.73]\u001b[A\n",
            " 18% 1088/5951 [00:01<00:07, 676.35it/s, NLL=4.73]\u001b[A\n",
            " 19% 1152/5951 [00:01<00:07, 676.35it/s, NLL=4.74]\u001b[A\n",
            " 20% 1216/5951 [00:01<00:06, 785.97it/s, NLL=4.74]\u001b[A\n",
            " 20% 1216/5951 [00:01<00:06, 785.97it/s, NLL=4.72]\u001b[A\n",
            " 22% 1280/5951 [00:01<00:05, 785.97it/s, NLL=4.73]\u001b[A\n",
            " 23% 1344/5951 [00:01<00:05, 785.97it/s, NLL=4.72]\u001b[A\n",
            " 24% 1408/5951 [00:01<00:05, 874.15it/s, NLL=4.72]\u001b[A\n",
            " 24% 1408/5951 [00:01<00:05, 874.15it/s, NLL=4.71]\u001b[A\n",
            " 25% 1472/5951 [00:01<00:05, 874.15it/s, NLL=4.7] \u001b[A\n",
            " 26% 1536/5951 [00:01<00:05, 874.15it/s, NLL=4.69]\u001b[A\n",
            " 27% 1600/5951 [00:01<00:04, 972.00it/s, NLL=4.69]\u001b[A\n",
            " 27% 1600/5951 [00:01<00:04, 972.00it/s, NLL=4.66]\u001b[A\n",
            " 28% 1664/5951 [00:01<00:04, 972.00it/s, NLL=4.66]\u001b[A\n",
            " 29% 1728/5951 [00:01<00:04, 1033.65it/s, NLL=4.66]\u001b[A\n",
            " 29% 1728/5951 [00:01<00:04, 1033.65it/s, NLL=4.68]\u001b[A\n",
            " 30% 1792/5951 [00:01<00:04, 1033.65it/s, NLL=4.71]\u001b[A\n",
            " 31% 1856/5951 [00:02<00:04, 1015.37it/s, NLL=4.71]\u001b[A\n",
            " 31% 1856/5951 [00:02<00:04, 1015.37it/s, NLL=4.8] \u001b[A\n",
            " 32% 1920/5951 [00:02<00:03, 1015.37it/s, NLL=4.86]\u001b[A\n",
            " 33% 1984/5951 [00:02<00:04, 973.11it/s, NLL=4.86] \u001b[A\n",
            " 33% 1984/5951 [00:02<00:04, 973.11it/s, NLL=4.86]\u001b[A\n",
            " 34% 2048/5951 [00:02<00:04, 973.11it/s, NLL=4.85]\u001b[A\n",
            " 35% 2112/5951 [00:02<00:03, 1011.95it/s, NLL=4.85]\u001b[A\n",
            " 35% 2112/5951 [00:02<00:03, 1011.95it/s, NLL=4.83]\u001b[A\n",
            " 37% 2176/5951 [00:02<00:03, 1011.95it/s, NLL=4.8] \u001b[A\n",
            " 38% 2240/5951 [00:02<00:03, 1011.95it/s, NLL=4.77]\u001b[A\n",
            " 39% 2304/5951 [00:02<00:03, 1077.65it/s, NLL=4.77]\u001b[A\n",
            " 39% 2304/5951 [00:02<00:03, 1077.65it/s, NLL=4.76]\u001b[A\n",
            " 40% 2368/5951 [00:02<00:03, 1077.65it/s, NLL=4.75]\u001b[A\n",
            " 41% 2432/5951 [00:02<00:03, 1077.65it/s, NLL=4.73]\u001b[A\n",
            " 42% 2496/5951 [00:02<00:03, 1139.67it/s, NLL=4.73]\u001b[A\n",
            " 42% 2496/5951 [00:02<00:03, 1139.67it/s, NLL=4.71]\u001b[A\n",
            " 43% 2560/5951 [00:02<00:02, 1139.67it/s, NLL=4.71]\u001b[A\n",
            " 44% 2624/5951 [00:02<00:02, 1160.02it/s, NLL=4.71]\u001b[A\n",
            " 44% 2624/5951 [00:02<00:02, 1160.02it/s, NLL=4.7] \u001b[A\n",
            " 45% 2688/5951 [00:02<00:02, 1160.02it/s, NLL=4.69]\u001b[A\n",
            " 46% 2752/5951 [00:02<00:02, 1121.38it/s, NLL=4.69]\u001b[A\n",
            " 46% 2752/5951 [00:02<00:02, 1121.38it/s, NLL=4.72]\u001b[A\n",
            " 47% 2816/5951 [00:02<00:02, 1121.38it/s, NLL=4.74]\u001b[A\n",
            " 48% 2880/5951 [00:02<00:02, 1105.08it/s, NLL=4.74]\u001b[A\n",
            " 48% 2880/5951 [00:02<00:02, 1105.08it/s, NLL=4.75]\u001b[A\n",
            " 49% 2944/5951 [00:03<00:02, 1105.08it/s, NLL=4.77]\u001b[A\n",
            " 51% 3008/5951 [00:03<00:02, 1022.26it/s, NLL=4.77]\u001b[A\n",
            " 51% 3008/5951 [00:03<00:02, 1022.26it/s, NLL=4.78]\u001b[A\n",
            " 52% 3072/5951 [00:03<00:02, 1022.26it/s, NLL=4.79]\u001b[A\n",
            " 53% 3136/5951 [00:03<00:02, 1049.95it/s, NLL=4.79]\u001b[A\n",
            " 53% 3136/5951 [00:03<00:02, 1049.95it/s, NLL=4.81]\u001b[A\n",
            " 54% 3200/5951 [00:03<00:02, 1049.95it/s, NLL=4.82]\u001b[A\n",
            " 55% 3264/5951 [00:03<00:02, 1049.95it/s, NLL=4.81]\u001b[A\n",
            " 56% 3328/5951 [00:03<00:02, 1096.71it/s, NLL=4.81]\u001b[A\n",
            " 56% 3328/5951 [00:03<00:02, 1096.71it/s, NLL=4.82]\u001b[A\n",
            " 57% 3392/5951 [00:03<00:02, 1096.71it/s, NLL=4.81]\u001b[A\n",
            " 58% 3456/5951 [00:03<00:02, 1096.71it/s, NLL=4.81]\u001b[A\n",
            " 59% 3520/5951 [00:03<00:02, 1162.79it/s, NLL=4.81]\u001b[A\n",
            " 59% 3520/5951 [00:03<00:02, 1162.79it/s, NLL=4.81]\u001b[A\n",
            " 60% 3584/5951 [00:03<00:02, 1162.79it/s, NLL=4.81]\u001b[A\n",
            " 61% 3648/5951 [00:03<00:01, 1188.24it/s, NLL=4.81]\u001b[A\n",
            " 61% 3648/5951 [00:03<00:01, 1188.24it/s, NLL=4.82]\u001b[A\n",
            " 62% 3712/5951 [00:03<00:01, 1188.24it/s, NLL=4.83]\u001b[A\n",
            " 63% 3776/5951 [00:03<00:01, 1188.24it/s, NLL=4.84]\u001b[A\n",
            " 65% 3840/5951 [00:03<00:01, 1226.54it/s, NLL=4.84]\u001b[A\n",
            " 65% 3840/5951 [00:03<00:01, 1226.54it/s, NLL=4.85]\u001b[A\n",
            " 66% 3904/5951 [00:03<00:01, 1226.54it/s, NLL=4.86]\u001b[A\n",
            " 67% 3968/5951 [00:03<00:01, 1207.20it/s, NLL=4.86]\u001b[A\n",
            " 67% 3968/5951 [00:03<00:01, 1207.20it/s, NLL=4.87]\u001b[A\n",
            " 68% 4032/5951 [00:03<00:01, 1207.20it/s, NLL=4.88]\u001b[A\n",
            " 69% 4096/5951 [00:03<00:01, 1207.20it/s, NLL=4.88]\u001b[A\n",
            " 70% 4160/5951 [00:03<00:01, 1273.58it/s, NLL=4.88]\u001b[A\n",
            " 70% 4160/5951 [00:03<00:01, 1273.58it/s, NLL=4.89]\u001b[A\n",
            " 71% 4224/5951 [00:04<00:01, 1273.58it/s, NLL=4.89]\u001b[A\n",
            " 72% 4288/5951 [00:04<00:01, 1273.58it/s, NLL=4.89]\u001b[A\n",
            " 73% 4352/5951 [00:04<00:01, 1211.29it/s, NLL=4.89]\u001b[A\n",
            " 73% 4352/5951 [00:04<00:01, 1211.29it/s, NLL=4.89]\u001b[A\n",
            " 74% 4416/5951 [00:04<00:01, 1211.29it/s, NLL=4.91]\u001b[A\n",
            " 75% 4480/5951 [00:04<00:01, 1146.68it/s, NLL=4.91]\u001b[A\n",
            " 75% 4480/5951 [00:04<00:01, 1146.68it/s, NLL=4.91]\u001b[A\n",
            " 76% 4544/5951 [00:04<00:01, 1146.68it/s, NLL=4.91]\u001b[A\n",
            " 77% 4608/5951 [00:04<00:01, 1112.37it/s, NLL=4.91]\u001b[A\n",
            " 77% 4608/5951 [00:04<00:01, 1112.37it/s, NLL=4.92]\u001b[A\n",
            " 79% 4672/5951 [00:04<00:01, 1112.37it/s, NLL=4.93]\u001b[A\n",
            " 80% 4736/5951 [00:04<00:01, 1046.63it/s, NLL=4.93]\u001b[A\n",
            " 80% 4736/5951 [00:04<00:01, 1046.63it/s, NLL=4.93]\u001b[A\n",
            " 81% 4800/5951 [00:04<00:01, 1046.63it/s, NLL=4.93]\u001b[A\n",
            " 82% 4864/5951 [00:04<00:01, 1046.63it/s, NLL=4.93]\u001b[A\n",
            " 83% 4928/5951 [00:04<00:00, 1081.28it/s, NLL=4.93]\u001b[A\n",
            " 83% 4928/5951 [00:04<00:00, 1081.28it/s, NLL=4.94]\u001b[A\n",
            " 84% 4992/5951 [00:04<00:00, 1081.28it/s, NLL=4.94]\u001b[A\n",
            " 85% 5056/5951 [00:04<00:00, 1080.32it/s, NLL=4.94]\u001b[A\n",
            " 85% 5056/5951 [00:04<00:00, 1080.32it/s, NLL=4.94]\u001b[A\n",
            " 86% 5120/5951 [00:04<00:00, 1080.32it/s, NLL=4.94]\u001b[A\n",
            " 87% 5184/5951 [00:04<00:00, 1080.32it/s, NLL=4.93]\u001b[A\n",
            " 88% 5248/5951 [00:04<00:00, 1160.25it/s, NLL=4.93]\u001b[A\n",
            " 88% 5248/5951 [00:04<00:00, 1160.25it/s, NLL=4.93]\u001b[A\n",
            " 89% 5312/5951 [00:05<00:00, 1160.25it/s, NLL=4.93]\u001b[A\n",
            " 90% 5376/5951 [00:05<00:00, 1159.49it/s, NLL=4.93]\u001b[A\n",
            " 90% 5376/5951 [00:05<00:00, 1159.49it/s, NLL=4.93]\u001b[A\n",
            " 91% 5440/5951 [00:05<00:00, 1159.49it/s, NLL=4.94]\u001b[A\n",
            " 92% 5504/5951 [00:05<00:00, 1159.49it/s, NLL=4.93]\u001b[A\n",
            " 94% 5568/5951 [00:05<00:00, 1216.81it/s, NLL=4.93]\u001b[A\n",
            " 94% 5568/5951 [00:05<00:00, 1216.81it/s, NLL=4.93]\u001b[A\n",
            " 95% 5632/5951 [00:05<00:00, 1216.81it/s, NLL=4.94]\u001b[A\n",
            " 96% 5696/5951 [00:05<00:00, 1224.07it/s, NLL=4.94]\u001b[A\n",
            " 96% 5696/5951 [00:05<00:00, 1224.07it/s, NLL=4.94]\u001b[A\n",
            " 97% 5760/5951 [00:05<00:00, 1224.07it/s, NLL=4.95]\u001b[A\n",
            " 98% 5824/5951 [00:05<00:00, 1191.67it/s, NLL=4.95]\u001b[A\n",
            " 98% 5824/5951 [00:05<00:00, 1191.67it/s, NLL=4.95]\u001b[A\n",
            " 99% 5888/5951 [00:05<00:00, 1191.67it/s, NLL=4.95]\u001b[A\n",
            "100% 5951/5951 [00:05<00:00, 1191.67it/s, NLL=4.96]\u001b[A\n",
            "[05.06.19 04:27:35] Saved checkpoint: ./save/train/baseline-01/step_100036.pth.tar\n",
            "[05.06.19 04:27:35] Dev NLL: 04.96, F1: 50.73, EM: 50.55, AvNA: 52.46\n",
            "[05.06.19 04:27:35] Visualizing in TensorBoard...\n",
            "100% 35938/35938 [02:56<00:00, 204.29it/s, NLL=5.5, epoch=3] \n",
            "[05.06.19 04:28:12] Starting epoch 4...\n",
            " 93% 33408/35938 [02:36<00:11, 216.40it/s, NLL=5.62, epoch=4]"
          ],
          "name": "stdout"
        }
      ]
    },
    {
      "cell_type": "code",
      "metadata": {
        "id": "H8lJ_ygiQ44G",
        "colab_type": "code",
        "outputId": "fc2eed05-7c6c-4cf0-97eb-c430c6764cc9",
        "colab": {
          "base_uri": "https://localhost:8080/",
          "height": 34
        }
      },
      "source": [
        "%cd squad"
      ],
      "execution_count": 0,
      "outputs": [
        {
          "output_type": "stream",
          "text": [
            "/content/squad\n"
          ],
          "name": "stdout"
        }
      ]
    },
    {
      "cell_type": "code",
      "metadata": {
        "id": "amPASYA1aC1X",
        "colab_type": "code",
        "outputId": "e22bd9b3-ce0c-4fb3-cadc-9de4da9cb6ee",
        "colab": {
          "resources": {
            "http://localhost:8080/nbextensions/google.colab/files.js": {
              "data": "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",
              "ok": true,
              "headers": [
                [
                  "content-type",
                  "application/javascript"
                ]
              ],
              "status": 200,
              "status_text": ""
            }
          },
          "base_uri": "https://localhost:8080/",
          "height": 88
        }
      },
      "source": [
        "from google.colab import files\n",
        "\n",
        "uploaded = files.upload()\n",
        "\n",
        "for fn in uploaded.keys():\n",
        "  print('User uploaded file \"{name}\" with length {length} bytes'.format(\n",
        "      name=fn, length=len(uploaded[fn])))"
      ],
      "execution_count": 0,
      "outputs": [
        {
          "output_type": "display_data",
          "data": {
            "text/html": [
              "\n",
              "     <input type=\"file\" id=\"files-fbe117e8-9e2d-4a19-ae82-abe2fd55bf3d\" name=\"files[]\" multiple disabled />\n",
              "     <output id=\"result-fbe117e8-9e2d-4a19-ae82-abe2fd55bf3d\">\n",
              "      Upload widget is only available when the cell has been executed in the\n",
              "      current browser session. Please rerun this cell to enable.\n",
              "      </output>\n",
              "      <script src=\"/nbextensions/google.colab/files.js\"></script> "
            ],
            "text/plain": [
              "<IPython.core.display.HTML object>"
            ]
          },
          "metadata": {
            "tags": []
          }
        },
        {
          "output_type": "stream",
          "text": [
            "Saving layers.py to layers.py\n",
            "User uploaded file \"layers.py\" with length 9133 bytes\n"
          ],
          "name": "stdout"
        }
      ]
    },
    {
      "cell_type": "markdown",
      "metadata": {
        "id": "owuYqIeBC9BU",
        "colab_type": "text"
      },
      "source": [
        "ignore anything below "
      ]
    },
    {
      "cell_type": "code",
      "metadata": {
        "id": "OnDTWekoQ41Z",
        "colab_type": "code",
        "colab": {}
      },
      "source": [
        ""
      ],
      "execution_count": 0,
      "outputs": []
    },
    {
      "cell_type": "code",
      "metadata": {
        "id": "VmMNlbCKQ4yu",
        "colab_type": "code",
        "outputId": "f2d39ee9-94f8-4286-ca60-a2cafeb33627",
        "colab": {
          "base_uri": "https://localhost:8080/",
          "height": 51
        }
      },
      "source": [
        "%cd data"
      ],
      "execution_count": 0,
      "outputs": [
        {
          "output_type": "stream",
          "text": [
            "[Errno 2] No such file or directory: 'data'\n",
            "/\n"
          ],
          "name": "stdout"
        }
      ]
    },
    {
      "cell_type": "code",
      "metadata": {
        "id": "0bGPAeSwXzaF",
        "colab_type": "code",
        "outputId": "1af2b3bc-801c-4b61-c2c6-5643f23cb54e",
        "colab": {
          "base_uri": "https://localhost:8080/",
          "height": 68
        }
      },
      "source": [
        "!ls"
      ],
      "execution_count": 0,
      "outputs": [
        {
          "output_type": "stream",
          "text": [
            "bin\t datalab  gdrive  lib32  mnt   root  srv    tmp    var\n",
            "boot\t dev\t  home\t  lib64  opt   run   swift  tools\n",
            "content  etc\t  lib\t  media  proc  sbin  sys    usr\n"
          ],
          "name": "stdout"
        }
      ]
    },
    {
      "cell_type": "code",
      "metadata": {
        "id": "vyQKRLlFTSAS",
        "colab_type": "code",
        "outputId": "bbf1d407-2d96-4e52-bf73-e75715ed4bc4",
        "colab": {
          "base_uri": "https://localhost:8080/",
          "height": 215
        }
      },
      "source": [
        "# Install the PyDrive wrapper & import libraries.\n",
        "# This only needs to be done once in a notebook.\n",
        "!pip install -U -q PyDrive\n",
        "from pydrive.auth import GoogleAuth\n",
        "from pydrive.drive import GoogleDrive\n",
        "from google.colab import auth\n",
        "from oauth2client.client import GoogleCredentials\n",
        "\n",
        "# Authenticate and create the PyDrive client.\n",
        "# This only needs to be done once in a notebook.\n",
        "auth.authenticate_user()\n",
        "gauth = GoogleAuth()\n",
        "gauth.credentials = GoogleCredentials.get_application_default()\n",
        "drive = GoogleDrive(gauth)\n",
        "\n",
        "# Create & upload a text file.\n",
        "with open('train_eval.json') as f:\n",
        "# uploaded = drive.CreateFile({'title': 'Sample file.txt'})\n",
        "# uploaded.SetContentString('Sample upload file content')\n",
        "  f.Upload()\n",
        "# print('Uploaded file with ID {}'.format(uploaded.get('id')))"
      ],
      "execution_count": 0,
      "outputs": [
        {
          "output_type": "error",
          "ename": "AttributeError",
          "evalue": "ignored",
          "traceback": [
            "\u001b[0;31m---------------------------------------------------------------------------\u001b[0m",
            "\u001b[0;31mAttributeError\u001b[0m                            Traceback (most recent call last)",
            "\u001b[0;32m<ipython-input-36-362125b6d99d>\u001b[0m in \u001b[0;36m<module>\u001b[0;34m()\u001b[0m\n\u001b[1;32m     16\u001b[0m \u001b[0;31m# uploaded = drive.CreateFile({'title': 'Sample file.txt'})\u001b[0m\u001b[0;34m\u001b[0m\u001b[0;34m\u001b[0m\u001b[0;34m\u001b[0m\u001b[0m\n\u001b[1;32m     17\u001b[0m \u001b[0;31m# uploaded.SetContentString('Sample upload file content')\u001b[0m\u001b[0;34m\u001b[0m\u001b[0;34m\u001b[0m\u001b[0;34m\u001b[0m\u001b[0m\n\u001b[0;32m---> 18\u001b[0;31m   \u001b[0mf\u001b[0m\u001b[0;34m.\u001b[0m\u001b[0mUpload\u001b[0m\u001b[0;34m(\u001b[0m\u001b[0;34m)\u001b[0m\u001b[0;34m\u001b[0m\u001b[0;34m\u001b[0m\u001b[0m\n\u001b[0m\u001b[1;32m     19\u001b[0m \u001b[0;31m# print('Uploaded file with ID {}'.format(uploaded.get('id')))\u001b[0m\u001b[0;34m\u001b[0m\u001b[0;34m\u001b[0m\u001b[0;34m\u001b[0m\u001b[0m\n",
            "\u001b[0;31mAttributeError\u001b[0m: '_io.TextIOWrapper' object has no attribute 'Upload'"
          ]
        }
      ]
    },
    {
      "cell_type": "code",
      "metadata": {
        "id": "kOCJ04A3MyL6",
        "colab_type": "code",
        "outputId": "7f75153f-45e8-4efe-de6b-b4082400822e",
        "colab": {
          "base_uri": "https://localhost:8080/",
          "height": 119
        }
      },
      "source": [
        "!python test.py -n baseline\n"
      ],
      "execution_count": 0,
      "outputs": [
        {
          "output_type": "stream",
          "text": [
            "Traceback (most recent call last):\n",
            "  File \"test.py\", line 139, in <module>\n",
            "    main(get_test_args())\n",
            "  File \"/content/squad/args.py\", line 173, in get_test_args\n",
            "    raise argparse.ArgumentError('Missing required argument --load_path')\n",
            "TypeError: __init__() missing 1 required positional argument: 'message'\n"
          ],
          "name": "stdout"
        }
      ]
    },
    {
      "cell_type": "code",
      "metadata": {
        "id": "yk46c_g4Qr6C",
        "colab_type": "code",
        "colab": {}
      },
      "source": [
        ""
      ],
      "execution_count": 0,
      "outputs": []
    },
    {
      "cell_type": "code",
      "metadata": {
        "id": "H9-QODViQr2r",
        "colab_type": "code",
        "colab": {}
      },
      "source": [
        ""
      ],
      "execution_count": 0,
      "outputs": []
    },
    {
      "cell_type": "code",
      "metadata": {
        "id": "-F2_Em7PQrz1",
        "colab_type": "code",
        "colab": {}
      },
      "source": [
        ""
      ],
      "execution_count": 0,
      "outputs": []
    },
    {
      "cell_type": "code",
      "metadata": {
        "id": "m_1vCY0_QrxO",
        "colab_type": "code",
        "colab": {}
      },
      "source": [
        ""
      ],
      "execution_count": 0,
      "outputs": []
    },
    {
      "cell_type": "code",
      "metadata": {
        "id": "6VEanSuvQkC_",
        "colab_type": "code",
        "outputId": "f1e7ece1-e4e0-4ec8-bcf6-28daaef5e411",
        "colab": {
          "base_uri": "https://localhost:8080/",
          "height": 34
        }
      },
      "source": [
        "%cd squad"
      ],
      "execution_count": 0,
      "outputs": [
        {
          "output_type": "stream",
          "text": [
            "/content/squad\n"
          ],
          "name": "stdout"
        }
      ]
    }
  ]
}
