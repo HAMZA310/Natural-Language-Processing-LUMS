{
 "cells": [
  {
   "cell_type": "markdown",
   "metadata": {},
   "source": [
    "# CS 5316 - Assignment # 3\n",
    "#### The purpose of this assigment is to introduce nltk and keras. Please visit the below link for a quick introduction and installation.\n",
    "#### __[nltk.org](http://www.nltk.org/)__\n",
    "\n",
    "-  Please rename the file to nlp_assignment3_yourRollNo.<br>\n",
    "-  Do not copy code from anywhere.<br>\n",
    "-  Write clear and well commented code<br>\n",
    "-  A viva may also be conducted.<br>\n",
    "-  Solution must be written in this notebook (you do not need to submit any other files).\n",
    "-  The output of all cells must be present in the version of the notebook you submit.\n",
    "-  You can insert as many cells as you want for Sentiment analysis, POS tagging and NER tasks."
   ]
  },
  {
   "cell_type": "markdown",
   "metadata": {},
   "source": [
    "## Some basic tasks with nltk\n"
   ]
  },
  {
   "cell_type": "code",
   "execution_count": 2,
   "metadata": {},
   "outputs": [],
   "source": [
    "import nltk"
   ]
  },
  {
   "cell_type": "code",
   "execution_count": 3,
   "metadata": {},
   "outputs": [],
   "source": [
    "import itertools\n",
    "import re\n",
    "from nltk.stem import WordNetLemmatizer\n",
    "from nltk.metrics.scores import (precision, recall, f_measure)"
   ]
  },
  {
   "cell_type": "code",
   "execution_count": 4,
   "metadata": {},
   "outputs": [],
   "source": [
    "import numpy as np\n",
    "from sklearn import metrics\n"
   ]
  },
  {
   "cell_type": "code",
   "execution_count": 5,
   "metadata": {},
   "outputs": [],
   "source": [
    "text = [\"Here are few sentences to tokenize.\",\"Let's start with this one.\", \"How about one more?\",\"hmmm that's sounds interesting!\"]"
   ]
  },
  {
   "cell_type": "code",
   "execution_count": 6,
   "metadata": {},
   "outputs": [],
   "source": [
    "from nltk.tokenize import sent_tokenize, word_tokenize"
   ]
  },
  {
   "cell_type": "markdown",
   "metadata": {},
   "source": [
    "### tokenize above text into bag of words using nltk<br>\n",
    "#### This function should return a list"
   ]
  },
  {
   "cell_type": "code",
   "execution_count": 7,
   "metadata": {},
   "outputs": [
    {
     "data": {
      "text/plain": [
       "['Here',\n",
       " 'are',\n",
       " 'few',\n",
       " 'sentences',\n",
       " 'to',\n",
       " 'tokenize',\n",
       " '.',\n",
       " 'Let',\n",
       " \"'s\",\n",
       " 'start',\n",
       " 'with',\n",
       " 'this',\n",
       " 'one',\n",
       " '.',\n",
       " 'How',\n",
       " 'about',\n",
       " 'one',\n",
       " 'more',\n",
       " '?',\n",
       " 'hmmm',\n",
       " 'that',\n",
       " \"'s\",\n",
       " 'sounds',\n",
       " 'interesting',\n",
       " '!']"
      ]
     },
     "execution_count": 7,
     "metadata": {},
     "output_type": "execute_result"
    }
   ],
   "source": [
    "def question_one():  \n",
    "    return list(itertools.chain.from_iterable([word_tokenize(line) for line in text]))\n",
    "question_one()"
   ]
  },
  {
   "cell_type": "markdown",
   "metadata": {},
   "source": [
    "### Remove punctuations from tokenized sentences using regex<br>\n",
    "#### This function should return a list of words after punctuations are removed\n"
   ]
  },
  {
   "cell_type": "code",
   "execution_count": 8,
   "metadata": {},
   "outputs": [
    {
     "data": {
      "text/plain": [
       "['Here',\n",
       " 'are',\n",
       " 'few',\n",
       " 'sentences',\n",
       " 'to',\n",
       " 'tokenize',\n",
       " 'Let',\n",
       " 'start',\n",
       " 'with',\n",
       " 'this',\n",
       " 'one',\n",
       " 'How',\n",
       " 'about',\n",
       " 'one',\n",
       " 'more',\n",
       " 'hmmm',\n",
       " 'that',\n",
       " 'sounds',\n",
       " 'interesting']"
      ]
     },
     "execution_count": 8,
     "metadata": {},
     "output_type": "execute_result"
    }
   ],
   "source": [
    "def question_two(tokens=question_one()):\n",
    "    punc_dectected = re.compile(r'\\W')\n",
    "    return [token for token in tokens if not punc_dectected.match(token)]\n",
    " \n",
    "tokenized_text_no_punctuations = question_two()\n",
    "tokenized_text_no_punctuations"
   ]
  },
  {
   "cell_type": "markdown",
   "metadata": {},
   "source": [
    "### remove stop words\n",
    "#### This function should also return a list of words without any punctuations and stop words"
   ]
  },
  {
   "cell_type": "code",
   "execution_count": 9,
   "metadata": {},
   "outputs": [
    {
     "data": {
      "text/plain": [
       "['Here',\n",
       " 'sentences',\n",
       " 'tokenize',\n",
       " 'Let',\n",
       " 'start',\n",
       " 'one',\n",
       " 'How',\n",
       " 'one',\n",
       " 'hmmm',\n",
       " 'sounds',\n",
       " 'interesting']"
      ]
     },
     "execution_count": 9,
     "metadata": {},
     "output_type": "execute_result"
    }
   ],
   "source": [
    "from nltk.corpus import stopwords\n",
    "\n",
    "def question_three(words=question_two()):\n",
    "    _stopwords = (stopwords.words('english'))\n",
    "    return [token for token in words if token not in _stopwords]\n",
    "\n",
    "question_three()"
   ]
  },
  {
   "cell_type": "markdown",
   "metadata": {},
   "source": [
    "## In this part of the assigment you will be exploring a novel Sense and Sensibility by Jane Austen 1811"
   ]
  },
  {
   "cell_type": "markdown",
   "metadata": {},
   "source": [
    "#### Run below code if you have already downloaded books from nltk. If you haven't then uncomment the line and run it. You can then download books using downloader."
   ]
  },
  {
   "cell_type": "code",
   "execution_count": 11,
   "metadata": {},
   "outputs": [
    {
     "name": "stdout",
     "output_type": "stream",
     "text": [
      "*** Introductory Examples for the NLTK Book ***\n",
      "Loading text1, ..., text9 and sent1, ..., sent9\n",
      "Type the name of the text or sentence to view it.\n",
      "Type: 'texts()' or 'sents()' to list the materials.\n",
      "text1: Moby Dick by Herman Melville 1851\n",
      "text2: Sense and Sensibility by Jane Austen 1811\n",
      "text3: The Book of Genesis\n",
      "text4: Inaugural Address Corpus\n",
      "text5: Chat Corpus\n",
      "text6: Monty Python and the Holy Grail\n",
      "text7: Wall Street Journal\n",
      "text8: Personals Corpus\n",
      "text9: The Man Who Was Thursday by G . K . Chesterton 1908\n"
     ]
    }
   ],
   "source": [
    "# nltk.download()\n",
    "from nltk.book import *\n"
   ]
  },
  {
   "cell_type": "code",
   "execution_count": 12,
   "metadata": {},
   "outputs": [
    {
     "data": {
      "text/plain": [
       "<Text: Sense and Sensibility by Jane Austen 1811>"
      ]
     },
     "execution_count": 12,
     "metadata": {},
     "output_type": "execute_result"
    }
   ],
   "source": [
    "text2"
   ]
  },
  {
   "cell_type": "markdown",
   "metadata": {},
   "source": [
    "### total count of tokens\n",
    "#### This function should return an integer"
   ]
  },
  {
   "cell_type": "code",
   "execution_count": 13,
   "metadata": {},
   "outputs": [
    {
     "data": {
      "text/plain": [
       "141576"
      ]
     },
     "execution_count": 13,
     "metadata": {},
     "output_type": "execute_result"
    }
   ],
   "source": [
    "def question_four():\n",
    "    return len(text2)\n",
    "question_four()"
   ]
  },
  {
   "cell_type": "markdown",
   "metadata": {},
   "source": [
    "### total count of unique tokens\n",
    "#### This function should also return an integer"
   ]
  },
  {
   "cell_type": "code",
   "execution_count": 11,
   "metadata": {},
   "outputs": [
    {
     "data": {
      "text/plain": [
       "6833"
      ]
     },
     "execution_count": 11,
     "metadata": {},
     "output_type": "execute_result"
    }
   ],
   "source": [
    "def question_five():\n",
    "    return len(set(text2))\n",
    "question_five()"
   ]
  },
  {
   "cell_type": "markdown",
   "metadata": {},
   "source": [
    "### lexical diversity of text2\n",
    "#### Return type of this function should be float"
   ]
  },
  {
   "cell_type": "code",
   "execution_count": 12,
   "metadata": {},
   "outputs": [
    {
     "data": {
      "text/plain": [
       "0.04826383002768831"
      ]
     },
     "execution_count": 12,
     "metadata": {},
     "output_type": "execute_result"
    }
   ],
   "source": [
    "def question_six():\n",
    "    return question_five()/question_four()\n",
    "question_six()"
   ]
  },
  {
   "cell_type": "markdown",
   "metadata": {},
   "source": [
    "### lemmatize text2\n",
    "#### This function should return a list of lemmatized tokens which you would be using for all the upcoming tasks"
   ]
  },
  {
   "cell_type": "code",
   "execution_count": null,
   "metadata": {},
   "outputs": [],
   "source": []
  },
  {
   "cell_type": "code",
   "execution_count": 14,
   "metadata": {},
   "outputs": [
    {
     "data": {
      "text/plain": [
       "['[',\n",
       " 'Sense',\n",
       " 'and',\n",
       " 'Sensibility',\n",
       " 'by',\n",
       " 'Jane',\n",
       " 'Austen',\n",
       " '1811',\n",
       " ']',\n",
       " 'CHAPTER',\n",
       " '1',\n",
       " 'The',\n",
       " 'family',\n",
       " 'of',\n",
       " 'Dashwood',\n",
       " 'had',\n",
       " 'long',\n",
       " 'been',\n",
       " 'settled',\n",
       " 'in',\n",
       " 'Sussex',\n",
       " '.',\n",
       " 'Their',\n",
       " 'estate',\n",
       " 'wa',\n",
       " 'large',\n",
       " ',',\n",
       " 'and',\n",
       " 'their',\n",
       " 'residence',\n",
       " 'wa',\n",
       " 'at',\n",
       " 'Norland',\n",
       " 'Park',\n",
       " ',',\n",
       " 'in',\n",
       " 'the',\n",
       " 'centre',\n",
       " 'of',\n",
       " 'their',\n",
       " 'property',\n",
       " ',',\n",
       " 'where',\n",
       " ',',\n",
       " 'for',\n",
       " 'many',\n",
       " 'generation',\n",
       " ',',\n",
       " 'they',\n",
       " 'had',\n",
       " 'lived',\n",
       " 'in',\n",
       " 'so',\n",
       " 'respectable',\n",
       " 'a',\n",
       " 'manner',\n",
       " 'a',\n",
       " 'to',\n",
       " 'engage',\n",
       " 'the',\n",
       " 'general',\n",
       " 'good',\n",
       " 'opinion',\n",
       " 'of',\n",
       " 'their',\n",
       " 'surrounding',\n",
       " 'acquaintance',\n",
       " '.',\n",
       " 'The',\n",
       " 'late',\n",
       " 'owner',\n",
       " 'of',\n",
       " 'this',\n",
       " 'estate',\n",
       " 'wa',\n",
       " 'a',\n",
       " 'single',\n",
       " 'man',\n",
       " ',',\n",
       " 'who',\n",
       " 'lived',\n",
       " 'to',\n",
       " 'a',\n",
       " 'very',\n",
       " 'advanced',\n",
       " 'age',\n",
       " ',',\n",
       " 'and',\n",
       " 'who',\n",
       " 'for',\n",
       " 'many',\n",
       " 'year',\n",
       " 'of',\n",
       " 'his',\n",
       " 'life',\n",
       " ',',\n",
       " 'had',\n",
       " 'a',\n",
       " 'constant',\n",
       " 'companion',\n",
       " 'and',\n",
       " 'housekeeper',\n",
       " 'in',\n",
       " 'his',\n",
       " 'sister',\n",
       " '.',\n",
       " 'But',\n",
       " 'her',\n",
       " 'death',\n",
       " ',',\n",
       " 'which',\n",
       " 'happened',\n",
       " 'ten',\n",
       " 'year',\n",
       " 'before',\n",
       " 'his',\n",
       " 'own',\n",
       " ',',\n",
       " 'produced',\n",
       " 'a',\n",
       " 'great',\n",
       " 'alteration',\n",
       " 'in',\n",
       " 'his',\n",
       " 'home',\n",
       " ';',\n",
       " 'for',\n",
       " 'to',\n",
       " 'supply',\n",
       " 'her',\n",
       " 'loss',\n",
       " ',',\n",
       " 'he',\n",
       " 'invited',\n",
       " 'and',\n",
       " 'received',\n",
       " 'into',\n",
       " 'his',\n",
       " 'house',\n",
       " 'the',\n",
       " 'family',\n",
       " 'of',\n",
       " 'his',\n",
       " 'nephew',\n",
       " 'Mr',\n",
       " '.',\n",
       " 'Henry',\n",
       " 'Dashwood',\n",
       " ',',\n",
       " 'the',\n",
       " 'legal',\n",
       " 'inheritor',\n",
       " 'of',\n",
       " 'the',\n",
       " 'Norland',\n",
       " 'estate',\n",
       " ',',\n",
       " 'and',\n",
       " 'the',\n",
       " 'person',\n",
       " 'to',\n",
       " 'whom',\n",
       " 'he',\n",
       " 'intended',\n",
       " 'to',\n",
       " 'bequeath',\n",
       " 'it',\n",
       " '.',\n",
       " 'In',\n",
       " 'the',\n",
       " 'society',\n",
       " 'of',\n",
       " 'his',\n",
       " 'nephew',\n",
       " 'and',\n",
       " 'niece',\n",
       " ',',\n",
       " 'and',\n",
       " 'their',\n",
       " 'child',\n",
       " ',',\n",
       " 'the',\n",
       " 'old',\n",
       " 'Gentleman',\n",
       " \"'\",\n",
       " 's',\n",
       " 'day',\n",
       " 'were',\n",
       " 'comfortably',\n",
       " 'spent',\n",
       " '.',\n",
       " 'His',\n",
       " 'attachment',\n",
       " 'to',\n",
       " 'them',\n",
       " 'all',\n",
       " 'increased',\n",
       " '.',\n",
       " 'The',\n",
       " 'constant',\n",
       " 'attention',\n",
       " 'of',\n",
       " 'Mr',\n",
       " '.',\n",
       " 'and',\n",
       " 'Mrs',\n",
       " '.',\n",
       " 'Henry',\n",
       " 'Dashwood',\n",
       " 'to',\n",
       " 'his',\n",
       " 'wish',\n",
       " ',',\n",
       " 'which',\n",
       " 'proceeded',\n",
       " 'not',\n",
       " 'merely',\n",
       " 'from',\n",
       " 'interest',\n",
       " ',',\n",
       " 'but',\n",
       " 'from',\n",
       " 'goodness',\n",
       " 'of',\n",
       " 'heart',\n",
       " ',',\n",
       " 'gave',\n",
       " 'him',\n",
       " 'every',\n",
       " 'degree',\n",
       " 'of',\n",
       " 'solid',\n",
       " 'comfort',\n",
       " 'which',\n",
       " 'his',\n",
       " 'age',\n",
       " 'could',\n",
       " 'receive',\n",
       " ';',\n",
       " 'and',\n",
       " 'the',\n",
       " 'cheerfulness',\n",
       " 'of',\n",
       " 'the',\n",
       " 'child',\n",
       " 'added',\n",
       " 'a',\n",
       " 'relish',\n",
       " 'to',\n",
       " 'his',\n",
       " 'existence',\n",
       " '.',\n",
       " 'By',\n",
       " 'a',\n",
       " 'former',\n",
       " 'marriage',\n",
       " ',',\n",
       " 'Mr',\n",
       " '.',\n",
       " 'Henry',\n",
       " 'Dashwood',\n",
       " 'had',\n",
       " 'one',\n",
       " 'son',\n",
       " ':',\n",
       " 'by',\n",
       " 'his',\n",
       " 'present',\n",
       " 'lady',\n",
       " ',',\n",
       " 'three',\n",
       " 'daughter',\n",
       " '.',\n",
       " 'The',\n",
       " 'son',\n",
       " ',',\n",
       " 'a',\n",
       " 'steady',\n",
       " 'respectable',\n",
       " 'young',\n",
       " 'man',\n",
       " ',',\n",
       " 'wa',\n",
       " 'amply',\n",
       " 'provided',\n",
       " 'for',\n",
       " 'by',\n",
       " 'the',\n",
       " 'fortune',\n",
       " 'of',\n",
       " 'his',\n",
       " 'mother',\n",
       " ',',\n",
       " 'which',\n",
       " 'had',\n",
       " 'been',\n",
       " 'large',\n",
       " ',',\n",
       " 'and',\n",
       " 'half',\n",
       " 'of',\n",
       " 'which',\n",
       " 'devolved',\n",
       " 'on',\n",
       " 'him',\n",
       " 'on',\n",
       " 'his',\n",
       " 'coming',\n",
       " 'of',\n",
       " 'age',\n",
       " '.',\n",
       " 'By',\n",
       " 'his',\n",
       " 'own',\n",
       " 'marriage',\n",
       " ',',\n",
       " 'likewise',\n",
       " ',',\n",
       " 'which',\n",
       " 'happened',\n",
       " 'soon',\n",
       " 'afterwards',\n",
       " ',',\n",
       " 'he',\n",
       " 'added',\n",
       " 'to',\n",
       " 'his',\n",
       " 'wealth',\n",
       " '.',\n",
       " 'To',\n",
       " 'him',\n",
       " 'therefore',\n",
       " 'the',\n",
       " 'succession',\n",
       " 'to',\n",
       " 'the',\n",
       " 'Norland',\n",
       " 'estate',\n",
       " 'wa',\n",
       " 'not',\n",
       " 'so',\n",
       " 'really',\n",
       " 'important',\n",
       " 'a',\n",
       " 'to',\n",
       " 'his',\n",
       " 'sister',\n",
       " ';',\n",
       " 'for',\n",
       " 'their',\n",
       " 'fortune',\n",
       " ',',\n",
       " 'independent',\n",
       " 'of',\n",
       " 'what',\n",
       " 'might',\n",
       " 'arise',\n",
       " 'to',\n",
       " 'them',\n",
       " 'from',\n",
       " 'their',\n",
       " 'father',\n",
       " \"'\",\n",
       " 's',\n",
       " 'inheriting',\n",
       " 'that',\n",
       " 'property',\n",
       " ',',\n",
       " 'could',\n",
       " 'be',\n",
       " 'but',\n",
       " 'small',\n",
       " '.',\n",
       " 'Their',\n",
       " 'mother',\n",
       " 'had',\n",
       " 'nothing',\n",
       " ',',\n",
       " 'and',\n",
       " 'their',\n",
       " 'father',\n",
       " 'only',\n",
       " 'seven',\n",
       " 'thousand',\n",
       " 'pound',\n",
       " 'in',\n",
       " 'his',\n",
       " 'own',\n",
       " 'disposal',\n",
       " ';',\n",
       " 'for',\n",
       " 'the',\n",
       " 'remaining',\n",
       " 'moiety',\n",
       " 'of',\n",
       " 'his',\n",
       " 'first',\n",
       " 'wife',\n",
       " \"'\",\n",
       " 's',\n",
       " 'fortune',\n",
       " 'wa',\n",
       " 'also',\n",
       " 'secured',\n",
       " 'to',\n",
       " 'her',\n",
       " 'child',\n",
       " ',',\n",
       " 'and',\n",
       " 'he',\n",
       " 'had',\n",
       " 'only',\n",
       " 'a',\n",
       " 'life',\n",
       " '-',\n",
       " 'interest',\n",
       " 'in',\n",
       " 'it',\n",
       " '.',\n",
       " 'The',\n",
       " 'old',\n",
       " 'gentleman',\n",
       " 'died',\n",
       " ':',\n",
       " 'his',\n",
       " 'will',\n",
       " 'wa',\n",
       " 'read',\n",
       " ',',\n",
       " 'and',\n",
       " 'like',\n",
       " 'almost',\n",
       " 'every',\n",
       " 'other',\n",
       " 'will',\n",
       " ',',\n",
       " 'gave',\n",
       " 'a',\n",
       " 'much',\n",
       " 'disappointment',\n",
       " 'a',\n",
       " 'pleasure',\n",
       " '.',\n",
       " 'He',\n",
       " 'wa',\n",
       " 'neither',\n",
       " 'so',\n",
       " 'unjust',\n",
       " ',',\n",
       " 'nor',\n",
       " 'so',\n",
       " 'ungrateful',\n",
       " ',',\n",
       " 'a',\n",
       " 'to',\n",
       " 'leave',\n",
       " 'his',\n",
       " 'estate',\n",
       " 'from',\n",
       " 'his',\n",
       " 'nephew',\n",
       " ';--',\n",
       " 'but',\n",
       " 'he',\n",
       " 'left',\n",
       " 'it',\n",
       " 'to',\n",
       " 'him',\n",
       " 'on',\n",
       " 'such',\n",
       " 'term',\n",
       " 'a',\n",
       " 'destroyed',\n",
       " 'half',\n",
       " 'the',\n",
       " 'value',\n",
       " 'of',\n",
       " 'the',\n",
       " 'bequest',\n",
       " '.',\n",
       " 'Mr',\n",
       " '.',\n",
       " 'Dashwood',\n",
       " 'had',\n",
       " 'wished',\n",
       " 'for',\n",
       " 'it',\n",
       " 'more',\n",
       " 'for',\n",
       " 'the',\n",
       " 'sake',\n",
       " 'of',\n",
       " 'his',\n",
       " 'wife',\n",
       " 'and',\n",
       " 'daughter',\n",
       " 'than',\n",
       " 'for',\n",
       " 'himself',\n",
       " 'or',\n",
       " 'his',\n",
       " 'son',\n",
       " ';--',\n",
       " 'but',\n",
       " 'to',\n",
       " 'his',\n",
       " 'son',\n",
       " ',',\n",
       " 'and',\n",
       " 'his',\n",
       " 'son',\n",
       " \"'\",\n",
       " 's',\n",
       " 'son',\n",
       " ',',\n",
       " 'a',\n",
       " 'child',\n",
       " 'of',\n",
       " 'four',\n",
       " 'year',\n",
       " 'old',\n",
       " ',',\n",
       " 'it',\n",
       " 'wa',\n",
       " 'secured',\n",
       " ',',\n",
       " 'in',\n",
       " 'such',\n",
       " 'a',\n",
       " 'way',\n",
       " ',',\n",
       " 'a',\n",
       " 'to',\n",
       " 'leave',\n",
       " 'to',\n",
       " 'himself',\n",
       " 'no',\n",
       " 'power',\n",
       " 'of',\n",
       " 'providing',\n",
       " 'for',\n",
       " 'those',\n",
       " 'who',\n",
       " 'were',\n",
       " 'most',\n",
       " 'dear',\n",
       " 'to',\n",
       " 'him',\n",
       " ',',\n",
       " 'and',\n",
       " 'who',\n",
       " 'most',\n",
       " 'needed',\n",
       " 'a',\n",
       " 'provision',\n",
       " 'by',\n",
       " 'any',\n",
       " 'charge',\n",
       " 'on',\n",
       " 'the',\n",
       " 'estate',\n",
       " ',',\n",
       " 'or',\n",
       " 'by',\n",
       " 'any',\n",
       " 'sale',\n",
       " 'of',\n",
       " 'it',\n",
       " 'valuable',\n",
       " 'wood',\n",
       " '.',\n",
       " 'The',\n",
       " 'whole',\n",
       " 'wa',\n",
       " 'tied',\n",
       " 'up',\n",
       " 'for',\n",
       " 'the',\n",
       " 'benefit',\n",
       " 'of',\n",
       " 'this',\n",
       " 'child',\n",
       " ',',\n",
       " 'who',\n",
       " ',',\n",
       " 'in',\n",
       " 'occasional',\n",
       " 'visit',\n",
       " 'with',\n",
       " 'his',\n",
       " 'father',\n",
       " 'and',\n",
       " 'mother',\n",
       " 'at',\n",
       " 'Norland',\n",
       " ',',\n",
       " 'had',\n",
       " 'so',\n",
       " 'far',\n",
       " 'gained',\n",
       " 'on',\n",
       " 'the',\n",
       " 'affection',\n",
       " 'of',\n",
       " 'his',\n",
       " 'uncle',\n",
       " ',',\n",
       " 'by',\n",
       " 'such',\n",
       " 'attraction',\n",
       " 'a',\n",
       " 'are',\n",
       " 'by',\n",
       " 'no',\n",
       " 'mean',\n",
       " 'unusual',\n",
       " 'in',\n",
       " 'child',\n",
       " 'of',\n",
       " 'two',\n",
       " 'or',\n",
       " 'three',\n",
       " 'year',\n",
       " 'old',\n",
       " ';',\n",
       " 'an',\n",
       " 'imperfect',\n",
       " 'articulation',\n",
       " ',',\n",
       " 'an',\n",
       " 'earnest',\n",
       " 'desire',\n",
       " 'of',\n",
       " 'having',\n",
       " 'his',\n",
       " 'own',\n",
       " 'way',\n",
       " ',',\n",
       " 'many',\n",
       " 'cunning',\n",
       " 'trick',\n",
       " ',',\n",
       " 'and',\n",
       " 'a',\n",
       " 'great',\n",
       " 'deal',\n",
       " 'of',\n",
       " 'noise',\n",
       " ',',\n",
       " 'a',\n",
       " 'to',\n",
       " 'outweigh',\n",
       " 'all',\n",
       " 'the',\n",
       " 'value',\n",
       " 'of',\n",
       " 'all',\n",
       " 'the',\n",
       " 'attention',\n",
       " 'which',\n",
       " ',',\n",
       " 'for',\n",
       " 'year',\n",
       " ',',\n",
       " 'he',\n",
       " 'had',\n",
       " 'received',\n",
       " 'from',\n",
       " 'his',\n",
       " 'niece',\n",
       " 'and',\n",
       " 'her',\n",
       " 'daughter',\n",
       " '.',\n",
       " 'He',\n",
       " 'meant',\n",
       " 'not',\n",
       " 'to',\n",
       " 'be',\n",
       " 'unkind',\n",
       " ',',\n",
       " 'however',\n",
       " ',',\n",
       " 'and',\n",
       " ',',\n",
       " 'a',\n",
       " 'a',\n",
       " 'mark',\n",
       " 'of',\n",
       " 'his',\n",
       " 'affection',\n",
       " 'for',\n",
       " 'the',\n",
       " 'three',\n",
       " 'girl',\n",
       " ',',\n",
       " 'he',\n",
       " 'left',\n",
       " 'them',\n",
       " 'a',\n",
       " 'thousand',\n",
       " 'pound',\n",
       " 'a',\n",
       " '-',\n",
       " 'piece',\n",
       " '.',\n",
       " 'Mr',\n",
       " '.',\n",
       " 'Dashwood',\n",
       " \"'\",\n",
       " 's',\n",
       " 'disappointment',\n",
       " 'wa',\n",
       " ',',\n",
       " 'at',\n",
       " 'first',\n",
       " ',',\n",
       " 'severe',\n",
       " ';',\n",
       " 'but',\n",
       " 'his',\n",
       " 'temper',\n",
       " 'wa',\n",
       " 'cheerful',\n",
       " 'and',\n",
       " 'sanguine',\n",
       " ';',\n",
       " 'and',\n",
       " 'he',\n",
       " 'might',\n",
       " 'reasonably',\n",
       " 'hope',\n",
       " 'to',\n",
       " 'live',\n",
       " 'many',\n",
       " 'year',\n",
       " ',',\n",
       " 'and',\n",
       " 'by',\n",
       " 'living',\n",
       " 'economically',\n",
       " ',',\n",
       " 'lay',\n",
       " 'by',\n",
       " 'a',\n",
       " 'considerable',\n",
       " 'sum',\n",
       " 'from',\n",
       " 'the',\n",
       " 'produce',\n",
       " 'of',\n",
       " 'an',\n",
       " 'estate',\n",
       " 'already',\n",
       " 'large',\n",
       " ',',\n",
       " 'and',\n",
       " 'capable',\n",
       " 'of',\n",
       " 'almost',\n",
       " 'immediate',\n",
       " 'improvement',\n",
       " '.',\n",
       " 'But',\n",
       " 'the',\n",
       " 'fortune',\n",
       " ',',\n",
       " 'which',\n",
       " 'had',\n",
       " 'been',\n",
       " 'so',\n",
       " 'tardy',\n",
       " 'in',\n",
       " 'coming',\n",
       " ',',\n",
       " 'wa',\n",
       " 'his',\n",
       " 'only',\n",
       " 'one',\n",
       " 'twelvemonth',\n",
       " '.',\n",
       " 'He',\n",
       " 'survived',\n",
       " 'his',\n",
       " 'uncle',\n",
       " 'no',\n",
       " 'longer',\n",
       " ';',\n",
       " 'and',\n",
       " 'ten',\n",
       " 'thousand',\n",
       " 'pound',\n",
       " ',',\n",
       " 'including',\n",
       " 'the',\n",
       " 'late',\n",
       " 'legacy',\n",
       " ',',\n",
       " 'wa',\n",
       " 'all',\n",
       " 'that',\n",
       " 'remained',\n",
       " 'for',\n",
       " 'his',\n",
       " 'widow',\n",
       " 'and',\n",
       " 'daughter',\n",
       " '.',\n",
       " 'His',\n",
       " 'son',\n",
       " 'wa',\n",
       " 'sent',\n",
       " 'for',\n",
       " 'a',\n",
       " 'soon',\n",
       " 'a',\n",
       " 'his',\n",
       " 'danger',\n",
       " 'wa',\n",
       " 'known',\n",
       " ',',\n",
       " 'and',\n",
       " 'to',\n",
       " 'him',\n",
       " 'Mr',\n",
       " '.',\n",
       " 'Dashwood',\n",
       " 'recommended',\n",
       " ',',\n",
       " 'with',\n",
       " 'all',\n",
       " 'the',\n",
       " 'strength',\n",
       " 'and',\n",
       " 'urgency',\n",
       " 'which',\n",
       " 'illness',\n",
       " 'could',\n",
       " 'command',\n",
       " ',',\n",
       " 'the',\n",
       " 'interest',\n",
       " 'of',\n",
       " 'his',\n",
       " 'mother',\n",
       " '-',\n",
       " 'in',\n",
       " '-',\n",
       " 'law',\n",
       " 'and',\n",
       " 'sister',\n",
       " '.',\n",
       " 'Mr',\n",
       " '.',\n",
       " 'John',\n",
       " 'Dashwood',\n",
       " 'had',\n",
       " 'not',\n",
       " 'the',\n",
       " 'strong',\n",
       " 'feeling',\n",
       " 'of',\n",
       " 'the',\n",
       " 'rest',\n",
       " 'of',\n",
       " 'the',\n",
       " 'family',\n",
       " ';',\n",
       " 'but',\n",
       " 'he',\n",
       " 'wa',\n",
       " 'affected',\n",
       " 'by',\n",
       " 'a',\n",
       " 'recommendation',\n",
       " 'of',\n",
       " 'such',\n",
       " 'a',\n",
       " 'nature',\n",
       " 'at',\n",
       " 'such',\n",
       " 'a',\n",
       " 'time',\n",
       " ',',\n",
       " 'and',\n",
       " 'he',\n",
       " 'promised',\n",
       " 'to',\n",
       " 'do',\n",
       " 'every',\n",
       " 'thing',\n",
       " 'in',\n",
       " 'his',\n",
       " 'power',\n",
       " 'to',\n",
       " 'make',\n",
       " 'them',\n",
       " 'comfortable',\n",
       " '.',\n",
       " 'His',\n",
       " 'father',\n",
       " 'wa',\n",
       " 'rendered',\n",
       " 'easy',\n",
       " 'by',\n",
       " 'such',\n",
       " 'an',\n",
       " 'assurance',\n",
       " ',',\n",
       " 'and',\n",
       " 'Mr',\n",
       " '.',\n",
       " 'John',\n",
       " 'Dashwood',\n",
       " 'had',\n",
       " 'then',\n",
       " 'leisure',\n",
       " 'to',\n",
       " 'consider',\n",
       " 'how',\n",
       " 'much',\n",
       " 'there',\n",
       " 'might',\n",
       " 'prudently',\n",
       " 'be',\n",
       " 'in',\n",
       " 'his',\n",
       " 'power',\n",
       " 'to',\n",
       " 'do',\n",
       " 'for',\n",
       " 'them',\n",
       " '.',\n",
       " 'He',\n",
       " 'wa',\n",
       " 'not',\n",
       " 'an',\n",
       " 'ill',\n",
       " '-',\n",
       " 'disposed',\n",
       " 'young',\n",
       " 'man',\n",
       " ',',\n",
       " 'unless',\n",
       " 'to',\n",
       " 'be',\n",
       " 'rather',\n",
       " 'cold',\n",
       " 'hearted',\n",
       " 'and',\n",
       " 'rather',\n",
       " 'selfish',\n",
       " 'is',\n",
       " 'to',\n",
       " 'be',\n",
       " 'ill',\n",
       " '-',\n",
       " 'disposed',\n",
       " ':',\n",
       " 'but',\n",
       " 'he',\n",
       " 'wa',\n",
       " ',',\n",
       " 'in',\n",
       " 'general',\n",
       " ',',\n",
       " 'well',\n",
       " 'respected',\n",
       " ';',\n",
       " 'for',\n",
       " 'he',\n",
       " 'conducted',\n",
       " 'himself',\n",
       " 'with',\n",
       " 'propriety',\n",
       " 'in',\n",
       " 'the',\n",
       " 'discharge',\n",
       " 'of',\n",
       " 'his',\n",
       " 'ordinary',\n",
       " 'duty',\n",
       " '.',\n",
       " 'Had',\n",
       " 'he',\n",
       " 'married',\n",
       " 'a',\n",
       " 'more',\n",
       " 'amiable',\n",
       " 'woman',\n",
       " ',',\n",
       " 'he',\n",
       " 'might',\n",
       " 'have',\n",
       " 'been',\n",
       " 'made',\n",
       " 'still',\n",
       " 'more',\n",
       " 'respectable',\n",
       " 'than',\n",
       " ...]"
      ]
     },
     "execution_count": 14,
     "metadata": {},
     "output_type": "execute_result"
    }
   ],
   "source": [
    "def question_seven(text=text2):\n",
    "    wordnet_lemmatizer = WordNetLemmatizer() \n",
    "    return [wordnet_lemmatizer.lemmatize(token) for token in text]\n",
    "\n",
    "lemmatized_text2 = question_seven()\n",
    "lemmatized_text2\n",
    "\n"
   ]
  },
  {
   "cell_type": "markdown",
   "metadata": {},
   "source": [
    "### find again the count of tokens and count of unique tokens\n",
    "#### This functions should return a tuple (count_of_tokens, count_of_unique_tokens)"
   ]
  },
  {
   "cell_type": "code",
   "execution_count": 14,
   "metadata": {},
   "outputs": [
    {
     "data": {
      "text/plain": [
       "(141576, 6331)"
      ]
     },
     "execution_count": 14,
     "metadata": {},
     "output_type": "execute_result"
    }
   ],
   "source": [
    "def questions_eight():\n",
    "    return len(lemmatized_text2), len(set(lemmatized_text2))\n",
    "    \n",
    "questions_eight()"
   ]
  },
  {
   "cell_type": "markdown",
   "metadata": {},
   "source": [
    "### percentage of words that are either dashwood or Dashwood\n",
    "#### This function should return a float."
   ]
  },
  {
   "cell_type": "code",
   "execution_count": 17,
   "metadata": {},
   "outputs": [],
   "source": [
    "freq_dist = FreqDist(lemmatized_text2)"
   ]
  },
  {
   "cell_type": "code",
   "execution_count": 16,
   "metadata": {},
   "outputs": [
    {
     "data": {
      "text/plain": [
       "0.17799627055433126"
      ]
     },
     "execution_count": 16,
     "metadata": {},
     "output_type": "execute_result"
    }
   ],
   "source": [
    "def question_nine():\n",
    "    return ((freq_dist['Dashwood'] + freq_dist['dashwood']) / len(lemmatized_text2)) * 100\n",
    "\n",
    "question_nine()"
   ]
  },
  {
   "cell_type": "markdown",
   "metadata": {},
   "source": [
    "### first 20 unique tokens\n",
    "#### Return a list of length 20"
   ]
  },
  {
   "cell_type": "code",
   "execution_count": 15,
   "metadata": {},
   "outputs": [
    {
     "data": {
      "text/plain": [
       "['dispose',\n",
       " 'affair',\n",
       " 'deficiency',\n",
       " 'library',\n",
       " 'alteration',\n",
       " 'simpered',\n",
       " 'Sussex',\n",
       " 'Street',\n",
       " 'fancy',\n",
       " 'sends',\n",
       " 'per',\n",
       " 'kitchen',\n",
       " 'Donavan',\n",
       " 'sens',\n",
       " 'society',\n",
       " 'esteeming',\n",
       " 'strange',\n",
       " 'talk',\n",
       " 'raising',\n",
       " 'prepared']"
      ]
     },
     "execution_count": 15,
     "metadata": {},
     "output_type": "execute_result"
    }
   ],
   "source": [
    "def question_ten():\n",
    "    return list(set(lemmatized_text2))[:20]\n",
    "question_ten()"
   ]
  },
  {
   "cell_type": "markdown",
   "metadata": {},
   "source": [
    "#### frequency distribution\n",
    "#### Return frequency distribution"
   ]
  },
  {
   "cell_type": "code",
   "execution_count": 19,
   "metadata": {},
   "outputs": [
    {
     "data": {
      "text/plain": [
       "FreqDist({',': 9397, 'to': 4063, '.': 3975, 'the': 3861, 'of': 3565, 'and': 3350, 'a': 3222, 'her': 2436, 'I': 2004, 'in': 1904, ...})"
      ]
     },
     "execution_count": 19,
     "metadata": {},
     "output_type": "execute_result"
    }
   ],
   "source": [
    "def question_eleven():\n",
    "    return freq_dist\n",
    "\n",
    "dist = question_eleven()\n",
    "dist"
   ]
  },
  {
   "cell_type": "markdown",
   "metadata": {},
   "source": [
    "### vocabulary\n",
    "#### return type should be dict_keys"
   ]
  },
  {
   "cell_type": "code",
   "execution_count": 20,
   "metadata": {},
   "outputs": [
    {
     "data": {
      "text/plain": [
       "dict_keys(['[', 'Sense', 'and', 'Sensibility', 'by', 'Jane', 'Austen', '1811', ']', 'CHAPTER', '1', 'The', 'family', 'of', 'Dashwood', 'had', 'long', 'been', 'settled', 'in', 'Sussex', '.', 'Their', 'estate', 'wa', 'large', ',', 'their', 'residence', 'at', 'Norland', 'Park', 'the', 'centre', 'property', 'where', 'for', 'many', 'generation', 'they', 'lived', 'so', 'respectable', 'a', 'manner', 'to', 'engage', 'general', 'good', 'opinion', 'surrounding', 'acquaintance', 'late', 'owner', 'this', 'single', 'man', 'who', 'very', 'advanced', 'age', 'year', 'his', 'life', 'constant', 'companion', 'housekeeper', 'sister', 'But', 'her', 'death', 'which', 'happened', 'ten', 'before', 'own', 'produced', 'great', 'alteration', 'home', ';', 'supply', 'loss', 'he', 'invited', 'received', 'into', 'house', 'nephew', 'Mr', 'Henry', 'legal', 'inheritor', 'person', 'whom', 'intended', 'bequeath', 'it', 'In', 'society', 'niece', 'child', 'old', 'Gentleman', \"'\", 's', 'day', 'were', 'comfortably', 'spent', 'His', 'attachment', 'them', 'all', 'increased', 'attention', 'Mrs', 'wish', 'proceeded', 'not', 'merely', 'from', 'interest', 'but', 'goodness', 'heart', 'gave', 'him', 'every', 'degree', 'solid', 'comfort', 'could', 'receive', 'cheerfulness', 'added', 'relish', 'existence', 'By', 'former', 'marriage', 'one', 'son', ':', 'present', 'lady', 'three', 'daughter', 'steady', 'young', 'amply', 'provided', 'fortune', 'mother', 'half', 'devolved', 'on', 'coming', 'likewise', 'soon', 'afterwards', 'wealth', 'To', 'therefore', 'succession', 'really', 'important', 'independent', 'what', 'might', 'arise', 'father', 'inheriting', 'that', 'be', 'small', 'nothing', 'only', 'seven', 'thousand', 'pound', 'disposal', 'remaining', 'moiety', 'first', 'wife', 'also', 'secured', '-', 'gentleman', 'died', 'will', 'read', 'like', 'almost', 'other', 'much', 'disappointment', 'pleasure', 'He', 'neither', 'unjust', 'nor', 'ungrateful', 'leave', ';--', 'left', 'such', 'term', 'destroyed', 'value', 'bequest', 'wished', 'more', 'sake', 'than', 'himself', 'or', 'four', 'way', 'no', 'power', 'providing', 'those', 'most', 'dear', 'needed', 'provision', 'any', 'charge', 'sale', 'valuable', 'wood', 'whole', 'tied', 'up', 'benefit', 'occasional', 'visit', 'with', 'far', 'gained', 'affection', 'uncle', 'attraction', 'are', 'mean', 'unusual', 'two', 'an', 'imperfect', 'articulation', 'earnest', 'desire', 'having', 'cunning', 'trick', 'deal', 'noise', 'outweigh', 'meant', 'unkind', 'however', 'mark', 'girl', 'piece', 'severe', 'temper', 'cheerful', 'sanguine', 'reasonably', 'hope', 'live', 'living', 'economically', 'lay', 'considerable', 'sum', 'produce', 'already', 'capable', 'immediate', 'improvement', 'tardy', 'twelvemonth', 'survived', 'longer', 'including', 'legacy', 'remained', 'widow', 'sent', 'danger', 'known', 'recommended', 'strength', 'urgency', 'illness', 'command', 'law', 'John', 'strong', 'feeling', 'rest', 'affected', 'recommendation', 'nature', 'time', 'promised', 'do', 'thing', 'make', 'comfortable', 'rendered', 'easy', 'assurance', 'then', 'leisure', 'consider', 'how', 'there', 'prudently', 'ill', 'disposed', 'unless', 'rather', 'cold', 'hearted', 'selfish', 'is', 'well', 'respected', 'conducted', 'propriety', 'discharge', 'ordinary', 'duty', 'Had', 'married', 'amiable', 'woman', 'have', 'made', 'still', ':--', 'even', 'when', 'fond', 'caricature', 'narrow', 'minded', 'When', 'promise', 'meditated', 'within', 'increase', 'thought', 'equal', 'prospect', 'addition', 'income', 'besides', 'warmed', 'feel', 'generosity', '.--', '\"', 'Yes', 'would', 'give', 'liberal', 'handsome', '!', 'It', 'enough', 'completely', 'Three', 'spare', 'little', 'inconvenience', '.\"--', 'successively', 'did', 'repent', 'No', 'sooner', 'funeral', 'over', 'without', 'sending', 'notice', 'intention', 'arrived', 'attendant', 'dispute', 'right', 'come', 'husband', 'moment', 'decease', 'indelicacy', 'conduct', 'greater', 'situation', 'common', 'must', 'highly', 'unpleasing', 'HER', 'mind', 'sense', 'honor', 'keen', 'romantic', 'offence', 'kind', 'whomsoever', 'given', 'source', 'immoveable', 'disgust', 'never', 'favourite', 'she', 'opportunity', 'till', 'shewing', 'people', 'act', 'occasion', 'required', 'So', 'acutely', 'ungracious', 'behaviour', 'earnestly', 'despise', 'arrival', 'latter', 'quitted', 'ever', 'entreaty', 'eldest', 'induced', 'reflect', 'going', 'tender', 'love', 'determined', 'stay', 'avoid', 'breach', 'brother', 'Elinor', 'whose', 'advice', 'effectual', 'possessed', 'understanding', 'coolness', 'judgment', 'qualified', 'though', 'nineteen', 'counsellor', 'enabled', 'frequently', 'counteract', 'advantage', 'eagerness', 'generally', 'led', 'imprudence', 'She', 'excellent', 'disposition', 'affectionate', 'knew', 'govern', 'knowledge', 'yet', 'learn', 'resolved', 'taught', 'Marianne', 'ability', 'respect', 'quite', 'sensible', 'clever', 'eager', 'everything', 'sorrow', 'joy', 'moderation', 'generous', 'interesting', 'prudent', 'resemblance', 'between', 'strikingly', 'saw', 'concern', 'excess', 'sensibility', 'valued', 'cherished', 'They', 'encouraged', 'each', 'now', 'violence', 'affliction', 'agony', 'grief', 'overpowered', 'voluntarily', 'renewed', 'sought', 'created', 'again', 'themselves', 'wholly', 'seeking', 'wretchedness', 'reflection', 'afford', 'against', 'admitting', 'consolation', 'future', 'too', 'deeply', 'afflicted', 'struggle', 'exert', 'herself', 'consult', 'treat', 'proper', 'strive', 'rouse', 'similar', 'exertion', 'encourage', 'forbearance', 'Margaret', 'humored', 'imbibed', 'romance', 'thirteen', 'bid', 'fair', 'period', '2', 'installed', 'mistress', 'degraded', 'condition', 'visitor', 'As', 'treated', 'quiet', 'civility', 'kindness', 'towards', 'anybody', 'beyond', 'pressed', 'some', 'earnestness', 'plan', 'appeared', 'eligible', 'accommodate', 'neighbourhood', 'invitation', 'accepted', 'A', 'continuance', 'place', 'reminded', 'delight', 'exactly', 'suited', 'season', 'hers', 'posse', 'expectation', 'happiness', 'itself', 'equally', 'carried', 'away', 'fancy', 'alloy', 'approve', 'take', 'boy', 'impoverishing', 'dreadful', 'begged', 'think', 'subject', 'How', 'answer', 'rob', '?', 'And', 'possible', 'claim', 'Miss', 'Dashwoods', 'related', 'blood', 'considered', 'relationship', 'amount', 'supposed', 'exist', 'different', 'why', 'ruin', 'poor', 'Harry', 'giving', 'money', 'my', 'last', 'request', 'me', ',\"', 'replied', 'I', 'should', 'assist', '.\"', 'know', 'talking', 'dare', 'say', 'light', 'headed', 'sens', 'begging', 'you', 'your', 'stipulate', 'particular', 'Fanny', 'requested', 'Perhaps', 'if', 'myself', 'hardly', 'suppose', 'neglect', 'le', 'least', 'performed', 'Something', 'done', 'whenever', 'settle', 'new', 'Well', 'LET', 'something', 'THAT', 'need', 'Consider', 'once', 'parted', 'can', 'return', 'Your', 'marry', 'gone', 'If', 'indeed', 'restored', 'our', '--\"', 'Why', 'sure', 'said', 'gravely', 'difference', 'may', 'regret', 'numerous', 'instance', 'convenient', 'better', 'party', 'diminished', 'Five', 'hundred', 'prodigious', '!\"', 'Oh', 'anything', 'What', 'earth', 'REALLY', '--', '!--', 'spirit', 'One', 'expect', 'There', 'knowing', 'THEY', 'we', 'question', 'Certainly', 'five', 'mine', 'about', 'strike', 'want', 'divided', 'amongst', 'doing', 'together', 'That', 'true', 'whether', 'upon', 'advisable', 'while', 'annuity', 'My', 'effect', 'perfectly', 'hesitated', 'consent', 'parting', 'fifteen', 'shall', 'taken', 'Fifteen', 'cannot', 'worth', 'purchase', 'observe', 'always', 'paid', 'stout', 'healthy', 'forty', 'An', 'serious', 'business', 'getting', 'rid', 'You', 'aware', 'trouble', 'clogged', 'payment', 'superannuated', 'servant', 'amazing', 'disagreeable', 'found', 'Twice', 'these', 'turned', 'out', 'sick', 'Her', 'perpetual', 'because', 'otherwise', 'entirely', 'restriction', 'whatever', 'ha', 'abhorrence', 'am', 'pin', 'down', 'world', 'certainly', 'unpleasant', 'yearly', 'drain', 'justly', 'NOT', 'regular', 'rent', 'desirable', 'independence', 'Undoubtedly', 'after', 'thanks', 'secure', 'expected', 'raise', 'gratitude', 'discretion', 'bind', 'allow', 'inconvenient', 'fifty', 'expense', 'believe', 'case', 'occasionally', 'assistance', 'allowance', 'enlarge', 'style', 'felt', 'larger', 'sixpence', 'richer', 'end', 'best', 'prevent', 'being', 'distressed', 'discharging', 'Indeed', 'truth', 'convinced', 'idea', 'looking', 'helping', 'move', 'fish', 'game', 'forth', 'll', 'farther', 'strange', 'unreasonable', 'Do', 'excessively', 'belonging', 'brings', 'course', 'pay', 'board', 'Altogether', '?--', 'cheap', 'housekeeping', 'carriage', 'horse', 'keep', 'company', 'Only', 'conceive', 'imagine', 'spend', 'absurd', 'able', 'YOU', 'Upon', 'word', 'clearly', 'understand', 'strictly', 'fulfil', 'engagement', 'described', 'remove', 'another', 'service', 'readily', 'Some', 'furniture', 'acceptable', 'returned', 'ONE', 'moved', 'Stanhill', 'sold', 'china', 'plate', 'linen', 'saved', 'fitted', 'material', 'consideration', 'undoubtedly', 'pleasant', 'stock', 'here', 'set', 'breakfast', 'twice', 'belongs', 'THEM', 'owe', 'This', 'argument', 'irresistible', 'decision', 'wanting', 'finally', 'absolutely', 'unnecessary', 'indecorous', 'neighbourly', 'pointed', '3', 'several', 'month', 'disinclination', 'sight', 'spot', 'ceased', 'violent', 'emotion', 'began', 'revive', 'became', 'heightening', 'melancholy', 'remembrance', 'impatient', 'indefatigable', 'inquiry', 'suitable', 'dwelling', 'beloved', 'impossible', 'hear', 'answered', 'notion', 'ease', 'prudence', 'steadier', 'rejected', 'approved', 'informed', 'solemn', 'part', 'favour', 'earthly', 'doubted', 'sincerity', 'satisfaction', 'persuaded', 'smaller', '7000L', 'support', 'affluence', 'For', 'rejoiced', 'reproached', 'merit', 'believing', 'incapable', 'attentive', 'welfare', 'firmly', 'relied', 'liberality', 'contempt', 'early', 'character', 'afforded', 'perhaps', 'spite', 'politeness', 'maternal', 'side', 'circumstance', 'occurred', 'eligibility', 'according', 'growing', 'pleasing', 'introduced', 'establishment', 'since', 'greatest', 'intimacy', 'motif', 'Edward', 'Ferrars', 'rich', 'repressed', 'except', 'trifling', 'depended', 'alike', 'uninfluenced', 'either', 'loved', 'partiality', 'contrary', 'doctrine', 'couple', 'asunder', 'attracted', 'acknowledged', 'comprehension', 'peculiar', 'grace', 'address', 'diffident', 'justice', 'natural', 'shyness', 'overcome', 'indication', 'open', 'education', 'longed', 'see', 'distinguished', 'wanted', 'fine', 'figure', 'political', 'get', 'parliament', 'connected', 'men', 'superior', 'blessing', 'attained', 'quieted', 'ambition', 'driving', 'barouche', 'turn', 'All', 'centered', 'domestic', 'private', 'Fortunately', 'younger', 'promising', 'staying', 'week', 'engaged', 'careless', 'object', 'unobtrusive', 'liked', 'disturb', 'timed', 'conversation', 'called', 'chanced', 'contrast', 'forcibly', 'unlike', 'implies', 'Like', 'smile', 'sentiment', 'approbation', 'inferior', 'esteem', 'separate', 'took', 'pain', 'acquainted', 'attaching', 'banished', 'reserve', 'speedily', 'comprehended', 'persuasion', 'regard', 'assisted', 'penetration', 'assured', 'quietness', 'militated', 'established', 'ought', 'uninteresting', 'warm', 'perceive', 'symptom', 'certain', 'looked', 'forward', 'rapidly', 'approaching', 'few', 'probability', 'We', 'miss', 'SHE', 'happy', 'Mamma', '?\"', 'scarcely', 'separation', 'mile', 'meet', 'gain', 'real', 'highest', 'look', 'grave', 'disapprove', 'choice', 'surprise', 'tenderly', 'striking', 'none', 'seriously', 'attach', 'eye', 'fire', 'announce', 'virtue', 'intelligence', 'afraid', 'taste', 'Music', 'seems', 'attract', 'admires', 'drawing', 'admiration', 'evident', 'frequent', 'draw', 'fact', 'matter', 'lover', 'connoisseur', 'satisfy', 'united', 'point', 'coincide', 'enter', 'same', 'book', 'music', 'charm', 'u', 'both', 'mama', 'spiritless', 'tame', 'reading', 'night', 'severely', 'Yet', 'bore', 'composure', 'seemed', 'seat', 'beautiful', 'line', 'driven', 'wild', 'pronounced', 'impenetrable', 'calmness', 'indifference', '!\"--', 'simple', 'elegant', 'prose', 'WOULD', 'Cowper', 'Nay', 'animated', 'overlook', 'broke', 'MY', 'Mama', 'require', 'ornament', 'Remember', 'seventeen', 'despair', 'fortunate', 'destiny', '4', 'pity', 'doe', 'seeing', 'performance', 'assure', 'deficient', 'improving', 'learning', 'drawn', 'distrust', 'unwilling', 'picture', 'innate', 'simplicity', 'direct', 'offending', 'excited', 'rapturous', 'alone', 'smiling', 'mistake', 'honoured', 'blind', 'continued', 'cordial', 'civil', 'wound', 'account', 'At', 'length', 'offended', 'praise', 'estimating', 'minuter', 'propensity', 'inclination', 'worthy', 'dearest', 'friend', 'dissatisfied', 'commendation', 'express', 'yourself', 'warmly', 'find', 'easily', 'pleased', 'Of', 'doubt', 'seen', 'often', 'unreserved', 'excellence', 'principle', 'concealed', 'silent', 'call', 'kept', 'ignorant', 'thrown', 'engrossed', 'studied', 'heard', 'literature', 'venture', 'pronounce', 'enjoyment', 'exceedingly', 'imagination', 'lively', 'observation', 'just', 'correct', 'delicate', 'pure', 'improve', 'expression', 'uncommonly', 'sweetness', 'countenance', 'perceived', 'tell', 'imperfection', 'face', 'started', 'declaration', 'sorry', 'warmth', 'betrayed', 'speaking', 'stood', 'high', 'believed', 'mutual', 'certainty', 'conviction', 'agreeable', 'conjectured', 'next', 'tried', 'explain', 'state', 'attempt', 'deny', 'greatly', 'burst', 'indignation', 'Esteem', 'Cold', 'worse', 'Ashamed', 'Use', 'room', 'help', 'laughing', 'Excuse', 'Believe', 'stronger', 'declared', 'short', 'suspicion', 'warrant', 'folly', 'extent', 'doubtful', 'fully', 'wonder', 'wishing', 'encouragement', 'calling', 'preference', 'mention', 'mistaken', 'difficulty', 'rank', 'astonished', 'outstripped', 'happen', 'proceed', 'delay', 'lose', 'pursuit', 'indispensably', 'necessary', 'felicity', 'stimulated', 'genius', 'delightful', 'prosperous', 'denote', 'spoke', 'unpromising', 'supposing', 'inquietude', 'likely', 'dejection', 'attended', 'reasonable', 'cause', 'dependent', 'forbade', 'indulgence', 'behaved', 'form', 'attending', 'view', 'aggrandizement', 'With', 'depending', 'result', 'sometimes', 'painful', 'minute', 'friendship', 'limit', 'uneasy', '(', ',)', 'uncivil', 'affronting', 'expressively', 'resolution', 'attempted', 'DRAW', 'HIM', 'IN', 'pretend', 'unconscious', 'endeavor', 'calm', 'marked', 'instantly', 'resolving', 'sudden', 'removal', 'exposed', 'insinuation', 'letter', 'delivered', 'post', 'contained', 'proposal', 'particularly', 'offer', 'relation', 'consequence', 'Devonshire', 'written', 'friendly', 'accommodation', 'understood', 'offered', 'cottage', 'garden', 'Barton', 'whence', 'judge', 'Cottage', 'parish', 'anxious', 'fail', 'cousin', 'especially', 'suffering', 'under', 'unfeeling', 'nearer', 'connection', 'deliberation', 'formed', 'county', 'distant', 'hour', 'sufficient', 'objection', 'quit', 'evil', 'comparison', 'misery', 'continuing', 'guest', 'inhabit', 'wrote', 'Sir', 'Middleton', 'acknowledgment', 'acceptance', 'hastened', 'shew', 'distance', 'immediately', 'On', 'head', 'oppose', 'removing', 'scale', 'moderate', 'brought', 'vicinity', 'dissuade', 'acquiescence', '5', 'dispatched', 'indulged', 'announcing', 'incommode', 'ready', 'inhabiting', 'civilly', 'hoped', 'replying', 'hastily', 'hearing', 'voice', 'explanation', 'repeated', 'Are', 'hence', 'explained', 'northward', 'Exeter', 'travelling', 'accommodating', 'concluded', 'Though', 'resolve', 'unavoidable', 'smallest', 'principally', 'tended', 'show', 'totally', 'disregarded', 'disapprobation', 'match', 'told', 'conscientiously', 'vexed', 'limited', 'arrangement', 'impracticable', 'around', 'water', 'chiefly', 'consisted', 'household', 'pianoforte', 'package', 'depart', 'sigh', 'hard', 'article', 'furnished', 'possession', 'arose', 'agreement', 'waited', 'determine', 'off', 'west', 'rapid', 'interested', 'offering', 'disposing', 'agreed', 'sell', 'consulted', 'prevailed', 'wisdom', 'number', 'maid', 'prepare', 'Lady', 'unknown', 'preferred', 'directly', 'undoubtingly', 'description', 'curiosity', 'examine', 'entered', 'preserved', 'diminution', 'feebly', 'defer', 'departure', 'Now', 'fulfilled', 'Since', 'neglected', 'quitting', 'accomplishment', 'shortly', 'drift', 'discourse', 'extended', 'maintenance', 'six', 'talked', 'increasing', 'demand', 'purse', 'calculation', 'stand', 'design', 'abode', 'enable', 'begin', 'journey', 'Many', 'tear', 'shed', 'adieu', 'Dear', 'wandered', 'evening', 'cease', 'elsewhere', 'suffer', 'viewing', 'ye', 'tree', 'continue', 'leaf', 'decay', 'removed', 'branch', 'become', 'motionless', 'although', 'insensible', 'change', 'walk', 'shade', 'remain', 'enjoy', '6', 'tedious', 'drew', 'appearance', 'country', 'overcame', 'Valley', 'fertile', 'wooded', 'pasture', 'After', 'winding', 'along', 'reached', 'green', 'court', 'demesne', 'front', 'neat', 'wicket', 'gate', 'admitted', 'compact', 'defective', 'building', 'roof', 'tiled', 'window', 'shutter', 'painted', 'wall', 'covered', 'honeysuckle', 'passage', 'through', 'behind', 'entrance', 'sitting', 'sixteen', 'foot', 'square', 'office', 'stair', 'Four', 'bed', 'garret', 'built', 'repair', 'recollection', 'dried', 'cheered', 'others', 'appear', 'September', 'weather', 'impression', 'recommending', 'lasting', 'High', 'hill', 'rose', 'cultivated', 'woody', 'village', 'extensive', 'commanded', 'valley', 'surrounded', 'terminated', 'direction', 'name', 'branched', 'steepest', 'size', 'satisfied', 'indispensable', 'add', 'elegance', 'apartment', 'ourselves', 'tolerably', 'spring', 'plenty', 'These', 'parlor', 'collected', 'throwing', 'remainder', 'chamber', 'above', 'snug', 'difficult', 'widen', 'hand', 'accordingly', 'saving', 'wise', 'contented', 'busy', 'arranging', 'endeavoring', 'placing', 'unpacked', 'properly', 'affixed', 'employment', 'interrupted', 'landlord', 'welcome', 'theirs', 'formerly', 'visited', 'remember', 'thoroughly', 'humoured', 'solicitude', 'sociable', 'cordially', 'dine', 'perseverance', 'confined', 'basket', 'full', 'stuff', 'fruit', 'park', 'followed', 'insisted', 'moreover', 'conveying', 'denied', 'newspaper', 'message', 'denoting', 'waiting', 'polite', 'ladyship', 'depend', 'favourable', 'twenty', 'tall', 'graceful', 'improved', 'share', 'frankness', 'detract', 'bred', 'reserved', 'remark', 'Conversation', 'chatty', 'precaution', 'bringing', 'recurred', 'extremity', 'enquire', 'admire', 'beauty', 'ask', 'hung', 'held', 'wondered', 'shy', 'formal', 'resembled', 'body', 'differed', 'debating', 'securing', 'dining', '7', 'passed', 'near', 'screened', 'projection', 'Middletons', 'hospitality', 'gratification', 'dissimilar', 'outward', 'strongly', 'total', 'talent', 'unconnected', 'compass', 'sportsman', 'hunted', 'shot', 'resource', 'spoil', 'round', 'Continual', 'abroad', 'supplied', 'deficiency', 'supported', 'exercise', 'breeding', 'piqued', 'table', 'vanity', 'delighted', 'collecting', 'hold', 'noisier', 'juvenile', 'summer', 'forming', 'eat', 'ham', 'chicken', 'door', 'winter', 'ball', 'unsatiable', 'appetite', 'charmed', 'inhabitant', 'procured', 'pretty', 'unaffected', 'captivating', 'friendliness', 'past', 'unfortunate', 'showing', 'settling', 'female', 'sex', 'desirous', 'encouraging', 'manor', 'met', 'welcomed', 'unable', 'smart', 'gay', 'excuse', 'smallness', 'morning', 'procuring', 'moonlight', 'Luckily', 'dull', 'entire', 'stranger', 'Jennings', 'merry', 'fat', 'elderly', 'vulgar', 'joke', 'laughter', 'dinner', 'witty', 'pretended', 'blush', 'attack', 'raillery', 'Colonel', 'Brandon', 'adapted', 'absolute', 'bachelor', 'wrong', 'thirty', 'gentlemanlike', 'recommend', 'insipidity', 'repulsive', 'gravity', 'boisterous', 'mirth', 'roused', 'noisy', 'pulled', 'tore', 'clothes', 'put', 'discovered', 'musical', 'play', 'instrument', 'unlocked', 'prepared', 'sang', 'went', 'chief', 'song', 'lain', 'position', 'celebrated', 'event', 'played', 'extremely', 'applauded', 'loud', 'lasted', 'order', 'diverted', 'asked', 'sing', 'finished', 'rapture', 'compliment', 'forfeited', 'shameless', 'amounted', 'ecstatic', 'sympathize', 'estimable', 'contrasted', 'horrible', 'insensibility', 'outlived', 'acuteness', 'exquisite', 'colonel', 'humanity', '8', 'ample', 'jointure', 'respectably', 'promotion', 'zealously', 'active', 'missed', 'projecting', 'wedding', 'among', 'remarkably', 'quick', 'discovery', 'enjoyed', 'raising', 'discernment', 'decisively', 'suspected', 'listening', 'attentively', 'ascertained', 'HE', 'inconsiderable', 'endless', 'laughed', 'probably', 'regarded', 'indifferent', 'incomprehensible', 'laugh', 'absurdity', 'censure', 'impertinence', 'forlorn', 'ancient', 'youthful', 'ventured', 'clear', 'throw', 'ridicule', 'accusation', 'intentionally', 'natured', 'sensation', 'ridiculous', 'safe', 'wit', 'infirmity', 'protect', 'Infirmity', 'infirm', 'deceive', 'use', 'limb', 'Did', 'complain', 'rheumatism', 'commonest', 'declining', 'rate', 'continual', 'terror', 'seem', 'miracle', 'apprehensive', 'losing', 'matrimony', 'chance', 'marrying', 'pausing', 'inspire', 'uncomfortable', 'bring', 'submit', 'nurse', 'security', 'unsuitable', 'convenience', 'commercial', 'exchange', 'benefited', 'convince', 'dooming', 'confinement', 'yesterday', 'damp', ')', 'slight', 'rheumatic', 'shoulder', 'flannel', 'waistcoat', 'invariably', 'ache', 'cramp', 'specie', 'ailment', 'afflict', 'feeble', 'fever', 'despised', 'Confess', 'flushed', 'cheek', 'hollow', 'pulse', 'Soon', 'leaving', 'alarm', 'conceal', 'fortnight', 'Nothing', 'indisposition', 'extraordinary', 'else', 'detain', 'anxiety', 'recollecting', 'showed', 'readiness', 'accepting', 'Does', 'mentioned', 'grate', 'bedchamber', 'observed', 'hurry', 'meaning', 'unaccountable', 'composed', 'languid', 'farewell', 'distinction', 'purposely', 'unaccountably', 'follow', 'cried', 'Even', 'self', 'invariable', 'dejected', 'try', 'restless', '9', 'tolerable', 'familiar', 'habit', 'occupation', 'amazement', 'finding', 'employed', 'urgent', 'mix', 'resolute', 'classed', 'attainable', 'About', 'Allenham', 'issued', 'earliest', 'mansion', 'reminding', 'learnt', 'enquiry', 'possessor', 'unfortunately', 'stirred', 'abounded', 'seek', 'air', 'summit', 'alternative', 'dirt', 'beneath', 'shut', 'memorable', 'step', 'partial', 'sunshine', 'showery', 'sky', 'bear', 'rain', 'preceding', 'occasioned', 'tempting', 'pencil', 'lastingly', 'threatening', 'cloud', 'gaily', 'ascended', 'rejoicing', 'glimpse', 'blue', 'caught', 'animating', 'gale', 'south', 'westerly', 'wind', 'pitied', 'fear', 'prevented', 'sharing', 'Is', 'pursued', 'resisting', 'suddenly', 'Chagrined', 'surprised', 'obliged', 'unwillingly', 'back', 'shelter', 'exigence', 'usual', 'running', 'speed', 'steep', 'false', 'ground', 'stop', 'involuntarily', 'hurried', 'bottom', 'safety', 'carrying', 'gun', 'pointer', 'playing', 'passing', 'yard', 'accident', 'ran', 'raised', 'twisted', 'fall', 'perceiving', 'modesty', 'declined', 'arm', 'Then', 'whither', 'seated', 'chair', 'parlour', 'fixed', 'secret', 'sprung', 'apologized', 'intrusion', 'relating', 'frank', 'additional', 'ugly', 'influence', 'youth', 'action', 'came', 'thanked', 'dirty', 'wet', 'Willoughby', 'honour', 'tomorrow', 'granted', 'departed', 'midst', 'heavy', 'manly', 'gracefulness', 'theme', 'gallantry', 'exterior', 'confusion', 'crimsoned', 'lifting', 'robbed', 'regarding', 'entering', 'join', 'energy', 'adorned', 'hero', 'story', 'previous', 'formality', 'rapidity', 'Every', 'dress', 'shooting', 'jacket', 'becoming', 'sprained', 'ankle', 'interval', 'allowed', 'eagerly', 'news', 'ride', 'Thursday', 'Know', 'sort', 'fellow', 'decent', 'bolder', 'rider', 'England', 'indignantly', 'intimate', 'puzzled', 'soul', 'got', 'nicest', 'black', 'bitch', 'Was', 'today', 'colour', 'describe', 'Where', 'Has', 'resided', 'visiting', 'Court', 'inherit', 'adding', 'yes', 'catching', 'Somersetshire', 'tumbling', 'jealous', 'care', 'incommoded', 'CATCHING', 'Men', 'let', 'glad', 'ineligible', 'Christmas', 'hop', 'danced', 'eight', 'o', 'clock', 'sparkling', 'covert', 'Whatever', 'fatigue', 'Aye', 'aye', 'setting', 'cap', 'dislike', 'abhor', 'phrase', \",'\", 'making', 'conquest', 'odious', 'tendency', 'gross', 'illiberal', 'construction', 'deemed', 'ago', 'ingenuity', 'reproof', 'heartily', 'Ay', 'Poor', 'smitten', 'spraining', '10', 'preserver', 'precision', 'styled', 'personal', 'prompted', 'during', 'second', 'interview', 'complexion', 'feature', 'handsomer', 'height', 'lovely', 'cant', 'violently', 'outraged', 'usually', 'happens', 'skin', 'brown', 'transparency', 'brilliant', 'sweet', 'attractive', 'dark', 'hardily', 'From', 'embarrassment', 'perfect', 'vivacity', 'declare', 'dancing', 'passionately', 'largest', 'amusement', 'talk', 'discussion', 'conformity', 'Encouraged', 'further', 'examination', 'author', 'dwelt', 'convert', 'work', 'idolized', 'force', 'brightness', 'displayed', 'acquiesced', 'enthusiasm', 'conversed', 'familiarity', 'importance', 'Scott', 'admiring', 'Pope', 'despatch', 'exhausted', 'topic', 'Another', 'meeting', 'suffice', 'picturesque', 'scanty', 'erred', 'decorum', 'sincere', 'deceitful', 'road', 'spoken', 'reproach', 'spared', 'jest', 'scold', 'check', 'softened', 'proof', 'reception', 'recovery', 'irksome', 'joined', 'ardour', 'example', 'gradually', 'estimation', 'faultless', 'peculiarly', 'saying', 'sacrificing', 'undivided', 'slighting', 'worldly', 'caution', 'desperation', 'seized', 'perfection', 'rash', 'unjustifiable', 'delineated', 'unhappy', 'brighter', 'speculative', 'secretly', 'congratulate', 'perceptible', 'noticed', 'rival', 'incurred', 'annexed', 'assigned', 'actually', 'opposition', 'hindrance', 'opposed', 'successful', 'beheld', 'mild', 'oppression', 'gloominess', 'dropped', 'hint', 'injury', 'justified', 'belief', 'compassion', 'esteemed', 'slighted', 'prejudiced', 'undervalue', 'speaks', 'nobody', 'remembers', 'boast', 'injustice', 'taking', 'converse', 'patronised', 'Who', 'indignity', 'abuse', 'amends', 'undiscerning', 'defence', 'protege', 'saucy', 'thinking', 'information', 'various', 'contemptuously', 'East', 'Indies', 'climate', 'hot', 'mosquito', 'troublesome', 'previously', 'nabob', 'gold', 'mohrs', 'palanquin', 'HIS', 'stretched', 'candour', 'employ', 'coat', 'Add', 'brilliancy', 'decide', 'mass', 'comparatively', 'insipid', 'gentle', 'possessing', 'using', 'unkindly', 'endeavouring', 'disarm', 'reason', 'stubborn', 'artful', 'unanswerable', 'disliking', 'threatened', 'fault', 'hanging', 'curricle', 'persuade', 'buy', 'mare', 'irreproachable', 'confess', 'privilege', '11', 'Little', 'imagined', 'occupy', 'presented', 'recovered', 'scheme', 'execution', 'accomplished', 'October', 'included', 'naturally', 'calculated', 'witnessing', 'excellency', 'marking', 'receiving', 'openly', 'shewn', 'suggest', 'abhorred', 'concealment', 'disgrace', 'attend', 'unreserve', 'aim', 'restraint', 'illaudable', 'effort', 'disgraceful', 'subjection', 'illustration', 'card', 'cheated', 'partner', 'dance', 'careful', 'Such', 'shame', 'provoke', 'checking', 'excessive', 'display', 'ardent', 'devoted', 'bestowed', 'teach', 'Neither', 'everlasting', 'talker', 'ensured', 'history', 'memory', 'Jenning', 'mere', 'Towards', 'desired', 'arranged', 'experienced', 'presence', 'excite', 'sisterly', 'conversing', 'suspect', 'disappointed', 'accidently', 'silence', 'faint', 'Or', 'considers', 'contrives', 'reflecting', 'basis', 'define', 'justify', 'prejudice', 'agree', 'ignorance', 'atone', 'system', 'nought', 'pause', 'resumed', ',--', 'criminal', 'inconstancy', 'perverseness', 'minutia', 'admit', 'pardonable', 'refinement', 'succeeded', 'dangerous', 'speak', 'experience', 'judged', 'inforced', 'series', '\"--', 'Here', 'stopt', 'rise', 'conjecture', 'concerned', 'escape', 'lip', 'connect', 'disastrous', '12', 'walking', 'communicated', 'extravagant', 'testimony', 'carry', 'Without', 'considering', 'alter', 'gift', 'build', 'stable', 'hesitation', 'intends', 'send', 'groom', 'arrives', 'Imagine', 'gallop', 'Most', 'awaken', 'dream', 'comprehend', 'affair', 'refused', 'trifle', 'merest', 'lately', 'creature', 'Seven', 'insufficient', 'guilty', 'impropriety', 'wisest', 'touch', 'Opposition', 'appeal', 'representing', 'indulgent', 'consented', 'subdued', 'tempt', 'imprudent', 'mentioning', 'faithful', 'low', 'forego', 'apparent', 'expressing', ',--\"', 'yours', 'Queen', 'Mab', 'overheard', 'sentence', 'pronouncing', 'addressing', 'Christian', 'decided', 'discover', 'placed', 'clearer', 'church', 'Down', 'wore', 'neck', 'miniature', 'lock', 'hair', 'Take', 'cut', 'Last', 'tea', 'whispering', 'fast', 'presently', 'scissors', 'tumbled', 'kissed', 'folded', 'white', 'paper', 'pocket', 'stated', 'authority', 'withhold', 'credit', 'unison', 'sagacity', 'satisfactory', 'attacked', 'standing', 'sincerely', 'harm', 'turning', 'red', 'angry', 'repeat', 'pray', 'ma', 'guess', 'curate', 'profession', 'invention', 'dead', 'F', 'grateful', 'observing', 'rained', 'interruption', 'inelegant', 'mindful', 'opened', 'piano', 'forte', 'sit', 'thus', 'amidst', 'endeavour', 'fell', 'recover', 'following', 'twelve', 'proprietor', 'strict', 'noble', 'sail', 'complete', 'bold', 'undertaking', '13', 'excursion', 'Whitwell', 'fatigued', 'frightened', 'go', 'assembled', 'dispersing', 'across', 'sun', 'humour', 'hardship', 'While', 'Among', 'changed', 'Nobody', 'bad', ';\"', 'None', 'thank', 'Avignon', 'town', 'discompose', 'Come', 'won', 't', 'madam', 'recollect', 'Whom', 'colouring', 'requires', 'attendance', 'admittance', 'blow', 'write', 'note', 'shook', '.--\"', 'later', 'invented', 'guinea', 'writing', 'persuading', 'Careys', 'Newton', 'walked', 'purpose', 'disappointing', 'conveniently', 'obliging', 'uncertain', 'pry', 'ashamed', 'announced', 'horseback', 'Honiton', 'bowed', 'complaint', 'lamentation', 'hitherto', 'restrained', 'universally', 'provoking', 'exultingly', 'Can', 'Williams', 'shocking', 'lowering', 'stare', 'concluding', 'consultation', 'procure', 'ordered', 'happier', 'drove', 'drive', 'lane', 'nearly', 'contentment', 'elder', 'sat', 'leant', 'coloured', '?\"--', 'Impudence', 'WHERE', 'method', 'unlikely', 'propose', 'Smith', 'enquired', 'doubting', 'pleasanter', 'pleasantness', 'evince', 'acting', 'impertinent', 'blushed', 'visibly', 'gratifying', 'WAS', 'charming', 'nice', 'modern', 'corner', 'bowling', 'admired', 'newly', 'pleasantest', 'Could', 'listened', '14', 'termination', 'steadiness', 'concealing', 'filled', 'wonderer', 'intermission', 'distress', 'befallen', 'determination', 'Delaford', 'reckoned', 'sadly', 'involved', 'bye', 'conscious', 'May', 'sickly', 'wager', 'NOW', 'cleared', 'bargain', 'varying', 'fresh', 'seeming', 'probable', 'bestow', 'variety', 'speculation', 'incompatible', 'acknowledge', 'rated', 'complained', 'poverty', 'secrecy', 'maintained', 'relative', 'contradictory', 'practice', 'expressive', 'distinguishing', 'tenderness', 'ending', 'happening', 'exclaimed', 'Improve', 'Not', 'stone', 'inch', 'alarmed', 'Thank', 'sacrifice', 'local', 'Depend', 'unemployed', 'uselessly', 'dispose', 'attached', 'defect', 'pull', 'Combe', 'exact', 'kitchen', 'smoke', 'tone', 'INconvenience', 'variation', 'flatter', 'disadvantage', 'broader', 'staircase', 'hereafter', 'endear', 'possibly', 'plainly', 'denoted', 'inhabited', 'grieving', 'prescience', 'Must', 'lowered', 'imaginary', 'degrade', 'pas', 'handsomest', 'dimension', 'Extend', 'Tell', 'unchanged', 'Shall', '15', 'excused', 'pretext', 'absent', 'foreseen', 'foresight', 'apparently', 'handkerchief', 'noticing', 'Surprised', 'leaning', 'mantel', 'shewed', 'partook', 'powered', 'trying', 'forced', 'Disappointment', 'exercised', 'London', 'dispatch', 'exhilaration', 'Almost', 'returning', 'wait', 'press', 'confusedly', 'broken', 'linger', 'torment', 'speech', 'solitude', 'uneasiness', 'affectation', 'unwillingness', 'accept', 'backwardness', 'disturbed', 'feared', 'quarrel', 'indubitable', 'tenderest', 'relief', 'feeding', 'uncheerful', 'Our', 'travel', 'Gone', 'intending', 'owned', 'behave', 'quarrelled', 'ME', 'trust', 'disapproves', 'sends', 'transact', 'dismiss', 'DOES', 'listen', 'cavil', 'anticipated', 'guilt', 'apology', 'blameable', 'inadvertence', 'depressed', 'recent', 'due', 'possibility', 'unavoidably', 'inevitable', 'witnessed', 'urged', 'candid', 'Secrecy', 'wondering', 'practiced', 'blame', 'departing', 'deviation', 'acquitted', 'ARE', 'expedient', 'Concealing', 'accuse', 'reproaching', 'incautiousness', 'syllable', 'nearest', 'Have', 'daily', 'occur', 'telling', 'confidence', 'outweighs', 'wretchedly', 'carelessness', 'attribute', 'fainter', 'correspond', 'mighty', 'concession', 'altar', 'Ungracious', 'uniformly', 'inconsistency', 'create', 'integrity', 'involuntary', 'startled', 'cordiality', 'resist', 'temptation', 'ungenerous', 'suspicious', 'embarrassed', 'plain', 'avowal', 'consistent', 'foundation', 'deserve', 'WE', 'independently', 'odd', 'acknowledging', 'prosperously', 'begun', 'liberty', 'representation', 'swollen', 'avoided', 'silently', 'pressing', 'fortitude', 'slightest', 'instant', 'anxiously', '16', 'inexcusable', 'sleep', 'risen', 'repose', 'incurring', 'awake', 'wept', 'headache', 'nourishment', 'forbidding', 'potent', 'indulging', 'cry', 'reverse', 'used', 'oftenest', 'gazing', 'sadness', 'applied', 'alternately', 'singing', 'suspended', 'courted', 'sunk', 'calmer', 'solitary', 'meditation', 'effusion', 'fetch', 'correspondence', 'motive', 'mystery', 'suggesting', 'Supposing', 'inflict', 'forcing', 'confession', 'unacknowledged', 'dearly', 'revealment', 'denial', 'overstrained', 'vain', 'delicacy', 'witticism', 'accidentally', 'volume', 'Shakespeare', 'Hamlet', '...', 'Months', 'reply', 'instead', 'wandering', 'Hitherto', 'carefully', 'ramble', 'stole', 'speedy', 'climbing', 'disapproved', 'seclusion', 'MIND', 'controlled', 'gaining', 'Beyond', 'stretch', 'travelled', 'reaching', 'stopped', 'reach', 'Amongst', 'scene', 'riding', 'distinguish', 'rapturously', 'hastening', 'screen', 'particularity', 'quickened', 'pace', 'abruptly', 'hurrying', 'third', 'forgiven', 'dispersed', 'forgot', 'dismounted', 'continuation', 'coldness', 'confused', 'ended', 'sufficiently', 'elect', 'Plymouth', 'thickly', 'transporting', 'shower', 'altogether', 'inspired', 'nuisance', 'swept', 'passion', 'shared', 'SOMETIMES', 'reverie', 'rousing', 'Look', 'tranquil', 'plantation', 'farthest', 'grandeur', 'Because', 'situated', 'friendliest', 'owed', 'directing', 'endeavoured', '&', 'c', 'extorting', 'mortified', 'regulate', 'resentment', 'displeasure', '17', 'kindest', 'extending', 'reanimate', 'praised', 'attributing', 'indignant', 'parent', 'orator', 'public', 'fame', 'famous', 'Heaven', 'eloquence', 'Greatness', 'Strange', 'Grandeur', 'competence', 'YOUR', 'external', 'eighteen', 'TWO', 'guessed', 'hunter', 'smiled', 'describing', 'accurately', 'Magna', 'Hunters', 'hunt', 'novel', 'somebody', 'apiece', 'animation', 'glowing', 'unanimous', 'insufficiency', 'vanish', 'magnificent', 'bookseller', 'seller', 'print', 'shop', 'commission', 'greatness', 'content', 'Thomson', 'copy', 'falling', 'unworthy', 'Should', 'Forgive', 'willing', 'recall', 'offend', 'loose', 'cash', 'collection', 'bulk', 'laid', 'heir', 'reward', 'ablest', 'maxim', 'presume', 'steadfast', 'altered', 'grown', 'gaiety', 'Nor', 'detected', 'misapprehension', 'fancying', 'ingenious', 'stupid', 'deception', 'originated', 'Sometimes', 'guided', 'oneself', 'deliberate', 'subservient', 'neighbour', 'aimed', 'confound', 'advised', 'adopt', 'conform', 'Quite', 'foolishly', 'negligent', 'awkwardness', 'gentility', 'inattention', 'Shyness', 'inferiority', 'Reserved', 'Am', 'thoughtfulness', 'fullest', '18', 'inspiring', 'reservedness', 'contradicted', 'intimated', 'promote', 'upstairs', '***', 'higher', 'beginning', 'minutely', 'struck', 'surface', 'uncouth', 'irregular', 'rugged', 'indistinct', 'soft', 'medium', 'hazy', 'atmosphere', 'honestly', 'timber', 'meadow', 'farm', 'scattered', 'unites', 'utility', 'rock', 'promontory', 'grey', 'moss', 'brush', 'lost', 'disgusted', 'pretension', 'affect', 'discrimination', 'fastidious', 'landscape', 'scenery', 'jargon', 'defined', 'detest', 'language', 'worn', 'hackneyed', 'profess', 'crooked', 'blasted', 'straight', 'flourishing', 'ruined', 'tattered', 'nettle', 'thistle', 'heath', 'blossom', 'watch', 'tower', 'troop', 'tidy', 'please', 'finest', 'bandit', 'thoughtfully', 'ring', 'plait', 'conspicuous', 'finger', 'wear', 'darker', 'inconsiderately', 'pained', 'vexation', 'surpassed', 'momentary', 'glance', 'cast', 'instantaneously', 'conclusion', 'free', 'theft', 'contrivance', 'affront', 'affecting', 'internally', 'henceforward', 'catch', 'eyeing', 'satisfying', 'absence', 'censured', 'forgiveness', 'Before', 'middle', 'survey', 'discovering', 'newness', 'learned', 'significant', 'founded', 'instruction', 'inviting', 'drink', 'entertainment', 'bound', 'contribute', 'MUST', 'enforced', 'necessity', 'Impossible', 'yourselves', 'Whitakers', 'nameless', 'blushing', 'brief', 'communicative', 'whisper', 'guessing', 'archness', '19', 'bent', 'mortification', 'unequal', 'grew', 'environs', 'disengaged', 'Never', 'quickly', 'repeatedly', 'lie', 'detested', 'astonishing', 'imperfectly', 'Disappointed', 'displeased', 'qualification', 'painfully', 'extorted', 'openness', 'consistency', 'attributed', 'shortness', 'fettered', 'temporizing', 'grievance', 'yield', 'reformed', 'renewal', 'flattering', 'constantly', 'materially', 'misfortune', 'nicety', 'idle', 'helpless', 'army', 'genteel', 'Temple', 'circle', 'gig', 'abstruse', 'study', 'navy', 'fashion', 'dashing', 'expensive', 'idleness', 'advantageous', 'honourable', 'solicitation', 'Oxford', 'promoted', 'trade', 'Columella', 'accent', 'patience', 'fascinating', 'ere', 'wasted', 'discontent', 'defy', 'desponding', 'subdue', 'appearing', 'suffered', 'judiciously', 'augment', 'fix', 'advancement', 'busily', 'lessen', 'meritorious', 'faulty', 'WERE', 'dared', 'loving', 'respecting', 'mortifying', 'shutting', 'lying', 'indulge', 'abundance', 'forbidden', 'inevitably', 'chained', 'engross', 'closing', 'ceremony', 'knocking', 'stepping', 'turf', 'casement', 'space', 'Hush', 'Palmers', 'Charlotte', 'run', 'hallooing', 'drinking', 'Palmer', 'plump', 'prepossessing', 'willingness', 'slightly', 'briefly', 'surveying', 'staid', 'endowed', 'meantime', 'ceasing', 'astonishment', 'nodding', 'significantly', 'pointing', 'expects', 'February', 'endure', 'exerted', 'monstrous', 'ushered', 'stared', 'asleep', 'examining', 'pitched', 'ceiling', 'bow', 'chuse', 'oftener', 'dined', 'ate', '20', 'affectionately', 'expressed', 'seating', 'Westons', 'droll', 'ours', 'Hanover', 'chaperon', 'bowing', 'complaining', 'horrid', 'disgusting', 'Dullness', 'devil', 'billiard', 'dropt', 'don', 'sly', 'Much', 'Ah', 'vile', 'Gilberts', 'contradict', 'rude', 'whip', 'cross', 'insolence', 'scolded', 'abused', 'inclined', 'genuinely', 'unaffectedly', 'soured', 'bias', 'silly', 'blunder', 'hurt', 'contemptuous', 'treatment', 'succeed', 'establishing', 'superiority', 'Will', 'Cleveland', 'applying', 'sneer', ',\"--', 'refuse', 'resolutely', 'canvassing', 'election', 'fatiguing', 'assented', 'obligation', 'Parliament', 'directed', 'M', 'P', 'declares', 'Don', 'irrational', 'palm', 'asking', 'decline', 'changing', 'gathered', 'confirmation', 'inquiring', 'intimately', ';--\"', 'Somehow', 'Weymouth', 'However', 'unluckily', 'inquire', 'Monday', 'Bond', 'street', 'Surely', '.\\'\"', 'flattered', 'wherever', 'lucky', 'objected', 'school', '21', 'entertain', 'simply', 'unsuitableness', 'existed', 'zeal', 'invite', 'fashionable', 'resigned', 'philosophy', 'contenting', 'reprimand', 'ungenteel', 'unfashionable', 'doatingly', 'enthusiastic', 'Steeles', 'sweetest', 'Benevolent', 'philanthropic', 'Lucy', 'coach', 'plaything', 'prevail', 'obtain', 'anew', 'boasting', 'consequent', 'introduction', 'sharp', 'smartness', 'actual', 'judicious', 'extolling', 'courting', 'humouring', 'whim', 'importunate', 'pattern', 'unceasing', 'foible', 'rapacious', 'human', 'credulous', 'exorbitant', 'swallow', 'endurance', 'offspring', 'viewed', 'complacency', 'encroachment', 'mischievous', 'submitted', 'sash', 'untied', 'ear', 'bag', 'searched', 'knife', 'stolen', 'reciprocal', 'suggested', 'composedly', 'claiming', 'monkey', 'pinching', 'fondly', 'playful', 'William', 'Annamaria', 'caressing', 'bestowing', 'embrace', 'scratching', 'gentleness', 'scream', 'outdone', 'professedly', 'consternation', 'surpass', 'critical', 'emergency', 'assuage', 'sufferer', 'lap', 'kiss', 'bathed', 'lavender', 'knee', 'mouth', 'stuffed', 'sugar', 'plum', 'screamed', 'sobbed', 'lustily', 'kicked', 'soothings', 'ineffectual', 'luckily', 'remembering', 'apricot', 'marmalade', 'successfully', 'bruised', 'temple', 'remedy', 'proposed', 'scratch', 'quest', 'medicine', 'chose', 'entreated', 'Steele', 'sad', 'reality', 'trivial', 'task', 'eclat', 'doat', 'distractedly', 'outside', 'freedom', 'estimate', 'beau', 'vast', 'm', 'lief', 'vastly', 'nasty', 'Rose', 'clerk', 'Simpson', 'fit', 'Lord', 'Anne', 'specimen', 'blinded', 'shrewd', 'youngest', 'artlessness', 'niggardly', 'proportion', 'dealt', 'lot', 'consists', '\"\\'', 'Twill', 'luck', 'proclaiming', 'somewhat', 'newer', 'conjectural', 'significancy', 'nod', 'wink', 'productive', 'countless', 'wittiest', 'alphabet', 'alluded', 'impertinently', 'inquisitiveness', 'sport', 'audible', 'amendment', 'assertion', 'petty', 'communicate', 'unavailing', '22', 'toleration', 'vulgarity', 'advance', 'checked', 'engaging', 'striving', 'communication', 'amusing', 'aid', 'illiterate', 'mental', 'thorough', 'rectitude', 'assiduity', 'flattery', 'insincerity', 'equality', 'toward', 'deference', 'valueless', 'personally', 'DID', 'cautious', 'enquiring', 'curious', 'trusting', 'manage', 'MAY', 'amiably', 'bashful', 'Good', 'heaven', 'Robert', 'ROBERT', 'fixing', 'Astonishment', 'disbelief', 'divine', 'varied', 'firm', 'incredulity', 'hysterical', 'swoon', 'faithfully', 'dependence', 'trusted', 'paused', 'cautiously', 'shocked', 'date', 'Pratt', 'Longstaple', 'pupil', 'revived', 'falsehood', 'Engaged', 'beg', 'pardon', 'surely', 'Street', 'deceived', 'depends', 'perplexity', 'OCCASION', 'suspecting', 'sink', 'painting', 'hasty', 'detecting', 'likeness', 'calmly', 'keeping', 'exceeding', 'proud', 'imagining', 'hoping', 'Besides', 'betraying', 'tongue', 'fright', 'lest', 'alive', 'suspense', 'uncertainty', 'seldom', 'compassionate', 'wiping', 'break', 'miserable', 'advise', 'Pardon', 'provide', 'sometime', 'spirited', 'feelingly', 'veracity', 'remembered', 'writes', 'wretched', 'carelessly', 'tired', 'sheet', 'obtained', 'subsist', 'positive', 'authorised', 'struggled', 'success', 'Writing', 'confounded', 'edition', 'Volume', '.]', '23', 'answerable', 'inventing', 'asserted', 'indisputable', 'alarming', 'dissatisfaction', 'evidence', 'condemning', 'unfairly', 'aside', 'dupe', 'deceiving', 'feigned', 'illusion', 'softener', 'forgive', 'blamable', 'defended', 'injured', 'pitiable', 'hopeless', 'deprived', 'regain', 'tranquillity', 'infatuation', 'succeeding', 'rationally', 'frivolous', 'supposition', 'alienated', 'unkindness', 'Supported', 'unhappiness', 'consoled', 'forfeit', 'guard', 'extinction', 'mourning', 'obstacle', 'divide', 'entrusted', 'aggravation', 'condemnation', 'flow', 'counsel', 'firmness', 'unshaken', 'poignant', 'renewing', 'agitation', 'venturing', 'confessedly', 'evidently', 'joking', 'weight', 'disclosure', 'honesty', 'combat', 'unwounded', 'mistrust', 'repetition', 'joining', 'chat', 'eating', 'affording', 'charity', 'club', 'foresaw', 'fairer', 'opening', 'permission', 'compliant', 'seclude', 'happily', 'frightful', 'novelty', 'accompanied', 'impossibility', 'entertained', 'preparation', 'finish', 'filigree', 'candlelight', 'morrow', 'recollected', 'disappoint', 'angel', 'supper', 'bell', 'working', 'candle', 'reseated', 'alacrity', 'infer', 'spoilt', 'rubber', 'Casino', 'Ladyship', 'touched', 'tuned', 'smooth', 'toned', 'rolling', 'labour', 'singly', 'terrible', 'joyfully', 'profited', 'condescend', 'practise', 'utmost', 'harmony', 'forwarding', 'wrapped', 'forgotten', 'safely', 'introduce', 'risk', '24', 'undeserving', 'apologize', 'breaking', 'ice', 'somehow', 'Offended', 'truest', 'quarrelling', 'relieve', 'madness', 'robbing', 'constancy', 'deprive', 'failed', 'guarding', 'test', 'trial', 'unpardonable', 'lowness', 'observant', 'sighted', 'impose', 'tediousness', 'involve', 'owning', 'headstrong', 'anger', 'frightens', 'measure', 'disinterestedness', 'coxcomb', 'modestest', 'prettiest', 'modest', 'bit', 'angrily', 'lower', 'powerful', 'protection', 'concerto', 'prefer', 'incumbent', 'deep', 'dissolving', 'beset', 'agitated', 'solemnity', 'effectually', 'frighten', 'dividing', 'Tis', 'pique', 'laying', 'stress', 'biased', 'partly', 'duration', 'accustomary', 'brightened', 'unlucky', 'January', 'confidential', 'reluctance', 'induce', 'weary', 'introducing', 'inform', 'confidante', 'dismissed', 'lengthened', 'implied', 'fulfill', 'celebration', 'festival', 'proclaim', '25', 'spending', 'portion', 'habitation', 'traded', 'Portman', 'Square', 'approach', 'thither', 'unexpectedly', 'Misses', 'accompany', 'alleged', 'refusal', 'DO', 've', 'shan', 'Betty', 'chaise', 'merrier', 'bless', 'poking', 'insured', 'referred', 'cautiousness', 'disregard', 'wounding', 'irritable', 'witness', 'foresee', 'accrue', 'quietly', 'bedroom', 'SHOULD', 'motherly', 'estranged', 'obviating', 'impediment', 'formidable', 'separately', 'scruple', 'unpleasantness', 'persisted', 'sole', 'guidance', 'abandoned', 'mercy', 'reconciled', 'abridgement', 'BOTH', 'nonsensical', 'anticipate', 'attempting', 'weaken', 'shock', 'revealed', 'lifted', 'prevailing', 'dread', 'acquisition', 'putting', 'counteracted', 'unconcern', 'exhilarated', 'elevated', 'perturbation', 'impatience', 'restorative', 'score', 'eternal', 'station', '26', 'unsuited', 'overlooked', 'beamed', 'blank', 'cheerless', 'gladly', 'watching', 'zealous', 'ascertain', 'unfavourable', 'banish', 'complaisance', 'companionableness', 'wrapt', 'exclamation', 'exclusively', 'addressed', 'solicitous', 'choose', 'inn', 'extort', 'preferring', 'salmon', 'cod', 'boiled', 'fowl', 'veal', 'cutlet', 'released', 'luxury', 'handsomely', 'mantelpiece', 'silk', 'mysteriously', 'sealed', 'W', 'ringing', 'footman', 'conveyed', 'penny', 'flutter', 'sound', 'rap', 'neighbouring', 'starting', 'borne', 'ecstasy', 'exclaiming', 'unnoticed', 'demanded', 'decently', 'caused', 'fearful', 'Cartwright', 'bee', 'conjure', 'commissioned', 'somewhere', 'mildness', 'thoughtful', 'agreeing', 'forget', 'concerning', 'Wherever', 'abstracted', 'occupied', 'Restless', 'dawdled', 'indecision', 'flew', 'sorrowful', 'parcel', 'negative', 'porter', 'permitting', 'mysterious', 'interference', 'represent', 'strongest', 'whist', 'backwards', '27', 'ti', 'Frosts', 'severity', 'extreme', 'nay', 'freeze', 'tonight', 'Mary', 'privacy', 'eluded', 'watchfulness', 'frost', 'colder', 'muff', 'afternoon', 'persevered', 'excepting', 'city', 'Pleased', 'compound', 'amuse', 'derived', 'occurrence', 'strengthening', 'grieved', 'watched', 'God', 'escaped', 'precious', 'unfit', 'Berkeley', 'expecting', 'Me', 'aloud', 'Conduit', 'requesting', 'Business', 'appointment', 'indisposed', 'contrived', 'collect', 'unpremeditated', 'allowable', 'reputation', 'risking', 'nine', 'violin', 'collation', 'recognition', 'nodded', 'sauntered', 'Invited', 'Impatient', 'lead', 'awakening', 'health', 'delayed', 'application', 'urging', 'plea', 'foretold', 'hated', 'impatiently', 'unwell', 'disclosing', '-?', 'remains', 'debated', 'liable', 'shield', 'imaginable', 'confirm', '28', 'dispirited', 'stirring', 'altering', 'attitude', 'destination', 'string', 'alighted', 'landing', 'splendidly', 'lit', 'insufferably', 'tribute', 'curtsying', 'permitted', 'mingle', 'crowd', 'heat', 'necessarily', 'Cassino', 'moving', 'unobserved', 'Pray', 'betray', 'approached', 'inquired', 'shake', 'During', 'struggling', 'Tuesday', 'regretted', 'wildest', 'dreadfully', 'reviving', 'Go', 'peace', 'Wait', 'incessantly', 'entreat', 'Scarcely', 'oppressed', 'hartshorn', 'undressed', 'subsisted', 'feed', 'consciousness', 'misconduct', 'unprincipled', 'sporting', 'investigation', 'Absence', 'weakened', 'pang', 'await', 'deepest', 'ESTEEM', 'embitter', 'uniting', 'heighten', 'final', 'irreconcilable', 'rupture', '29', 'gloomy', 'dressed', 'kneeling', 'permit', 'sob', 'considerate', '-?\"', 'desperate', 'pen', 'sooth', 'tranquilize', 'nervous', 'irritability', 'requiring', 'wander', 'avoiding', 'pitying', 'meal', 'paleness', 'sickness', 'tremour', 'liking', 'measuring', 'worsted', 'rug', 'disappeared', 'desperately', 'foolish', 'grievous', 'Ma', 'imply', 'spreading', 'report', 'choked', 'joint', 'covering', 'follows', 'DEAR', 'MADAM', 'unintentional', 'guarded', 'obey', 'obligingly', 'Madam', 'obedient', 'humble', 'JOHN', 'WILLOUGHBY', 'impudently', 'cruel', 'release', 'faith', 'insult', 'proclaimed', 'writer', 'hardened', 'villainy', 'perusal', 'served', 'bitter', 'deeper', 'treating', 'disengagement', 'worst', 'irremediable', 'deliverance', 'depravity', 'dictate', 'unread', 'unreasonably', 'chariot', 'Determined', 'contributing', 'floor', 'giddy', 'food', 'slept', 'aching', 'stomach', 'faintness', 'glass', 'wine', 'COULD', 'exclaim', 'anguish', 'torrent', 'unresisted', 'Exert', 'kill', 'Think', 'hate', 'torture', 'Happy', 'oh', 'solemnly', 'wildly', 'CAN', 'Mine', 'Engagement', 'hither', 'D', \"',\", 'earlier', 'Again', 'repulsed', 'insulting', 'justification', 'misinformed', 'acted', 'grieve', 'insincere', 'acquit', 'hazarded', 'unsolicited', 'warranted', 'condemned', 'strictest', 'covenant', 'blackest', 'art', '),', 'supplication', 'firmer', 'cruelly', 'Dearest', 'instigated', 'leagued', 'cruelty', 'whoever', 'barbarous', 'bely', 'contend', 'Whoever', 'detestably', 'enemy', 'malignant', 'triumph', 'nobly', 'innocence', 'laudable', 'pride', 'resists', 'malevolence', 'discerning', 'shuddering', 'Cruel', 'clearing', 'repeating', \"'--\", 'barbarously', 'insolent', 'premeditated', 'ensued', 'posture', 'constrained', 'drop', '30', 'Taylor', 'Grey', 'abominably', 'plague', 'dressing', 'admirer', 'Parrys', 'Sandersons', 'tiptoe', 'bustle', 'governed', 'adjusting', 'summoned', 'abstraction', 'distressing', 'fondness', 'holiday', 'tempted', 'amused', 'cure', 'sweetmeat', 'olive', 'Misery', 'sign', 'finishing', 'cherry', 'oddest', '!--\"', 'Fifty', 'stylish', 'aunt', 'Biddy', 'Henshawe', 'wealthy', 'signify', 'fly', 'grows', 'reform', 'Walker', 'hinted', 'Ellison', 'Ellisons', 'guardian', 'moan', 'Let', 'joked', 'naming', 'allusion', 'blown', 'THIS', 'Law', 'defend', 'House', 'enforcement', 'hilarity', 'Mind', 'Mid', 'chuckle', 'Two', 'debt', 'drawback', 'prenticed', 'cost', 'fashioned', 'mulberry', 'dove', 'cote', 'stew', 'pond', 'canal', 'close', 'quarter', 'turnpike', 'yew', 'arbour', 'butcher', 'parsonage', 'prettier', 'meat', 'mutton', 'rising', 'compliance', 'pillow', 'repaired', 'Constantia', 'tasted', 'Whenever', 'colicky', 'gout', 'regretting', 'compromise', 'swallowed', 'reflected', 'healing', 'fancied', 'presided', 'whispered', 'hesitatingly', 'KNEW', 'elucidation', 'unfolded', 'unfathomable', 'stationer', 'Pall', 'Mall', 'identify', 'stayed', 'proportionately', 'Till', 'hardness', 'instantaneous', 'bloom', '31', 'awoke', 'closed', 'impetuous', 'innocent', 'acquitting', 'uniform', 'sympathy', 'gossip', 'polished', 'Thus', 'weakness', 'prove', 'impulse', 'goodwill', 'outstretched', 'contrition', 'explanatory', 'convincing', 'rushing', 'inforce', 'unwelcome', 'happiest', 'streamed', 'passionate', 'withdrew', 'referring', 'page', 'confident', 'relying', 'intreat', 'dearer', 'positively', 'refusing', 'nerve', 'HAD', 'retreating', 'conscience', 'proved', 'error', 'esteeming', 'lightly', 'salutation', 'desiring', 'VERY', 'useful', 'tending', 'HERS', 'awkward', 'narrator', 'SHALL', 'sighing', 'heavily', 'diffuse', ')--', 'resembling', 'orphan', 'infancy', 'guardianship', 'playfellow', 'Eliza', 'judging', 'fervent', 'encumbered', 'blindly', 'relate', 'eloping', 'Scotland', 'treachery', 'lament', 'inexperienced', 'restrain', 'regiment', 'divorce', 'threw', 'gloom', 'arrive', 'search', 'fruitless', 'trace', 'seducer', 'sin', 'adequate', 'extravagance', 'Regard', 'fallen', 'spunging', 'faded', 'acute', 'blooming', 'healthful', 'doted', 'endured', 'beholding', 'stage', 'consumption', 'Life', 'lodging', 'fate', 'disgraced', 'untouched', 'fourteen', 'handle', 'WILL', 'concise', 'discharged', 'fourteenth', 'residing', 'Dorsetshire', 'imprudently', 'Bath', 'deserved', 'obstinate', 'clue', 'ranging', 'unconcerned', 'forwarded', 'incivility', 'availed', 'Would', 'seduced', 'creditable', 'relieved', 'dissipated', 'Knowing', 'irresolute', 'interfering', 'reclaim', 'dishonorable', 'usage', 'doubtless', 'compare', 'tormented', 'Concern', 'strengthen', 'communicating', 'recital', 'irritates', 'unworthiness', 'easier', 'confessed', 'reluctantly', 'punish', 'sighed', 'soldier', 'presumed', 'delivery', 'Recollecting', '32', 'submissive', 'vindication', 'irritated', 'seduction', 'desertion', 'ONCE', 'preyed', 'brooding', 'answering', 'Long', 'Bad', 'humiliating', 'origin', 'Against', 'individual', 'afflicting', 'shorten', 'comprise', 'cheat', 'spurned', 'Design', 'negligence', 'retirement', 'paying', 'foreseeing', 'alleviation', 'doomed', 'comforted', 'militate', 'carefulness', 'reaped', 'scoundrel', 'dog', 'Folly', 'puppy', 'thankful', 'everybody', 'coachmaker', 'painter', 'portrait', 'warehouse', 'clamorous', 'exciting', 'worried', 'officious', 'condolence', 'vent', 'dignity', 'assembly', 'abundantly', 'earned', 'soften', 'humiliation', 'oblige', 'THESE', 'augmented', 'Midsummer', 'Michaelmas', 'Early', 'receipt', 'informing', 'Willoughbys', 'Bartlett', 'Buildings', 'Holburn', 'grand', 'Streets', 'gracious', 'overpowering', 'STILL', 'emphasis', 'awhile', 'TOLD', 'MONTH', 'amazingly', 'WORD', 'exultation', 'Dr', 'Davies', 'd', 'genteelly', 'shilling', 'Doctor', 'affectedly', 'simpering', 'Nancy', 'crossing', 'cessation', 'hostile', 'interposed', 'silenced', 'plagued', 'US', 'gown', 'governing', '33', 'yielded', 'expressly', 'conditioned', 'Gray', 'Sackville', 'negotiation', 'jewel', 'transacted', 'ascending', 'tend', 'counter', 'quickest', 'quicker', 'correctness', 'toothpick', 'shape', 'inventive', 'comprised', 'broad', 'imprint', 'sterling', 'insignificance', 'puppyism', 'deciding', 'horror', 'inspection', 'ivory', 'pearl', 'named', 'glove', 'leisurely', 'conceit', 'respectful', 'beast', 'Exchange', 'bespeak', 'seal', 'Excellent', 'serve', 'duly', 'pretence', 'eyed', 'narrowly', 'pitch', 'TWICE', 'secures', 'undecided', 'hang', 'prior', 'insurmountable', 'universal', 'ALL', 'PARTIES', 'truly', 'vouchsafe', 'remarkable', 'Hon', 'Morton', 'bank', 'assent', 'enclosure', 'Common', 'Kingham', 'Farm', 'Gibson', 'land', 'adjoining', 'HAS', 'More', 'intrinsically', 'banker', 'Other', 'bequeathed', 'Far', 'repine', 'undoubted', 'flower', 'knoll', 'walnut', 'slope', 'thorn', 'patch', 'brow', 'provocation', 'Having', 'buying', 'pair', 'cheerfuller', 'dy', 'descend', 'Few', 'save', 'Whereas', 'conscientious', 'kinder', 'prosperity', 'thin', 'destroys', 'likelihood', 'relinquished', 'promoting', 'compunction', 'easiest', 'atoning', 'Abundance', 'prepossessed', 'associate', '34', 'rewarded', 'selfishness', 'mutually', 'sympathised', 'demeanor', 'suit', 'uncordial', 'sedulously', 'deed', 'flowed', 'detection', 'prodigiously', 'Harley', 'powerfully', 'pleasantly', 'apprehension', 'inflicting', 'Pity', 'behold', 'utter', 'irrepressible', 'envy', 'upright', 'sourness', 'aspect', 'sallow', 'contraction', 'rescued', 'proportioned', 'graciousness', 'mortify', 'pointedly', 'misapplied', 'despising', 'honorably', 'teazed', 'bespoke', 'Mistress', 'Master', 'indigence', 'laboured', 'disqualification', 'Want', 'politics', 'inclosing', 'coffee', 'comparative', 'tallest', 'politely', 'grandmother', 'descendant', 'enforcing', 'declaring', 'mounted', 'ornamented', 'officiously', 'handed', 'disclaiming', 'connoisseurship', 'considerately', 'Hum', 'paint', 'delightfully', 'beautifully', 'Beautifully', 'provoked', 'stiffly', 'retort', 'philippic', 'audacity', 'foretell', 'wounded', 'hiding', 'intelligent', 'salt', 'enraged', 'retained', 'constitution', 'BEEN', '35', 'undesirable', 'meanness', 'perplexed', 'retarded', 'OWN', 'creation', 'caprice', 'rejoice', 'OUGHT', 'ELINOR', 'derive', 'affable', 'dreaded', 'affability', 'Civil', 'hauteur', 'spends', 'courtesy', 'unpleasantest', 'LOOK', 'deter', 're', 'courage', 'exceeded', 'rare', 'demure', 'contribution', 'volunteer', 'heroically', 'fetching', 'loitered', 'conciliate', 'benignant', 'muttered', 'admirable', 'revenge', 'sting', 'scrupulous', 'performing', 'auditor', 'unexhilarating', 'Going', 'outstaid', 'teazing', 'longest', 'steadily', 'tricked', 'expose', '36', 'Within', 'Thomas', 'Esq', 'paragraph', 'temporary', 'influenced', 'intruding', 'THEIR', 'monopolize', 'satirical', 'administer', 'discomposed', 'reconcile', 'conciliation', 'lighter', 'anymore', 'jealousy', 'unsuspected', 'congratulated', 'detail', 'unfatherly', 'infant', 'baby', 'proposition', 'befell', 'outrun', 'misconstruction', 'mode', 'mechanically', 'toilet', 'price', 'washing', 'per', 'scrutiny', 'douceur', 'undergoing', 'shoe', 'punctuality', 'preceded', 'coachman', 'performer', 'unrestrained', 'harp', 'violoncello', 'excursive', 'group', 'lecture', 'familiarly', 'stroke', 'emptiness', 'lamenting', 'GAUCHERIE', 'mixing', 'candidly', 'generously', 'tuition', 'Westminster', \".'\", 'reside', 'Dawlish', 'surprising', 'hearty', 'protest', 'Courtland', 'Bonomi', 'Elliott', 'Dartford', \"?'\", 'managed', 'library', 'refreshment', 'saloon', 'measured', 'precisely', 'spacious', 'rational', 'Dennison', 'requisite', 'enfranchisement', 'shews', 'humility', 'vigor', 'pacified', 'slyly', 'needle', 'cherishing', 'gratefully', 'precise', 'shown', 'uncommon', 'vouchsafed', 'malice', 'entry', 'strengthened', 'emigrant', 'edtions', 'II', '37', 'resume', 'fourth', 'resettled', 'wonderful', 'fuss', 'fretted', 'pimple', 'gum', \"--'\", 'Donavan', 'stepped', 'smirked', 'simpered', \"!'\", 'conjurer', 'popt', \";'\", 'carpet', 'hysteric', 'steward', 'dreaming', 'fury', 'fainting', 'bitterly', 'packed', 'THEN', 'uproar', 'hears', 'scornfully', 'bigger', 'housemaid', 'impartiality', 'preparing', 'undeceiving', ',-', 'perform', 'dwell', 'practised', 'practicable', 'narration', 'belonged', 'hearer', 'comforter', 'unamiable', 'mankind', 'regularity', 'soothe', 'November', 'confirmed', 'undeceive', 'essential', 'harbour', 'bewitching', 'punishment', 'enjoying', 'caress', 'frame', 'obtaining', 'bitterness', 'reparation', 'discreet', 'unchanging', 'dissented', 'spasm', 'throat', 'heroism', 'awful', 'complicated', 'storm', 'weathered', 'apprehended', 'ingratitude', 'benevolence', 'harmless', 'planning', 'ANY', 'prepossession', 'THERE', 'avail', 'Duty', 'Norfolk', 'tax', 'represented', 'penury', 'protested', 'advancing', 'clapped', 'Gracious', 'obstinacy', 'forbore', 'blunt', 'honest', 'rascal', 'deserves', 'disrespectfully', 'deserving', 'throughout', 'dignified', 'wrung', 'braving', 'threat', 'sir', 'Born', 'deplorable', 'tavern', 'forbear', 'lawyer', 'Everybody', 'galling', 'vehemence', 'critique', '38', 'disobedient', 'gloried', 'forgave', 'urge', 'penitence', 'Sunday', 'Kensington', 'Gardens', 'March', 'accosted', 'Get', 'Clarke', 'WITHOUT', 'rage', 'vowed', 'trim', 'bonnet', 'hat', 'feather', 'pink', 'ribbon', 'IS', 'plaguing', 'triumphantly', 'spread', 'Godby', 'Sparks', 'Richard', 'Wednesday', 'Friday', 'Saturday', 'Once', 'curacy', 'shift', 'oath', 'la', 'below', 'Richardson', 'interrupt', 'stocking', 'Richardsons', 'interrupting', 'La', 'Laughing', '.)--', 'Martha', 'Sharpe', 'bone', 'closet', 'chimney', 'uppermost', '--,', 'huswifes', 'Bishop', 'ordained', 'giggling', '!\\'\"', 'bout', 'kindly', 'spotted', 'muslin', 'torn', 'claimed', 'foreplanned', 'preferment', 'ay', 'em', 'furnishing', 'Building', 'persecution', 'thankfully', 'bright', 'twould', 'reminds', 'conclude', 'respectfully', 'comment', 'Very', 'prettily', '39', 'effected', 'hostess', 'resisted', 'detaining', 'Easter', 'auspicious', 'gently', '...\"', 'argue', 'overcoming', 'Bristol', 'concurrence', 'statement', ';\"--', 'gape', 'cat', 'vigorous', 'sketch', 'ennui', 'expeditiously', 'honorable', 'intent', 'pursue', 'Still', 'lesson', 'apologising', 'badness', 'etiquette', 'motion', 'commended', 'Astonished', 'unlover', 'hinder', 'ejaculation', 'older', 'conference', 'froid', 'suitor', 'persevering', 'rightly', '?--\"', 'impolitic', 'vacant', 'circumstanced', 'nonsense', 'rectory', '200', 'L', 'annum', 'presenting', 'minor', 'undertake', 'fortunately', 'presentation', 'patronage', 'unforeseen', 'differently', 'principal', 'misunderstood', 'worded', 'arisen', '40', 'sagaciously', 'withdrawn', 'TRIED', 'sensibly', 'Opportunity', 'Holborn', 'ordination', 'ho', '.)', 'goodby', 'deliberating', 'band', 'congratulating', 'preferable', 'Whether', 'determining', 'intruded', 'recovering', 'charged', 'breathing', 'faster', 'Allow', 'establish', 'LOOKED', 'unexpected', 'unthought', 'gathering', 'Truth', 'benefactress', 'contributed', 'recently', 'respectability', 'lodge', 'St', 'James', 'befall', 'anticipation', 'reconsider', 'reverted', 'Really', 'Sure', 'marries', 'exchanged', 'forfeiting', 'ebullition', 'ninny', 'Parsonage', 'sha', 'nt', '41', 'congratulation', 'worship', 'saint', 'tithe', 'cow', 'poultry', 'verbal', 'disliked', 'tete', 'assuring', ':--\"', 'vacate', 'improvident', 'refrain', 'impoverished', 'befalls', 'weak', 'retain', 'reasoning', 'discarded', 'accelerate', 'S', 'decisive', 'Choice', 'gratify', 'agitate', 'fill', 'uninformed', 'unfair', 'division', 'confirming', 'inquisitive', 'immoderately', 'clergyman', 'fanciful', 'imagery', 'prayer', 'surplice', 'publishing', 'banns', 'Brown', 'immovable', 'recalled', 'considerably', 'genuine', 'born', 'kingdom', 'intend', 'frantic', 'Just', 'captivate', 'interfere', 'hit', 'disapproving', 'starved', 'enamoured', '42', 'completed', 'intercourse', 'promptitude', 'April', 'respective', 'extinguished', 'shedding', 'lingering', 'unseen', 'tranquility', 'restoring', 'prohibited', 'Somerset', 'forenoon', 'sloping', 'lawn', 'shrubbery', 'closer', 'gravel', 'dotted', 'fir', 'mountain', 'ash', 'acacia', 'thick', 'interspersed', 'Lombardy', 'poplar', 'swelling', 'eighty', 'stealing', 'eminence', 'Grecian', 'wide', 'tract', 'east', 'ridge', 'horizon', 'invaluable', 'circuit', 'luxurious', 'premise', 'whiled', 'lounging', 'gardener', 'blight', 'dawdling', 'plant', 'unwarily', 'nipped', 'dairy', 'hen', 'forsaking', 'nest', 'fox', 'decrease', 'brood', 'merriment', 'dry', 'twilight', 'deterred', 'Reading', 'knack', 'heartiness', 'atoned', 'conceited', 'enlargement', 'reduced', 'aptitude', 'trait', 'idled', 'billiards', 'Epicurism', 'disinterested', 'confidant', 'suggestion', 'observer', 'unexpressed', 'delighful', 'wildness', 'oldest', 'grass', 'wettest', 'trifled', 'Prescriptions', 'poured', 'feverish', 'cough', 'sore', 'simplest', '43', 'shivering', 'sofa', 'nursing', 'efficacy', 'persisting', 'apothecary', 'examined', 'patient', 'restore', 'disorder', 'putrid', 'allowing', 'infection', 'Harris', 'importunity', 'withstood', 'helpmate', 'malady', 'acceptably', 'piquet', 'demur', 'seconded', 'emergence', 'boldly', 'seizure', 'foreboding', 'render', 'admission', 'expel', 'auspiciously', 'administering', 'prescribed', 'slumber', 'beneficial', 'unusually', 'recreating', 'unremitting', 'inarticulate', 'awakened', 'accidental', 'assisting', 'despatching', 'messenger', 'effecting', 'rung', 'despondence', 'obviated', 'pre', 'resistance', 'guide', 'summons', 'lessened', 'meanwhile', 'exactness', 'Hour', 'sleepless', 'delirium', 'tortured', 'incoherently', 'pictured', 'arriving', 'darling', 'lesser', 'punctual', 'unabated', 'stupor', 'noon', 'image', 'scrupled', 'reasonableness', 'bury', 'foregoing', 'revival', 'conning', 'injunction', 'Hope', 'Half', 'blessed', 'Others', 'breath', 'gaze', 'Anxiety', 'felicitation', 'surpassing', 'unfeigned', 'unequivocal', 'doting', 'expand', 'demonstration', 'breast', 'calming', 'enfeebled', 'supplying', 'succour', 'relapse', 'remind', 'slow', 'progress', 'sweetly', 'capability', 'retired', 'stormy', 'roared', 'beat', 'blast', 'traveller', 'store', 'ALMOST', 'flaring', 'lamp', 'discern', 'vestibule', 'inner', 'lobby', 'rushed', '44', 'obeyed', 'Sit', 'opposite', 'abruptness', 'AM', 'mood', 'glow', 'overspreading', 'knave', 'fool', 'liquor', 'strangeness', 'intelligible', 'drunk', 'pint', 'beef', 'Marlborough', 'nuncheon', 'intoxication', 'blockhead', 'LONG', 'accounted', 'diabolical', 'imputed', 'Careless', 'insist', 'associating', 'reprobate', 'sacrificed', 'avarice', 'blameless', 'improperly', 'expatiate', 'scrupling', 'circumspection', 'contemptible', 'interim', 'heightened', 'hardening', 'impartial', 'libertine', 'creating', '--(', '?)', 'infinitely', 'wanton', 'pursuing', 'extremest', 'omitted', 'taxed', 'purity', 'morality', 'discontented', 'formally', 'awaited', 'deliver', 'debate', 'undervalued', 'magnanimity', 'reproachfully', 'dissembling', 'reliance', 'grudge', 'rascally', 'tediously', 'soothing', 'infamous', 'metaphor', 'forbid', 'dagger', 'thunderbolt', 'Thunderbolts', 'undergone', 'Relate', 'separated', 'remorse', 'dissipation', 'villain', 'chusing', 'shrugging', 'silencing', \".'--\", 'infamously', 'retreat', 'preserve', 'wiser', 'cool', 'Watched', 'Lodging', 'blundered', 'inducement', 'artless', 'confiding', 'hateful', 'Those', 'holding', 'Sophia', 'dying', 'hue', 'haste', 'breakfasting', 'vague', 'Affecting', 'playfulness', 'impudence', 'appeased', 'feminine', 'servilely', 'copying', 'original', 'diction', 'Preparation', 'couched', 'bluster', 'blackguard', 'copied', 'relic', 'pocketbook', 'hoarded', 'ingratiating', 'virulence', 'memento', 'slightingly', 'atonement', 'wicked', 'inflicted', 'lightened', 'spontaneous', 'inconstant', 'Drury', 'Lane', 'vex', 'horridly', 'bluntly', 'imminent', 'scorning', 'hating', 'latest', 'project', 'irreparable', 'Extravagance', 'Vanity', 'Each', 'leading', 'outwardly', 'incurable', 'thence', 'letting', 'forgetting', 'rub', 'Domestic', 'Were', '45', 'widely', 'differing', 'worthless', 'commiseration', 'awaking', 'refreshed', 'Short', 'Eager', 'hall', 'joyful', 'embraced', 'bliss', 'stake', 'wearing', 'irritation', 'blamed', 'harshly', 'widower', 'reproved', 'errand', 'mend', 'temperate', 'exuberance', 'imparted', 'unawares', 'undesignedly', 'equalled', 'embellishment', 'warning', 'worthiest', 'acquired', 'Time', 'rooted', 'solidly', 'unstudied', 'accordant', 'liveliness', 'artificial', 'dissent', '46', 'weakening', 'smoothly', 'pour', 'pale', 'recurrence', 'reclining', 'watchful', 'dawned', 'determinate', 'hospitable', 'redeem', 'bidding', 'dullness', 'bodily', 'eventually', 'field', 'unobtrusiveness', 'entitled', 'subsequent', 'traced', 'accustom', 'rested', 'opera', 'containing', 'duet', 'bearing', 'key', 'feebleness', 'abatement', 'anticipating', 'edge', 'Cross', 'Abbeyland', 'Priory', 'resorted', 'production', 'borrow', 'indolence', 'repining', 'virtuous', 'control', 'unfulfilled', 'unsettle', 'Willing', 'appointed', 'invalid', 'genial', 'untried', 'mound', 'ALWAYS', 'treasured', 'doubly', 'shamefully', 'unguarded', 'fickle', 'postponing', 'crept', 'autumn', 'destruction', 'fretful', 'murmuring', 'failing', 'repaid', 'wronged', 'imitate', 'deserted', 'professed', 'unbounded', 'reproving', 'adhering', 'worry', 'solely', 'henceforth', '>', 'incitement', 'humbled', 'amended', 'regulated', 'religion', 'hazarding', 'listener', 'grounded', 'repentance', 'protestation', 'trembled', 'whiter', 'panting', 'unknowingly', 'closely', 'dreading', 'conjecturing', 'minuteness', 'articulate', 'slowly', '47', 'unmoved', 'unbroken', 'unblemished', 'replace', 'injure', 'retailed', 'Reflection', 'sobered', 'desert', 'astray', 'unquiet', 'unsteady', 'unbiased', 'sensitive', 'poorly', 'expensiveness', 'inexperience', 'LESS', 'economy', 'frugality', 'retrenched', 'management', 'abridge', 'quivered', 'Selfish', 'ruling', 'unembarrassed', 'suffers', 'pecuniary', 'reckons', 'necessitous', 'innumerable', 'Rather', 'fairly', 'crime', 'enumeration', 'unitedly', 'unsubdued', 'vigour', 'prosecution', 'tidings', 'voluntary', 'start', 'intuitively', 'disordered', 'stopping', 'New', 'Inn', 'Sally', 'howsever', 'westward', 'bide', 'recognised', 'tablecloth', 'dessert', 'similarity', 'hazard', 'misled', 'slighter', 'wont', 'inattentive', '48', 'mediation', 'lurking', 'consequently', 'provident', 'conspired', 'contriving', 'manager', 'economical', 'thoughtless', 'indolent', 'utterance', 'footstep', 'path', 'merited', 'conforming', 'stammered', 'unintelligible', 'shaken', 'retreated', 'dryness', 'affirmative', 'fearing', 'EDWARD', 'doubtingly', 'spoiling', 'sheath', 'cutting', 'echoed', 'unspeakable', 'penetrate', 'lessening', '49', 'Unaccountable', 'experiencing', 'contracted', 'failure', 'exercising', 'commonly', 'swell', 'entanglement', 'flowing', 'boyish', 'philosophic', 'unconquerable', 'outgrown', 'chosen', 'nominal', 'university', 'unnatural', 'Considering', 'wrought', 'Comparisons', 'justifying', 'compared', 'honourably', 'profiting', 'familiarized', 'sedateness', 'labor', 'incessant', 'Between', 'puzzle', 'worked', 'afterward', 'stupified', 'SIR', 'Being', 'scorn', 'Sincerely', 'wisher', 'LUCY', 'FERRARS', 'burnt', 'Please', 'destroy', 'scrawl', 'composition', 'substance', 'appropriate', 'bribing', 'disinherited', 'flourish', 'enlightened', 'disquiet', 'option', 'renounced', 'relent', 'WHAT', 'plead', 'FAITH', 'plighted', 'sacred', 'expediency', 'resented', 'Which', 'ungraciously', 'glebe', 'warmest', 'residue', 'enrich', 'comer', 'calculate', 'disproportion', 'rumour', 'unite', 'thrill', 'transport', 'tale', 'jilting', 'hussy', 'borrowed', 'Burgess', 'crossness', 'strain', 'enormously', 'submission', 'amiss', 'reconciliation', 'penitent', 'patron', '50', 'fluctuating', 'annihilation', 'resuscitation', 'publication', 'nobleman', 'THREE', 'decree', 'augmenting', 'shuffling', 'completion', 'dilatoriness', 'workman', 'Mansion', 'superintend', 'invent', 'sweep', 'prophecy', 'jumbled', 'pasturage', 'inspect', 'Hanger', 'insulted', 'scrape', 'assiduous', 'crowned', 'obstructed', 'privately', 'TIME', 'lingered', 'Instead', 'supplanted', 'tricking', 'instigation', 'adopted', 'transgressed', 'unpardoned', 'haughty', 'birth', 'intruder', 'continually', 'subsisting', 'disagreement', 'exceed', 'rendering', 'useless', 'policy', 'frequency', 'Precious', 'confederacy', 'observable', 'constitutional', 'safeguard', 'sober', 'submitting', 'patroness', 'stating', 'clemency', 'inconsolable', 'fled', 'habitual', 'breed', 'surviving', 'standard', 'ranked', 'producing', 'THE', 'END'])"
      ]
     },
     "execution_count": 20,
     "metadata": {},
     "output_type": "execute_result"
    }
   ],
   "source": [
    "def question_twelve():\n",
    "    return freq_dist.keys()\n",
    "\n",
    "vocab_text2 = question_twelve()  \n",
    "vocab_text2\n"
   ]
  },
  {
   "cell_type": "markdown",
   "metadata": {},
   "source": [
    "### number of times William appeared in text2\n",
    "#### This function should return an integer"
   ]
  },
  {
   "cell_type": "code",
   "execution_count": 20,
   "metadata": {},
   "outputs": [
    {
     "data": {
      "text/plain": [
       "3"
      ]
     },
     "execution_count": 20,
     "metadata": {},
     "output_type": "execute_result"
    }
   ],
   "source": [
    "def question_thirteen():\n",
    "    return freq_dist['William']\n",
    "\n",
    "question_thirteen()"
   ]
  },
  {
   "cell_type": "markdown",
   "metadata": {},
   "source": [
    "### Find the longest word(s) in text2 and length of that word\n",
    "#### This function should return a tuple (w_1, w_2, ... ,w_n, length_of_word)"
   ]
  },
  {
   "cell_type": "code",
   "execution_count": 21,
   "metadata": {},
   "outputs": [
    {
     "data": {
      "text/plain": [
       "('disinterestedness', 'companionableness', 17)"
      ]
     },
     "execution_count": 21,
     "metadata": {},
     "output_type": "execute_result"
    }
   ],
   "source": [
    "def question_fourteen():\n",
    "    return tuple([word for word in vocab_text2 if len(word) > 16]) + (17,)\n",
    "\n",
    "question_fourteen()"
   ]
  },
  {
   "cell_type": "markdown",
   "metadata": {},
   "source": [
    "### words that appears more than 100 times in text2 and consist of more than 5 letters.<br>\n",
    "#### This function should return a list  [(w_1,  count_of_w_1), ... ,(w_n, count_of_w_n)]"
   ]
  },
  {
   "cell_type": "code",
   "execution_count": 21,
   "metadata": {},
   "outputs": [
    {
     "data": {
      "text/plain": [
       "['Dashwood',\n",
       " 'sister',\n",
       " 'before',\n",
       " 'mother',\n",
       " 'nothing',\n",
       " 'himself',\n",
       " 'however',\n",
       " 'feeling',\n",
       " 'thought',\n",
       " 'enough',\n",
       " 'little',\n",
       " 'without',\n",
       " 'moment',\n",
       " 'Elinor',\n",
       " 'though',\n",
       " 'Marianne',\n",
       " 'herself',\n",
       " 'replied',\n",
       " 'should',\n",
       " 'myself',\n",
       " 'always',\n",
       " 'Edward',\n",
       " 'Ferrars',\n",
       " 'friend',\n",
       " 'Middleton',\n",
       " 'Jennings',\n",
       " 'Colonel',\n",
       " 'Brandon',\n",
       " 'Willoughby']"
      ]
     },
     "execution_count": 21,
     "metadata": {},
     "output_type": "execute_result"
    }
   ],
   "source": [
    "def question_fifteen():\n",
    "    return [word for word in vocab_text2 if len(word) > 5 and freq_dist[word] > 100]\n",
    "\n",
    "question_fifteen()"
   ]
  },
  {
   "cell_type": "markdown",
   "metadata": {},
   "source": [
    "### list all the bigrams, also print its frequency distribution for bigrams\n"
   ]
  },
  {
   "cell_type": "code",
   "execution_count": 22,
   "metadata": {},
   "outputs": [
    {
     "data": {
      "text/plain": [
       "[('[', 'Sense'),\n",
       " ('Sense', 'and'),\n",
       " ('and', 'Sensibility'),\n",
       " ('Sensibility', 'by'),\n",
       " ('by', 'Jane'),\n",
       " ('Jane', 'Austen'),\n",
       " ('Austen', '1811'),\n",
       " ('1811', ']'),\n",
       " (']', 'CHAPTER'),\n",
       " ('CHAPTER', '1'),\n",
       " ('1', 'The'),\n",
       " ('The', 'family'),\n",
       " ('family', 'of'),\n",
       " ('of', 'Dashwood'),\n",
       " ('Dashwood', 'had'),\n",
       " ('had', 'long'),\n",
       " ('long', 'been'),\n",
       " ('been', 'settled'),\n",
       " ('settled', 'in'),\n",
       " ('in', 'Sussex'),\n",
       " ('Sussex', '.'),\n",
       " ('.', 'Their'),\n",
       " ('Their', 'estate'),\n",
       " ('estate', 'wa'),\n",
       " ('wa', 'large'),\n",
       " ('large', ','),\n",
       " (',', 'their'),\n",
       " ('their', 'residence'),\n",
       " ('residence', 'at'),\n",
       " ('at', 'Norland'),\n",
       " ('Norland', 'Park'),\n",
       " ('Park', 'the'),\n",
       " ('the', 'centre'),\n",
       " ('centre', 'property'),\n",
       " ('property', 'where'),\n",
       " ('where', 'for'),\n",
       " ('for', 'many'),\n",
       " ('many', 'generation'),\n",
       " ('generation', 'they'),\n",
       " ('they', 'lived'),\n",
       " ('lived', 'so'),\n",
       " ('so', 'respectable'),\n",
       " ('respectable', 'a'),\n",
       " ('a', 'manner'),\n",
       " ('manner', 'to'),\n",
       " ('to', 'engage'),\n",
       " ('engage', 'general'),\n",
       " ('general', 'good'),\n",
       " ('good', 'opinion'),\n",
       " ('opinion', 'surrounding'),\n",
       " ('surrounding', 'acquaintance'),\n",
       " ('acquaintance', 'late'),\n",
       " ('late', 'owner'),\n",
       " ('owner', 'this'),\n",
       " ('this', 'single'),\n",
       " ('single', 'man'),\n",
       " ('man', 'who'),\n",
       " ('who', 'very'),\n",
       " ('very', 'advanced'),\n",
       " ('advanced', 'age'),\n",
       " ('age', 'year'),\n",
       " ('year', 'his'),\n",
       " ('his', 'life'),\n",
       " ('life', 'constant'),\n",
       " ('constant', 'companion'),\n",
       " ('companion', 'housekeeper'),\n",
       " ('housekeeper', 'sister'),\n",
       " ('sister', 'But'),\n",
       " ('But', 'her'),\n",
       " ('her', 'death'),\n",
       " ('death', 'which'),\n",
       " ('which', 'happened'),\n",
       " ('happened', 'ten'),\n",
       " ('ten', 'before'),\n",
       " ('before', 'own'),\n",
       " ('own', 'produced'),\n",
       " ('produced', 'great'),\n",
       " ('great', 'alteration'),\n",
       " ('alteration', 'home'),\n",
       " ('home', ';'),\n",
       " (';', 'supply'),\n",
       " ('supply', 'loss'),\n",
       " ('loss', 'he'),\n",
       " ('he', 'invited'),\n",
       " ('invited', 'received'),\n",
       " ('received', 'into'),\n",
       " ('into', 'house'),\n",
       " ('house', 'nephew'),\n",
       " ('nephew', 'Mr'),\n",
       " ('Mr', 'Henry'),\n",
       " ('Henry', 'legal'),\n",
       " ('legal', 'inheritor'),\n",
       " ('inheritor', 'person'),\n",
       " ('person', 'whom'),\n",
       " ('whom', 'intended'),\n",
       " ('intended', 'bequeath'),\n",
       " ('bequeath', 'it'),\n",
       " ('it', 'In'),\n",
       " ('In', 'society'),\n",
       " ('society', 'niece'),\n",
       " ('niece', 'child'),\n",
       " ('child', 'old'),\n",
       " ('old', 'Gentleman'),\n",
       " ('Gentleman', \"'\"),\n",
       " (\"'\", 's'),\n",
       " ('s', 'day'),\n",
       " ('day', 'were'),\n",
       " ('were', 'comfortably'),\n",
       " ('comfortably', 'spent'),\n",
       " ('spent', 'His'),\n",
       " ('His', 'attachment'),\n",
       " ('attachment', 'them'),\n",
       " ('them', 'all'),\n",
       " ('all', 'increased'),\n",
       " ('increased', 'attention'),\n",
       " ('attention', 'Mrs'),\n",
       " ('Mrs', 'wish'),\n",
       " ('wish', 'proceeded'),\n",
       " ('proceeded', 'not'),\n",
       " ('not', 'merely'),\n",
       " ('merely', 'from'),\n",
       " ('from', 'interest'),\n",
       " ('interest', 'but'),\n",
       " ('but', 'goodness'),\n",
       " ('goodness', 'heart'),\n",
       " ('heart', 'gave'),\n",
       " ('gave', 'him'),\n",
       " ('him', 'every'),\n",
       " ('every', 'degree'),\n",
       " ('degree', 'solid'),\n",
       " ('solid', 'comfort'),\n",
       " ('comfort', 'could'),\n",
       " ('could', 'receive'),\n",
       " ('receive', 'cheerfulness'),\n",
       " ('cheerfulness', 'added'),\n",
       " ('added', 'relish'),\n",
       " ('relish', 'existence'),\n",
       " ('existence', 'By'),\n",
       " ('By', 'former'),\n",
       " ('former', 'marriage'),\n",
       " ('marriage', 'one'),\n",
       " ('one', 'son'),\n",
       " ('son', ':'),\n",
       " (':', 'present'),\n",
       " ('present', 'lady'),\n",
       " ('lady', 'three'),\n",
       " ('three', 'daughter'),\n",
       " ('daughter', 'steady'),\n",
       " ('steady', 'young'),\n",
       " ('young', 'amply'),\n",
       " ('amply', 'provided'),\n",
       " ('provided', 'fortune'),\n",
       " ('fortune', 'mother'),\n",
       " ('mother', 'half'),\n",
       " ('half', 'devolved'),\n",
       " ('devolved', 'on'),\n",
       " ('on', 'coming'),\n",
       " ('coming', 'likewise'),\n",
       " ('likewise', 'soon'),\n",
       " ('soon', 'afterwards'),\n",
       " ('afterwards', 'wealth'),\n",
       " ('wealth', 'To'),\n",
       " ('To', 'therefore'),\n",
       " ('therefore', 'succession'),\n",
       " ('succession', 'really'),\n",
       " ('really', 'important'),\n",
       " ('important', 'independent'),\n",
       " ('independent', 'what'),\n",
       " ('what', 'might'),\n",
       " ('might', 'arise'),\n",
       " ('arise', 'father'),\n",
       " ('father', 'inheriting'),\n",
       " ('inheriting', 'that'),\n",
       " ('that', 'be'),\n",
       " ('be', 'small'),\n",
       " ('small', 'nothing'),\n",
       " ('nothing', 'only'),\n",
       " ('only', 'seven'),\n",
       " ('seven', 'thousand'),\n",
       " ('thousand', 'pound'),\n",
       " ('pound', 'disposal'),\n",
       " ('disposal', 'remaining'),\n",
       " ('remaining', 'moiety'),\n",
       " ('moiety', 'first'),\n",
       " ('first', 'wife'),\n",
       " ('wife', 'also'),\n",
       " ('also', 'secured'),\n",
       " ('secured', '-'),\n",
       " ('-', 'gentleman'),\n",
       " ('gentleman', 'died'),\n",
       " ('died', 'will'),\n",
       " ('will', 'read'),\n",
       " ('read', 'like'),\n",
       " ('like', 'almost'),\n",
       " ('almost', 'other'),\n",
       " ('other', 'much'),\n",
       " ('much', 'disappointment'),\n",
       " ('disappointment', 'pleasure'),\n",
       " ('pleasure', 'He'),\n",
       " ('He', 'neither'),\n",
       " ('neither', 'unjust'),\n",
       " ('unjust', 'nor'),\n",
       " ('nor', 'ungrateful'),\n",
       " ('ungrateful', 'leave'),\n",
       " ('leave', ';--'),\n",
       " (';--', 'left'),\n",
       " ('left', 'such'),\n",
       " ('such', 'term'),\n",
       " ('term', 'destroyed'),\n",
       " ('destroyed', 'value'),\n",
       " ('value', 'bequest'),\n",
       " ('bequest', 'wished'),\n",
       " ('wished', 'more'),\n",
       " ('more', 'sake'),\n",
       " ('sake', 'than'),\n",
       " ('than', 'himself'),\n",
       " ('himself', 'or'),\n",
       " ('or', 'four'),\n",
       " ('four', 'way'),\n",
       " ('way', 'no'),\n",
       " ('no', 'power'),\n",
       " ('power', 'providing'),\n",
       " ('providing', 'those'),\n",
       " ('those', 'most'),\n",
       " ('most', 'dear'),\n",
       " ('dear', 'needed'),\n",
       " ('needed', 'provision'),\n",
       " ('provision', 'any'),\n",
       " ('any', 'charge'),\n",
       " ('charge', 'sale'),\n",
       " ('sale', 'valuable'),\n",
       " ('valuable', 'wood'),\n",
       " ('wood', 'whole'),\n",
       " ('whole', 'tied'),\n",
       " ('tied', 'up'),\n",
       " ('up', 'benefit'),\n",
       " ('benefit', 'occasional'),\n",
       " ('occasional', 'visit'),\n",
       " ('visit', 'with'),\n",
       " ('with', 'far'),\n",
       " ('far', 'gained'),\n",
       " ('gained', 'affection'),\n",
       " ('affection', 'uncle'),\n",
       " ('uncle', 'attraction'),\n",
       " ('attraction', 'are'),\n",
       " ('are', 'mean'),\n",
       " ('mean', 'unusual'),\n",
       " ('unusual', 'two'),\n",
       " ('two', 'an'),\n",
       " ('an', 'imperfect'),\n",
       " ('imperfect', 'articulation'),\n",
       " ('articulation', 'earnest'),\n",
       " ('earnest', 'desire'),\n",
       " ('desire', 'having'),\n",
       " ('having', 'cunning'),\n",
       " ('cunning', 'trick'),\n",
       " ('trick', 'deal'),\n",
       " ('deal', 'noise'),\n",
       " ('noise', 'outweigh'),\n",
       " ('outweigh', 'meant'),\n",
       " ('meant', 'unkind'),\n",
       " ('unkind', 'however'),\n",
       " ('however', 'mark'),\n",
       " ('mark', 'girl'),\n",
       " ('girl', 'piece'),\n",
       " ('piece', 'severe'),\n",
       " ('severe', 'temper'),\n",
       " ('temper', 'cheerful'),\n",
       " ('cheerful', 'sanguine'),\n",
       " ('sanguine', 'reasonably'),\n",
       " ('reasonably', 'hope'),\n",
       " ('hope', 'live'),\n",
       " ('live', 'living'),\n",
       " ('living', 'economically'),\n",
       " ('economically', 'lay'),\n",
       " ('lay', 'considerable'),\n",
       " ('considerable', 'sum'),\n",
       " ('sum', 'produce'),\n",
       " ('produce', 'already'),\n",
       " ('already', 'capable'),\n",
       " ('capable', 'immediate'),\n",
       " ('immediate', 'improvement'),\n",
       " ('improvement', 'tardy'),\n",
       " ('tardy', 'twelvemonth'),\n",
       " ('twelvemonth', 'survived'),\n",
       " ('survived', 'longer'),\n",
       " ('longer', 'including'),\n",
       " ('including', 'legacy'),\n",
       " ('legacy', 'remained'),\n",
       " ('remained', 'widow'),\n",
       " ('widow', 'sent'),\n",
       " ('sent', 'danger'),\n",
       " ('danger', 'known'),\n",
       " ('known', 'recommended'),\n",
       " ('recommended', 'strength'),\n",
       " ('strength', 'urgency'),\n",
       " ('urgency', 'illness'),\n",
       " ('illness', 'command'),\n",
       " ('command', 'law'),\n",
       " ('law', 'John'),\n",
       " ('John', 'strong'),\n",
       " ('strong', 'feeling'),\n",
       " ('feeling', 'rest'),\n",
       " ('rest', 'affected'),\n",
       " ('affected', 'recommendation'),\n",
       " ('recommendation', 'nature'),\n",
       " ('nature', 'time'),\n",
       " ('time', 'promised'),\n",
       " ('promised', 'do'),\n",
       " ('do', 'thing'),\n",
       " ('thing', 'make'),\n",
       " ('make', 'comfortable'),\n",
       " ('comfortable', 'rendered'),\n",
       " ('rendered', 'easy'),\n",
       " ('easy', 'assurance'),\n",
       " ('assurance', 'then'),\n",
       " ('then', 'leisure'),\n",
       " ('leisure', 'consider'),\n",
       " ('consider', 'how'),\n",
       " ('how', 'there'),\n",
       " ('there', 'prudently'),\n",
       " ('prudently', 'ill'),\n",
       " ('ill', 'disposed'),\n",
       " ('disposed', 'unless'),\n",
       " ('unless', 'rather'),\n",
       " ('rather', 'cold'),\n",
       " ('cold', 'hearted'),\n",
       " ('hearted', 'selfish'),\n",
       " ('selfish', 'is'),\n",
       " ('is', 'well'),\n",
       " ('well', 'respected'),\n",
       " ('respected', 'conducted'),\n",
       " ('conducted', 'propriety'),\n",
       " ('propriety', 'discharge'),\n",
       " ('discharge', 'ordinary'),\n",
       " ('ordinary', 'duty'),\n",
       " ('duty', 'Had'),\n",
       " ('Had', 'married'),\n",
       " ('married', 'amiable'),\n",
       " ('amiable', 'woman'),\n",
       " ('woman', 'have'),\n",
       " ('have', 'made'),\n",
       " ('made', 'still'),\n",
       " ('still', ':--'),\n",
       " (':--', 'even'),\n",
       " ('even', 'when'),\n",
       " ('when', 'fond'),\n",
       " ('fond', 'caricature'),\n",
       " ('caricature', 'narrow'),\n",
       " ('narrow', 'minded'),\n",
       " ('minded', 'When'),\n",
       " ('When', 'promise'),\n",
       " ('promise', 'meditated'),\n",
       " ('meditated', 'within'),\n",
       " ('within', 'increase'),\n",
       " ('increase', 'thought'),\n",
       " ('thought', 'equal'),\n",
       " ('equal', 'prospect'),\n",
       " ('prospect', 'addition'),\n",
       " ('addition', 'income'),\n",
       " ('income', 'besides'),\n",
       " ('besides', 'warmed'),\n",
       " ('warmed', 'feel'),\n",
       " ('feel', 'generosity'),\n",
       " ('generosity', '.--'),\n",
       " ('.--', '\"'),\n",
       " ('\"', 'Yes'),\n",
       " ('Yes', 'would'),\n",
       " ('would', 'give'),\n",
       " ('give', 'liberal'),\n",
       " ('liberal', 'handsome'),\n",
       " ('handsome', '!'),\n",
       " ('!', 'It'),\n",
       " ('It', 'enough'),\n",
       " ('enough', 'completely'),\n",
       " ('completely', 'Three'),\n",
       " ('Three', 'spare'),\n",
       " ('spare', 'little'),\n",
       " ('little', 'inconvenience'),\n",
       " ('inconvenience', '.\"--'),\n",
       " ('.\"--', 'successively'),\n",
       " ('successively', 'did'),\n",
       " ('did', 'repent'),\n",
       " ('repent', 'No'),\n",
       " ('No', 'sooner'),\n",
       " ('sooner', 'funeral'),\n",
       " ('funeral', 'over'),\n",
       " ('over', 'without'),\n",
       " ('without', 'sending'),\n",
       " ('sending', 'notice'),\n",
       " ('notice', 'intention'),\n",
       " ('intention', 'arrived'),\n",
       " ('arrived', 'attendant'),\n",
       " ('attendant', 'dispute'),\n",
       " ('dispute', 'right'),\n",
       " ('right', 'come'),\n",
       " ('come', 'husband'),\n",
       " ('husband', 'moment'),\n",
       " ('moment', 'decease'),\n",
       " ('decease', 'indelicacy'),\n",
       " ('indelicacy', 'conduct'),\n",
       " ('conduct', 'greater'),\n",
       " ('greater', 'situation'),\n",
       " ('situation', 'common'),\n",
       " ('common', 'must'),\n",
       " ('must', 'highly'),\n",
       " ('highly', 'unpleasing'),\n",
       " ('unpleasing', 'HER'),\n",
       " ('HER', 'mind'),\n",
       " ('mind', 'sense'),\n",
       " ('sense', 'honor'),\n",
       " ('honor', 'keen'),\n",
       " ('keen', 'romantic'),\n",
       " ('romantic', 'offence'),\n",
       " ('offence', 'kind'),\n",
       " ('kind', 'whomsoever'),\n",
       " ('whomsoever', 'given'),\n",
       " ('given', 'source'),\n",
       " ('source', 'immoveable'),\n",
       " ('immoveable', 'disgust'),\n",
       " ('disgust', 'never'),\n",
       " ('never', 'favourite'),\n",
       " ('favourite', 'she'),\n",
       " ('she', 'opportunity'),\n",
       " ('opportunity', 'till'),\n",
       " ('till', 'shewing'),\n",
       " ('shewing', 'people'),\n",
       " ('people', 'act'),\n",
       " ('act', 'occasion'),\n",
       " ('occasion', 'required'),\n",
       " ('required', 'So'),\n",
       " ('So', 'acutely'),\n",
       " ('acutely', 'ungracious'),\n",
       " ('ungracious', 'behaviour'),\n",
       " ('behaviour', 'earnestly'),\n",
       " ('earnestly', 'despise'),\n",
       " ('despise', 'arrival'),\n",
       " ('arrival', 'latter'),\n",
       " ('latter', 'quitted'),\n",
       " ('quitted', 'ever'),\n",
       " ('ever', 'entreaty'),\n",
       " ('entreaty', 'eldest'),\n",
       " ('eldest', 'induced'),\n",
       " ('induced', 'reflect'),\n",
       " ('reflect', 'going'),\n",
       " ('going', 'tender'),\n",
       " ('tender', 'love'),\n",
       " ('love', 'determined'),\n",
       " ('determined', 'stay'),\n",
       " ('stay', 'avoid'),\n",
       " ('avoid', 'breach'),\n",
       " ('breach', 'brother'),\n",
       " ('brother', 'Elinor'),\n",
       " ('Elinor', 'whose'),\n",
       " ('whose', 'advice'),\n",
       " ('advice', 'effectual'),\n",
       " ('effectual', 'possessed'),\n",
       " ('possessed', 'understanding'),\n",
       " ('understanding', 'coolness'),\n",
       " ('coolness', 'judgment'),\n",
       " ('judgment', 'qualified'),\n",
       " ('qualified', 'though'),\n",
       " ('though', 'nineteen'),\n",
       " ('nineteen', 'counsellor'),\n",
       " ('counsellor', 'enabled'),\n",
       " ('enabled', 'frequently'),\n",
       " ('frequently', 'counteract'),\n",
       " ('counteract', 'advantage'),\n",
       " ('advantage', 'eagerness'),\n",
       " ('eagerness', 'generally'),\n",
       " ('generally', 'led'),\n",
       " ('led', 'imprudence'),\n",
       " ('imprudence', 'She'),\n",
       " ('She', 'excellent'),\n",
       " ('excellent', 'disposition'),\n",
       " ('disposition', 'affectionate'),\n",
       " ('affectionate', 'knew'),\n",
       " ('knew', 'govern'),\n",
       " ('govern', 'knowledge'),\n",
       " ('knowledge', 'yet'),\n",
       " ('yet', 'learn'),\n",
       " ('learn', 'resolved'),\n",
       " ('resolved', 'taught'),\n",
       " ('taught', 'Marianne'),\n",
       " ('Marianne', 'ability'),\n",
       " ('ability', 'respect'),\n",
       " ('respect', 'quite'),\n",
       " ('quite', 'sensible'),\n",
       " ('sensible', 'clever'),\n",
       " ('clever', 'eager'),\n",
       " ('eager', 'everything'),\n",
       " ('everything', 'sorrow'),\n",
       " ('sorrow', 'joy'),\n",
       " ('joy', 'moderation'),\n",
       " ('moderation', 'generous'),\n",
       " ('generous', 'interesting'),\n",
       " ('interesting', 'prudent'),\n",
       " ('prudent', 'resemblance'),\n",
       " ('resemblance', 'between'),\n",
       " ('between', 'strikingly'),\n",
       " ('strikingly', 'saw'),\n",
       " ('saw', 'concern'),\n",
       " ('concern', 'excess'),\n",
       " ('excess', 'sensibility'),\n",
       " ('sensibility', 'valued'),\n",
       " ('valued', 'cherished'),\n",
       " ('cherished', 'They'),\n",
       " ('They', 'encouraged'),\n",
       " ('encouraged', 'each'),\n",
       " ('each', 'now'),\n",
       " ('now', 'violence'),\n",
       " ('violence', 'affliction'),\n",
       " ('affliction', 'agony'),\n",
       " ('agony', 'grief'),\n",
       " ('grief', 'overpowered'),\n",
       " ('overpowered', 'voluntarily'),\n",
       " ('voluntarily', 'renewed'),\n",
       " ('renewed', 'sought'),\n",
       " ('sought', 'created'),\n",
       " ('created', 'again'),\n",
       " ('again', 'themselves'),\n",
       " ('themselves', 'wholly'),\n",
       " ('wholly', 'seeking'),\n",
       " ('seeking', 'wretchedness'),\n",
       " ('wretchedness', 'reflection'),\n",
       " ('reflection', 'afford'),\n",
       " ('afford', 'against'),\n",
       " ('against', 'admitting'),\n",
       " ('admitting', 'consolation'),\n",
       " ('consolation', 'future'),\n",
       " ('future', 'too'),\n",
       " ('too', 'deeply'),\n",
       " ('deeply', 'afflicted'),\n",
       " ('afflicted', 'struggle'),\n",
       " ('struggle', 'exert'),\n",
       " ('exert', 'herself'),\n",
       " ('herself', 'consult'),\n",
       " ('consult', 'treat'),\n",
       " ('treat', 'proper'),\n",
       " ('proper', 'strive'),\n",
       " ('strive', 'rouse'),\n",
       " ('rouse', 'similar'),\n",
       " ('similar', 'exertion'),\n",
       " ('exertion', 'encourage'),\n",
       " ('encourage', 'forbearance'),\n",
       " ('forbearance', 'Margaret'),\n",
       " ('Margaret', 'humored'),\n",
       " ('humored', 'imbibed'),\n",
       " ('imbibed', 'romance'),\n",
       " ('romance', 'thirteen'),\n",
       " ('thirteen', 'bid'),\n",
       " ('bid', 'fair'),\n",
       " ('fair', 'period'),\n",
       " ('period', '2'),\n",
       " ('2', 'installed'),\n",
       " ('installed', 'mistress'),\n",
       " ('mistress', 'degraded'),\n",
       " ('degraded', 'condition'),\n",
       " ('condition', 'visitor'),\n",
       " ('visitor', 'As'),\n",
       " ('As', 'treated'),\n",
       " ('treated', 'quiet'),\n",
       " ('quiet', 'civility'),\n",
       " ('civility', 'kindness'),\n",
       " ('kindness', 'towards'),\n",
       " ('towards', 'anybody'),\n",
       " ('anybody', 'beyond'),\n",
       " ('beyond', 'pressed'),\n",
       " ('pressed', 'some'),\n",
       " ('some', 'earnestness'),\n",
       " ('earnestness', 'plan'),\n",
       " ('plan', 'appeared'),\n",
       " ('appeared', 'eligible'),\n",
       " ('eligible', 'accommodate'),\n",
       " ('accommodate', 'neighbourhood'),\n",
       " ('neighbourhood', 'invitation'),\n",
       " ('invitation', 'accepted'),\n",
       " ('accepted', 'A'),\n",
       " ('A', 'continuance'),\n",
       " ('continuance', 'place'),\n",
       " ('place', 'reminded'),\n",
       " ('reminded', 'delight'),\n",
       " ('delight', 'exactly'),\n",
       " ('exactly', 'suited'),\n",
       " ('suited', 'season'),\n",
       " ('season', 'hers'),\n",
       " ('hers', 'posse'),\n",
       " ('posse', 'expectation'),\n",
       " ('expectation', 'happiness'),\n",
       " ('happiness', 'itself'),\n",
       " ('itself', 'equally'),\n",
       " ('equally', 'carried'),\n",
       " ('carried', 'away'),\n",
       " ('away', 'fancy'),\n",
       " ('fancy', 'alloy'),\n",
       " ('alloy', 'approve'),\n",
       " ('approve', 'take'),\n",
       " ('take', 'boy'),\n",
       " ('boy', 'impoverishing'),\n",
       " ('impoverishing', 'dreadful'),\n",
       " ('dreadful', 'begged'),\n",
       " ('begged', 'think'),\n",
       " ('think', 'subject'),\n",
       " ('subject', 'How'),\n",
       " ('How', 'answer'),\n",
       " ('answer', 'rob'),\n",
       " ('rob', '?'),\n",
       " ('?', 'And'),\n",
       " ('And', 'possible'),\n",
       " ('possible', 'claim'),\n",
       " ('claim', 'Miss'),\n",
       " ('Miss', 'Dashwoods'),\n",
       " ('Dashwoods', 'related'),\n",
       " ('related', 'blood'),\n",
       " ('blood', 'considered'),\n",
       " ('considered', 'relationship'),\n",
       " ('relationship', 'amount'),\n",
       " ('amount', 'supposed'),\n",
       " ('supposed', 'exist'),\n",
       " ('exist', 'different'),\n",
       " ('different', 'why'),\n",
       " ('why', 'ruin'),\n",
       " ('ruin', 'poor'),\n",
       " ('poor', 'Harry'),\n",
       " ('Harry', 'giving'),\n",
       " ('giving', 'money'),\n",
       " ('money', 'my'),\n",
       " ('my', 'last'),\n",
       " ('last', 'request'),\n",
       " ('request', 'me'),\n",
       " ('me', ',\"'),\n",
       " (',\"', 'replied'),\n",
       " ('replied', 'I'),\n",
       " ('I', 'should'),\n",
       " ('should', 'assist'),\n",
       " ('assist', '.\"'),\n",
       " ('.\"', 'know'),\n",
       " ('know', 'talking'),\n",
       " ('talking', 'dare'),\n",
       " ('dare', 'say'),\n",
       " ('say', 'light'),\n",
       " ('light', 'headed'),\n",
       " ('headed', 'sens'),\n",
       " ('sens', 'begging'),\n",
       " ('begging', 'you'),\n",
       " ('you', 'your'),\n",
       " ('your', 'stipulate'),\n",
       " ('stipulate', 'particular'),\n",
       " ('particular', 'Fanny'),\n",
       " ('Fanny', 'requested'),\n",
       " ('requested', 'Perhaps'),\n",
       " ('Perhaps', 'if'),\n",
       " ('if', 'myself'),\n",
       " ('myself', 'hardly'),\n",
       " ('hardly', 'suppose'),\n",
       " ('suppose', 'neglect'),\n",
       " ('neglect', 'le'),\n",
       " ('le', 'least'),\n",
       " ('least', 'performed'),\n",
       " ('performed', 'Something'),\n",
       " ('Something', 'done'),\n",
       " ('done', 'whenever'),\n",
       " ('whenever', 'settle'),\n",
       " ('settle', 'new'),\n",
       " ('new', 'Well'),\n",
       " ('Well', 'LET'),\n",
       " ('LET', 'something'),\n",
       " ('something', 'THAT'),\n",
       " ('THAT', 'need'),\n",
       " ('need', 'Consider'),\n",
       " ('Consider', 'once'),\n",
       " ('once', 'parted'),\n",
       " ('parted', 'can'),\n",
       " ('can', 'return'),\n",
       " ('return', 'Your'),\n",
       " ('Your', 'marry'),\n",
       " ('marry', 'gone'),\n",
       " ('gone', 'If'),\n",
       " ('If', 'indeed'),\n",
       " ('indeed', 'restored'),\n",
       " ('restored', 'our'),\n",
       " ('our', '--\"'),\n",
       " ('--\"', 'Why'),\n",
       " ('Why', 'sure'),\n",
       " ('sure', 'said'),\n",
       " ('said', 'gravely'),\n",
       " ('gravely', 'difference'),\n",
       " ('difference', 'may'),\n",
       " ('may', 'regret'),\n",
       " ('regret', 'numerous'),\n",
       " ('numerous', 'instance'),\n",
       " ('instance', 'convenient'),\n",
       " ('convenient', 'better'),\n",
       " ('better', 'party'),\n",
       " ('party', 'diminished'),\n",
       " ('diminished', 'Five'),\n",
       " ('Five', 'hundred'),\n",
       " ('hundred', 'prodigious'),\n",
       " ('prodigious', '!\"'),\n",
       " ('!\"', 'Oh'),\n",
       " ('Oh', 'anything'),\n",
       " ('anything', 'What'),\n",
       " ('What', 'earth'),\n",
       " ('earth', 'REALLY'),\n",
       " ('REALLY', '--'),\n",
       " ('--', '!--'),\n",
       " ('!--', 'spirit'),\n",
       " ('spirit', 'One'),\n",
       " ('One', 'expect'),\n",
       " ('expect', 'There'),\n",
       " ('There', 'knowing'),\n",
       " ('knowing', 'THEY'),\n",
       " ('THEY', 'we'),\n",
       " ('we', 'question'),\n",
       " ('question', 'Certainly'),\n",
       " ('Certainly', 'five'),\n",
       " ('five', 'mine'),\n",
       " ('mine', 'about'),\n",
       " ('about', 'strike'),\n",
       " ('strike', 'want'),\n",
       " ('want', 'divided'),\n",
       " ('divided', 'amongst'),\n",
       " ('amongst', 'doing'),\n",
       " ('doing', 'together'),\n",
       " ('together', 'That'),\n",
       " ('That', 'true'),\n",
       " ('true', 'whether'),\n",
       " ('whether', 'upon'),\n",
       " ('upon', 'advisable'),\n",
       " ('advisable', 'while'),\n",
       " ('while', 'annuity'),\n",
       " ('annuity', 'My'),\n",
       " ('My', 'effect'),\n",
       " ('effect', 'perfectly'),\n",
       " ('perfectly', 'hesitated'),\n",
       " ('hesitated', 'consent'),\n",
       " ('consent', 'parting'),\n",
       " ('parting', 'fifteen'),\n",
       " ('fifteen', 'shall'),\n",
       " ('shall', 'taken'),\n",
       " ('taken', 'Fifteen'),\n",
       " ('Fifteen', 'cannot'),\n",
       " ('cannot', 'worth'),\n",
       " ('worth', 'purchase'),\n",
       " ('purchase', 'observe'),\n",
       " ('observe', 'always'),\n",
       " ('always', 'paid'),\n",
       " ('paid', 'stout'),\n",
       " ('stout', 'healthy'),\n",
       " ('healthy', 'forty'),\n",
       " ('forty', 'An'),\n",
       " ('An', 'serious'),\n",
       " ('serious', 'business'),\n",
       " ('business', 'getting'),\n",
       " ('getting', 'rid'),\n",
       " ('rid', 'You'),\n",
       " ('You', 'aware'),\n",
       " ('aware', 'trouble'),\n",
       " ('trouble', 'clogged'),\n",
       " ('clogged', 'payment'),\n",
       " ('payment', 'superannuated'),\n",
       " ('superannuated', 'servant'),\n",
       " ('servant', 'amazing'),\n",
       " ('amazing', 'disagreeable'),\n",
       " ('disagreeable', 'found'),\n",
       " ('found', 'Twice'),\n",
       " ('Twice', 'these'),\n",
       " ('these', 'turned'),\n",
       " ('turned', 'out'),\n",
       " ('out', 'sick'),\n",
       " ('sick', 'Her'),\n",
       " ('Her', 'perpetual'),\n",
       " ('perpetual', 'because'),\n",
       " ('because', 'otherwise'),\n",
       " ('otherwise', 'entirely'),\n",
       " ('entirely', 'restriction'),\n",
       " ('restriction', 'whatever'),\n",
       " ('whatever', 'ha'),\n",
       " ('ha', 'abhorrence'),\n",
       " ('abhorrence', 'am'),\n",
       " ('am', 'pin'),\n",
       " ('pin', 'down'),\n",
       " ('down', 'world'),\n",
       " ('world', 'certainly'),\n",
       " ('certainly', 'unpleasant'),\n",
       " ('unpleasant', 'yearly'),\n",
       " ('yearly', 'drain'),\n",
       " ('drain', 'justly'),\n",
       " ('justly', 'NOT'),\n",
       " ('NOT', 'regular'),\n",
       " ('regular', 'rent'),\n",
       " ('rent', 'desirable'),\n",
       " ('desirable', 'independence'),\n",
       " ('independence', 'Undoubtedly'),\n",
       " ('Undoubtedly', 'after'),\n",
       " ('after', 'thanks'),\n",
       " ('thanks', 'secure'),\n",
       " ('secure', 'expected'),\n",
       " ('expected', 'raise'),\n",
       " ('raise', 'gratitude'),\n",
       " ('gratitude', 'discretion'),\n",
       " ('discretion', 'bind'),\n",
       " ('bind', 'allow'),\n",
       " ('allow', 'inconvenient'),\n",
       " ('inconvenient', 'fifty'),\n",
       " ('fifty', 'expense'),\n",
       " ('expense', 'believe'),\n",
       " ('believe', 'case'),\n",
       " ('case', 'occasionally'),\n",
       " ('occasionally', 'assistance'),\n",
       " ('assistance', 'allowance'),\n",
       " ('allowance', 'enlarge'),\n",
       " ('enlarge', 'style'),\n",
       " ('style', 'felt'),\n",
       " ('felt', 'larger'),\n",
       " ('larger', 'sixpence'),\n",
       " ('sixpence', 'richer'),\n",
       " ('richer', 'end'),\n",
       " ('end', 'best'),\n",
       " ('best', 'prevent'),\n",
       " ('prevent', 'being'),\n",
       " ('being', 'distressed'),\n",
       " ('distressed', 'discharging'),\n",
       " ('discharging', 'Indeed'),\n",
       " ('Indeed', 'truth'),\n",
       " ('truth', 'convinced'),\n",
       " ('convinced', 'idea'),\n",
       " ('idea', 'looking'),\n",
       " ('looking', 'helping'),\n",
       " ('helping', 'move'),\n",
       " ('move', 'fish'),\n",
       " ('fish', 'game'),\n",
       " ('game', 'forth'),\n",
       " ('forth', 'll'),\n",
       " ('ll', 'farther'),\n",
       " ('farther', 'strange'),\n",
       " ('strange', 'unreasonable'),\n",
       " ('unreasonable', 'Do'),\n",
       " ('Do', 'excessively'),\n",
       " ('excessively', 'belonging'),\n",
       " ('belonging', 'brings'),\n",
       " ('brings', 'course'),\n",
       " ('course', 'pay'),\n",
       " ('pay', 'board'),\n",
       " ('board', 'Altogether'),\n",
       " ('Altogether', '?--'),\n",
       " ('?--', 'cheap'),\n",
       " ('cheap', 'housekeeping'),\n",
       " ('housekeeping', 'carriage'),\n",
       " ('carriage', 'horse'),\n",
       " ('horse', 'keep'),\n",
       " ('keep', 'company'),\n",
       " ('company', 'Only'),\n",
       " ('Only', 'conceive'),\n",
       " ('conceive', 'imagine'),\n",
       " ('imagine', 'spend'),\n",
       " ('spend', 'absurd'),\n",
       " ('absurd', 'able'),\n",
       " ('able', 'YOU'),\n",
       " ('YOU', 'Upon'),\n",
       " ('Upon', 'word'),\n",
       " ('word', 'clearly'),\n",
       " ('clearly', 'understand'),\n",
       " ('understand', 'strictly'),\n",
       " ('strictly', 'fulfil'),\n",
       " ('fulfil', 'engagement'),\n",
       " ('engagement', 'described'),\n",
       " ('described', 'remove'),\n",
       " ('remove', 'another'),\n",
       " ('another', 'service'),\n",
       " ('service', 'readily'),\n",
       " ('readily', 'Some'),\n",
       " ('Some', 'furniture'),\n",
       " ('furniture', 'acceptable'),\n",
       " ('acceptable', 'returned'),\n",
       " ('returned', 'ONE'),\n",
       " ('ONE', 'moved'),\n",
       " ('moved', 'Stanhill'),\n",
       " ('Stanhill', 'sold'),\n",
       " ('sold', 'china'),\n",
       " ('china', 'plate'),\n",
       " ('plate', 'linen'),\n",
       " ('linen', 'saved'),\n",
       " ('saved', 'fitted'),\n",
       " ('fitted', 'material'),\n",
       " ('material', 'consideration'),\n",
       " ('consideration', 'undoubtedly'),\n",
       " ('undoubtedly', 'pleasant'),\n",
       " ('pleasant', 'stock'),\n",
       " ('stock', 'here'),\n",
       " ('here', 'set'),\n",
       " ('set', 'breakfast'),\n",
       " ('breakfast', 'twice'),\n",
       " ('twice', 'belongs'),\n",
       " ('belongs', 'THEM'),\n",
       " ('THEM', 'owe'),\n",
       " ('owe', 'This'),\n",
       " ('This', 'argument'),\n",
       " ('argument', 'irresistible'),\n",
       " ('irresistible', 'decision'),\n",
       " ('decision', 'wanting'),\n",
       " ('wanting', 'finally'),\n",
       " ('finally', 'absolutely'),\n",
       " ('absolutely', 'unnecessary'),\n",
       " ('unnecessary', 'indecorous'),\n",
       " ('indecorous', 'neighbourly'),\n",
       " ('neighbourly', 'pointed'),\n",
       " ('pointed', '3'),\n",
       " ('3', 'several'),\n",
       " ('several', 'month'),\n",
       " ('month', 'disinclination'),\n",
       " ('disinclination', 'sight'),\n",
       " ('sight', 'spot'),\n",
       " ('spot', 'ceased'),\n",
       " ('ceased', 'violent'),\n",
       " ('violent', 'emotion'),\n",
       " ('emotion', 'began'),\n",
       " ('began', 'revive'),\n",
       " ('revive', 'became'),\n",
       " ('became', 'heightening'),\n",
       " ('heightening', 'melancholy'),\n",
       " ('melancholy', 'remembrance'),\n",
       " ('remembrance', 'impatient'),\n",
       " ('impatient', 'indefatigable'),\n",
       " ('indefatigable', 'inquiry'),\n",
       " ('inquiry', 'suitable'),\n",
       " ('suitable', 'dwelling'),\n",
       " ('dwelling', 'beloved'),\n",
       " ('beloved', 'impossible'),\n",
       " ('impossible', 'hear'),\n",
       " ('hear', 'answered'),\n",
       " ('answered', 'notion'),\n",
       " ('notion', 'ease'),\n",
       " ('ease', 'prudence'),\n",
       " ('prudence', 'steadier'),\n",
       " ('steadier', 'rejected'),\n",
       " ('rejected', 'approved'),\n",
       " ('approved', 'informed'),\n",
       " ('informed', 'solemn'),\n",
       " ('solemn', 'part'),\n",
       " ('part', 'favour'),\n",
       " ('favour', 'earthly'),\n",
       " ('earthly', 'doubted'),\n",
       " ('doubted', 'sincerity'),\n",
       " ('sincerity', 'satisfaction'),\n",
       " ('satisfaction', 'persuaded'),\n",
       " ('persuaded', 'smaller'),\n",
       " ('smaller', '7000L'),\n",
       " ('7000L', 'support'),\n",
       " ('support', 'affluence'),\n",
       " ('affluence', 'For'),\n",
       " ('For', 'rejoiced'),\n",
       " ('rejoiced', 'reproached'),\n",
       " ('reproached', 'merit'),\n",
       " ('merit', 'believing'),\n",
       " ('believing', 'incapable'),\n",
       " ('incapable', 'attentive'),\n",
       " ('attentive', 'welfare'),\n",
       " ('welfare', 'firmly'),\n",
       " ('firmly', 'relied'),\n",
       " ('relied', 'liberality'),\n",
       " ('liberality', 'contempt'),\n",
       " ('contempt', 'early'),\n",
       " ('early', 'character'),\n",
       " ('character', 'afforded'),\n",
       " ('afforded', 'perhaps'),\n",
       " ('perhaps', 'spite'),\n",
       " ('spite', 'politeness'),\n",
       " ('politeness', 'maternal'),\n",
       " ('maternal', 'side'),\n",
       " ('side', 'circumstance'),\n",
       " ('circumstance', 'occurred'),\n",
       " ('occurred', 'eligibility'),\n",
       " ('eligibility', 'according'),\n",
       " ('according', 'growing'),\n",
       " ('growing', 'pleasing'),\n",
       " ('pleasing', 'introduced'),\n",
       " ('introduced', 'establishment'),\n",
       " ('establishment', 'since'),\n",
       " ('since', 'greatest'),\n",
       " ('greatest', 'intimacy'),\n",
       " ('intimacy', 'motif'),\n",
       " ('motif', 'Edward'),\n",
       " ('Edward', 'Ferrars'),\n",
       " ('Ferrars', 'rich'),\n",
       " ('rich', 'repressed'),\n",
       " ('repressed', 'except'),\n",
       " ('except', 'trifling'),\n",
       " ('trifling', 'depended'),\n",
       " ('depended', 'alike'),\n",
       " ('alike', 'uninfluenced'),\n",
       " ('uninfluenced', 'either'),\n",
       " ('either', 'loved'),\n",
       " ('loved', 'partiality'),\n",
       " ('partiality', 'contrary'),\n",
       " ('contrary', 'doctrine'),\n",
       " ('doctrine', 'couple'),\n",
       " ('couple', 'asunder'),\n",
       " ('asunder', 'attracted'),\n",
       " ('attracted', 'acknowledged'),\n",
       " ...]"
      ]
     },
     "execution_count": 22,
     "metadata": {},
     "output_type": "execute_result"
    }
   ],
   "source": [
    "def question_sixteen():\n",
    "    return list(bigrams(vocab_text2))\n",
    "\n",
    "freq_dist_bigrams = question_sixteen()\n",
    "freq_dist_bigrams"
   ]
  },
  {
   "cell_type": "markdown",
   "metadata": {},
   "source": [
    "### most frequent bigram\n",
    "#### return type should be list [bigram, count_of_bigram]"
   ]
  },
  {
   "cell_type": "code",
   "execution_count": 24,
   "metadata": {},
   "outputs": [],
   "source": [
    "bigram_freq_dist = FreqDist(freq_dist_bigrams)"
   ]
  },
  {
   "cell_type": "code",
   "execution_count": 25,
   "metadata": {},
   "outputs": [
    {
     "data": {
      "text/plain": [
       "[(('[', 'Sense'), 1)]"
      ]
     },
     "execution_count": 25,
     "metadata": {},
     "output_type": "execute_result"
    }
   ],
   "source": [
    "def question_seventeen(_bigram_freq_dist=bigram_freq_dist):\n",
    "    return _bigram_freq_dist.most_common(1) # No bigram occurs more than once with punctuation included; Any bigram is most/least frequent. \n",
    "\n",
    "question_seventeen()"
   ]
  },
  {
   "cell_type": "markdown",
   "metadata": {},
   "source": [
    "### least frequent bigram\n",
    "#### return type should be list [bigram, count_of_bigram]"
   ]
  },
  {
   "cell_type": "code",
   "execution_count": 26,
   "metadata": {},
   "outputs": [
    {
     "data": {
      "text/plain": [
       "(('THE', 'END'), 1)"
      ]
     },
     "execution_count": 26,
     "metadata": {},
     "output_type": "execute_result"
    }
   ],
   "source": [
    "def _question_seventeen(_bigram_freq_dist=bigram_freq_dist):\n",
    "    return list(reversed(_bigram_freq_dist.most_common()))[0] # No bigram occurs more than once with punctuation included; Any bigram is most/least frequent. \n",
    "\n",
    "_question_seventeen()"
   ]
  },
  {
   "cell_type": "markdown",
   "metadata": {},
   "source": [
    "### Now remove punctuations and find frequency distribution for bigrams again"
   ]
  },
  {
   "cell_type": "code",
   "execution_count": 27,
   "metadata": {},
   "outputs": [
    {
     "data": {
      "text/plain": [
       "FreqDist({('Sense', 'and'): 1, ('and', 'Sensibility'): 1, ('Sensibility', 'by'): 1, ('by', 'Jane'): 1, ('Jane', 'Austen'): 1, ('Austen', '1811'): 1, ('1811', 'CHAPTER'): 1, ('CHAPTER', '1'): 1, ('1', 'The'): 1, ('The', 'family'): 1, ...})"
      ]
     },
     "execution_count": 27,
     "metadata": {},
     "output_type": "execute_result"
    }
   ],
   "source": [
    "def question_eighteen():\n",
    "    tokens_without_punc = question_two(list(vocab_text2))\n",
    "    return FreqDist(bigrams(tokens_without_punc))\n",
    "\n",
    "freq_dist_bigrams_no_punctuations = question_eighteen()\n",
    "freq_dist_bigrams_no_punctuations"
   ]
  },
  {
   "cell_type": "markdown",
   "metadata": {},
   "source": [
    "### most frequent and least frequent bigram after punctuations have been removed\n",
    "#### return type is a tuple ( [most_frequent_bigram, count_of_bigram],  [least_frequent_bigram, count_of_bigram])"
   ]
  },
  {
   "cell_type": "code",
   "execution_count": 28,
   "metadata": {},
   "outputs": [
    {
     "data": {
      "text/plain": [
       "([(('Sense', 'and'), 1)], (('THE', 'END'), 1))"
      ]
     },
     "execution_count": 28,
     "metadata": {},
     "output_type": "execute_result"
    }
   ],
   "source": [
    "def question_nineteen():\n",
    "    return (question_seventeen(freq_dist_bigrams_no_punctuations), _question_seventeen(freq_dist_bigrams_no_punctuations))\n",
    "    \n",
    "question_nineteen()"
   ]
  },
  {
   "cell_type": "markdown",
   "metadata": {},
   "source": [
    "#### NLTK comes with built in corpora and trained models for many NLP problems, the list can be viewed at __[data sets](http://www.nltk.org/nltk_data/)__. Identify all such corpora or trained models that can be used for POS tagging, Named Entity Recognition and Sentiment Analysis separately. You can answer this question here by inserting a new cell."
   ]
  },
  {
   "cell_type": "code",
   "execution_count": null,
   "metadata": {},
   "outputs": [],
   "source": []
  },
  {
   "cell_type": "markdown",
   "metadata": {},
   "source": [
    "## Sentiment Analysis\n",
    "After a warm up, you are now ready to start a little more advanced task.<br>\n",
    "You will be using Sentence Polarity Dataset v1.0 for sentiment analysis."
   ]
  },
  {
   "cell_type": "code",
   "execution_count": 235,
   "metadata": {},
   "outputs": [],
   "source": [
    "# use this to download sentence polarity data set\n",
    "# nltk.download()"
   ]
  },
  {
   "cell_type": "code",
   "execution_count": 30,
   "metadata": {},
   "outputs": [],
   "source": [
    "# after you have successfully downloaded the data set, this will import it for you\n",
    "from nltk.corpus import sentence_polarity"
   ]
  },
  {
   "cell_type": "code",
   "execution_count": 32,
   "metadata": {},
   "outputs": [],
   "source": [
    "neg_sents = (sentence_polarity.sents(fileids='rt-polarity.neg'))\n",
    "neg_words = (sentence_polarity.words(categories='neg'))\n",
    "neg_words_without_punc = question_two(neg_words)\n",
    "pos_words = (sentence_polarity.words(categories='pos'))\n",
    "pos_words_without_punc = question_two(pos_words)"
   ]
  },
  {
   "cell_type": "code",
   "execution_count": 33,
   "metadata": {},
   "outputs": [],
   "source": [
    "polarity_features = lambda word : {'word': word}"
   ]
  },
  {
   "cell_type": "code",
   "execution_count": null,
   "metadata": {},
   "outputs": [],
   "source": []
  },
  {
   "cell_type": "markdown",
   "metadata": {},
   "source": [
    "### Use Naive Bayes classifier to perform sentiment analysis on this data set<br>\n",
    "Comment on what features you have used and why. <br>\n",
    "Report precision, recall, accuracy and f1 score <br>\n",
    "plot the loss function<br>\n",
    "\n"
   ]
  },
  {
   "cell_type": "code",
   "execution_count": 40,
   "metadata": {},
   "outputs": [],
   "source": [
    "# from nltk.corpus import movie_reviews\n",
    "documents = [(list(sentence_polarity.words(fileid)), category) \\\n",
    "             for category in sentence_polarity.categories() \\\n",
    "             for fileid in sentence_polarity.fileids(category)]\n",
    "random.shuffle(documents)"
   ]
  },
  {
   "cell_type": "code",
   "execution_count": 44,
   "metadata": {},
   "outputs": [],
   "source": [
    "pos_sents = (sentence_polarity.sents(categories='pos'))\n",
    "neg_sents = (sentence_polarity.sents(categories='neg'))\n",
    "sents = sentence_polarity.sents()\n"
   ]
  },
  {
   "cell_type": "code",
   "execution_count": 45,
   "metadata": {},
   "outputs": [],
   "source": [
    "all_words = nltk.FreqDist(w.lower() for w in sentence_polarity.words())\n",
    "word_features = list(all_words)\n",
    "# random.shuffle(word_features) ## shuffeling lowered accuracy to 60 from 70. No improvements seen.\n",
    "word_features = question_seven(question_three(question_two(word_features)))[:5000] # remove punc and stop words and lemmatize\n",
    "\n",
    "def document_features(document): \n",
    "    document_words = set(document)\n",
    "    features = {}\n",
    "    for word in word_features:\n",
    "        features['contains({})'.format(word)] = (word in document_words)\n",
    "    return features\n"
   ]
  },
  {
   "cell_type": "code",
   "execution_count": 53,
   "metadata": {},
   "outputs": [],
   "source": [
    "pos_features =  [(document_features(d), 'positive') for d in pos_sents]\n",
    "neg_features = [(document_features(d), 'negative') for d in neg_sents]"
   ]
  },
  {
   "cell_type": "code",
   "execution_count": 54,
   "metadata": {},
   "outputs": [],
   "source": [
    "featuresets = list(itertools.chain(pos_features, neg_features))"
   ]
  },
  {
   "cell_type": "code",
   "execution_count": 56,
   "metadata": {},
   "outputs": [],
   "source": [
    "(random.shuffle(featuresets))"
   ]
  },
  {
   "cell_type": "code",
   "execution_count": 204,
   "metadata": {},
   "outputs": [],
   "source": [
    "train_set, test_set = featuresets[:7000], featuresets[5000:]"
   ]
  },
  {
   "cell_type": "code",
   "execution_count": 61,
   "metadata": {},
   "outputs": [],
   "source": [
    "classifier_sents_as_features = nltk.NaiveBayesClassifier.train(train_set)"
   ]
  },
  {
   "cell_type": "code",
   "execution_count": 72,
   "metadata": {},
   "outputs": [],
   "source": [
    "import collections"
   ]
  },
  {
   "cell_type": "code",
   "execution_count": 205,
   "metadata": {},
   "outputs": [],
   "source": [
    "refsets = collections.defaultdict(set)\n",
    "testset = collections.defaultdict(set)"
   ]
  },
  {
   "cell_type": "code",
   "execution_count": 242,
   "metadata": {},
   "outputs": [],
   "source": [
    "predicted_labels = []"
   ]
  },
  {
   "cell_type": "code",
   "execution_count": 243,
   "metadata": {},
   "outputs": [],
   "source": [
    "for i, (feature, label) in enumerate(test_set):\n",
    "    refsets[label].add(i)\n",
    "    predicted_label = classifier_sents_as_features.classify(feature)\n",
    "    predicted_labels.append(predicted_label)\n",
    "    testset[predicted_label].add(i)"
   ]
  },
  {
   "cell_type": "markdown",
   "metadata": {},
   "source": [
    "`precision, recall, f_measure for positive labels:`"
   ]
  },
  {
   "cell_type": "code",
   "execution_count": 207,
   "metadata": {},
   "outputs": [
    {
     "data": {
      "text/plain": [
       "0.7270742358078602"
      ]
     },
     "execution_count": 207,
     "metadata": {},
     "output_type": "execute_result"
    }
   ],
   "source": [
    "precision(refsets['positive'], testset['positive'])"
   ]
  },
  {
   "cell_type": "code",
   "execution_count": 208,
   "metadata": {},
   "outputs": [
    {
     "data": {
      "text/plain": [
       "0.8233839632638643"
      ]
     },
     "execution_count": 208,
     "metadata": {},
     "output_type": "execute_result"
    }
   ],
   "source": [
    "recall(refsets['positive'], testset['positive'])"
   ]
  },
  {
   "cell_type": "code",
   "execution_count": 209,
   "metadata": {},
   "outputs": [
    {
     "data": {
      "text/plain": [
       "0.7722378664899784"
      ]
     },
     "execution_count": 209,
     "metadata": {},
     "output_type": "execute_result"
    }
   ],
   "source": [
    "f_measure(refsets['positive'], testset['positive'])"
   ]
  },
  {
   "cell_type": "code",
   "execution_count": null,
   "metadata": {},
   "outputs": [],
   "source": []
  },
  {
   "cell_type": "markdown",
   "metadata": {},
   "source": [
    "`precision, recall, f_measure for negative labels:`"
   ]
  },
  {
   "cell_type": "code",
   "execution_count": 149,
   "metadata": {},
   "outputs": [
    {
     "data": {
      "text/plain": [
       "0.7964169381107492"
      ]
     },
     "execution_count": 149,
     "metadata": {},
     "output_type": "execute_result"
    }
   ],
   "source": [
    "precision(refsets['negative'], testset['negative'])"
   ]
  },
  {
   "cell_type": "code",
   "execution_count": 150,
   "metadata": {},
   "outputs": [
    {
     "data": {
      "text/plain": [
       "0.6909219357117626"
      ]
     },
     "execution_count": 150,
     "metadata": {},
     "output_type": "execute_result"
    }
   ],
   "source": [
    "recall(refsets['negative'], testset['negative'])"
   ]
  },
  {
   "cell_type": "code",
   "execution_count": 152,
   "metadata": {},
   "outputs": [
    {
     "data": {
      "text/plain": [
       "0.7399281255910725"
      ]
     },
     "execution_count": 152,
     "metadata": {},
     "output_type": "execute_result"
    }
   ],
   "source": [
    "f_measure(refsets['negative'], testset['negative'])"
   ]
  },
  {
   "cell_type": "markdown",
   "metadata": {},
   "source": [
    "For overall precision, recall, f_measure, separate average of each could be taken."
   ]
  },
  {
   "cell_type": "markdown",
   "metadata": {},
   "source": [
    "#### Accuracy on Test Set"
   ]
  },
  {
   "cell_type": "code",
   "execution_count": 153,
   "metadata": {},
   "outputs": [
    {
     "data": {
      "text/plain": [
       "0.7571529494878135"
      ]
     },
     "execution_count": 153,
     "metadata": {},
     "output_type": "execute_result"
    }
   ],
   "source": [
    "nltk.classify.accuracy(classifier_sents_as_features,test_set)"
   ]
  },
  {
   "cell_type": "markdown",
   "metadata": {},
   "source": [
    "#### Accuracy on Train Set"
   ]
  },
  {
   "cell_type": "code",
   "execution_count": 241,
   "metadata": {},
   "outputs": [
    {
     "data": {
      "text/plain": [
       "0.8394285714285714"
      ]
     },
     "execution_count": 241,
     "metadata": {},
     "output_type": "execute_result"
    }
   ],
   "source": [
    "nltk.classify.accuracy(classifier_sents_as_features,train_set)"
   ]
  },
  {
   "cell_type": "markdown",
   "metadata": {},
   "source": [
    "#### Most Informative features"
   ]
  },
  {
   "cell_type": "code",
   "execution_count": 139,
   "metadata": {},
   "outputs": [
    {
     "name": "stdout",
     "output_type": "stream",
     "text": [
      "Most Informative Features\n",
      "        contains(boring) = True           negati : positi =     16.0 : 1.0\n",
      "         contains(fails) = True           negati : positi =     11.9 : 1.0\n",
      "          contains(flat) = True           negati : positi =     11.9 : 1.0\n",
      "          contains(rich) = True           positi : negati =     10.8 : 1.0\n",
      "       contains(culture) = True           positi : negati =     10.8 : 1.0\n",
      "      contains(mediocre) = True           negati : positi =      9.9 : 1.0\n",
      "        contains(stupid) = True           negati : positi =      9.9 : 1.0\n",
      "           contains(guy) = True           negati : positi =      9.2 : 1.0\n",
      "        contains(gentle) = True           positi : negati =      8.8 : 1.0\n",
      "          contains(dull) = True           negati : positi =      7.6 : 1.0\n"
     ]
    }
   ],
   "source": [
    "classifier_sents_as_features.show_most_informative_features()"
   ]
  },
  {
   "cell_type": "code",
   "execution_count": null,
   "metadata": {},
   "outputs": [],
   "source": []
  },
  {
   "cell_type": "code",
   "execution_count": 240,
   "metadata": {},
   "outputs": [],
   "source": [
    "true_labels = [l for _, l in test_set]"
   ]
  },
  {
   "cell_type": "markdown",
   "metadata": {},
   "source": [
    "### Here you have to use SVM to perform sentiment analysis on same data set<br>\n",
    "Comment on what features you have used and why. <br>\n",
    "Report precision, recall, accuracy and f1 score <br>\n",
    "plot the loss function<br>"
   ]
  },
  {
   "cell_type": "code",
   "execution_count": 157,
   "metadata": {},
   "outputs": [
    {
     "data": {
      "text/plain": [
       "<SklearnClassifier(LinearSVC(C=1.0, class_weight=None, dual=True, fit_intercept=True,\n",
       "     intercept_scaling=1, loss='squared_hinge', max_iter=1000,\n",
       "     multi_class='ovr', penalty='l2', random_state=None, tol=0.0001,\n",
       "     verbose=0))>"
      ]
     },
     "execution_count": 157,
     "metadata": {},
     "output_type": "execute_result"
    }
   ],
   "source": [
    "import nltk.classify\n",
    "from sklearn.svm import LinearSVC\n",
    "\n",
    "classifier = nltk.classify.SklearnClassifier(LinearSVC())\n",
    "classifier.train(train_set)\n"
   ]
  },
  {
   "cell_type": "markdown",
   "metadata": {},
   "source": [
    "#### Accuracy on Test set"
   ]
  },
  {
   "cell_type": "code",
   "execution_count": 308,
   "metadata": {},
   "outputs": [
    {
     "data": {
      "text/plain": [
       "0.7725185446838573"
      ]
     },
     "execution_count": 308,
     "metadata": {},
     "output_type": "execute_result"
    }
   ],
   "source": [
    "nltk.classify.accuracy(classifier, test_set)"
   ]
  },
  {
   "cell_type": "markdown",
   "metadata": {},
   "source": [
    "#### Accuracy on Training set"
   ]
  },
  {
   "cell_type": "code",
   "execution_count": 168,
   "metadata": {},
   "outputs": [
    {
     "data": {
      "text/plain": [
       "0.9261428571428572"
      ]
     },
     "execution_count": 168,
     "metadata": {},
     "output_type": "execute_result"
    }
   ],
   "source": [
    "nltk.classify.accuracy(classifier, train_set)"
   ]
  },
  {
   "cell_type": "code",
   "execution_count": 210,
   "metadata": {},
   "outputs": [],
   "source": [
    "refsets = collections.defaultdict(set)\n",
    "testset = collections.defaultdict(set)"
   ]
  },
  {
   "cell_type": "code",
   "execution_count": 228,
   "metadata": {},
   "outputs": [],
   "source": [
    "for i, (feature, label) in enumerate(test_set):\n",
    "    refsets[label].add(i)\n",
    "    predicted_label = classifier.classify(feature)\n",
    "    testset[predicted_label].add(i)"
   ]
  },
  {
   "cell_type": "markdown",
   "metadata": {},
   "source": [
    "`precision, recall, f_measure for positive labels:`\n"
   ]
  },
  {
   "cell_type": "code",
   "execution_count": 229,
   "metadata": {},
   "outputs": [
    {
     "data": {
      "text/plain": [
       "0.7589587559161596"
      ]
     },
     "execution_count": 229,
     "metadata": {},
     "output_type": "execute_result"
    }
   ],
   "source": [
    "precision(refsets['positive'], testset['positive'])"
   ]
  },
  {
   "cell_type": "code",
   "execution_count": 230,
   "metadata": {},
   "outputs": [
    {
     "data": {
      "text/plain": [
       "0.793006004945249"
      ]
     },
     "execution_count": 230,
     "metadata": {},
     "output_type": "execute_result"
    }
   ],
   "source": [
    "recall(refsets['positive'], testset['positive'])"
   ]
  },
  {
   "cell_type": "code",
   "execution_count": 231,
   "metadata": {},
   "outputs": [
    {
     "data": {
      "text/plain": [
       "0.7756089134565555"
      ]
     },
     "execution_count": 231,
     "metadata": {},
     "output_type": "execute_result"
    }
   ],
   "source": [
    "f_measure(refsets['positive'], testset['positive'])"
   ]
  },
  {
   "cell_type": "code",
   "execution_count": null,
   "metadata": {},
   "outputs": [],
   "source": []
  },
  {
   "cell_type": "markdown",
   "metadata": {},
   "source": [
    "`precision, recall, f_measure for negative labels:`"
   ]
  },
  {
   "cell_type": "code",
   "execution_count": 232,
   "metadata": {},
   "outputs": [
    {
     "data": {
      "text/plain": [
       "0.783284023668639"
      ]
     },
     "execution_count": 232,
     "metadata": {},
     "output_type": "execute_result"
    }
   ],
   "source": [
    "precision(refsets['negative'], testset['negative'])"
   ]
  },
  {
   "cell_type": "code",
   "execution_count": 233,
   "metadata": {},
   "outputs": [
    {
     "data": {
      "text/plain": [
       "0.7481455316142706"
      ]
     },
     "execution_count": 233,
     "metadata": {},
     "output_type": "execute_result"
    }
   ],
   "source": [
    "recall(refsets['negative'], testset['negative'])"
   ]
  },
  {
   "cell_type": "code",
   "execution_count": 234,
   "metadata": {},
   "outputs": [
    {
     "data": {
      "text/plain": [
       "0.7653116531165312"
      ]
     },
     "execution_count": 234,
     "metadata": {},
     "output_type": "execute_result"
    }
   ],
   "source": [
    "f_measure(refsets['negative'], testset['negative'])"
   ]
  },
  {
   "cell_type": "markdown",
   "metadata": {},
   "source": [
    "For overall precision, recall, f_measure, separate average of each could be taken."
   ]
  },
  {
   "cell_type": "markdown",
   "metadata": {},
   "source": [
    "#### Features\n",
    "This is what one example in the feature set looks like: <br><br>\n",
    "$ ( \\{'contains(simplistic)': False,\n",
    "  'contains(silly)': False, \n",
    "  'contains(tedious)': False,\n",
    "  'contains(laddish)': False,\n",
    "  'contains(juvenile)': False,\n",
    "  'contains(teenage)': False,\n",
    "  'contains(boy)': False,\n",
    "  'contains(could)': False,\n",
    "  'contains(possibly)': False \\}, $\n",
    "  $ label => positive) $ \n",
    "  \n",
    "In features, I see if a sentence contains some particular words then it's likely to be positive or negative. I removed punctuation, and stop words as they were not really useful in predicting polariy of the sentence."
   ]
  },
  {
   "cell_type": "code",
   "execution_count": null,
   "metadata": {},
   "outputs": [],
   "source": []
  },
  {
   "cell_type": "markdown",
   "metadata": {},
   "source": [
    "### Now use Bi-LSTM to perform sentiment analysis on this data set<br>\n",
    "Use Word Embeddings as features <br>\n",
    "Report precision, recall, accuracy and f1 score <br>\n",
    "plot the loss function<br>"
   ]
  },
  {
   "cell_type": "markdown",
   "metadata": {},
   "source": [
    "> Note that this part was developed on 'colaboratory' of Google, and later incorporated into the notebook. if interested, you can view this part on [Colaboratory](https://colab.research.google.com/drive/1EBrznsmKOoxmDnhr5-RmLAj4EJHIT0ti?ts=5c87a548) to experiment with GPUs/TPUs of Google."
   ]
  },
  {
   "cell_type": "code",
   "execution_count": null,
   "metadata": {},
   "outputs": [],
   "source": [
    "import nltk\n",
    "from nltk.corpus import sentence_polarity\n",
    "nltk.download('sentence_polarity')\n",
    "\n",
    "import itertools\n",
    "import random\n",
    "\n",
    "sents = sentence_polarity.sents()\n",
    "pos_sents = (sentence_polarity.sents(categories='pos'))\n",
    "neg_sents = (sentence_polarity.sents(categories='neg'))\n",
    "len(pos_sents)\n",
    "\n",
    "from __future__ import absolute_import, division, print_function\n",
    "\n",
    "import tensorflow as tf\n",
    "from tensorflow import keras\n",
    "\n",
    "import numpy as np\n",
    "\n",
    "print(tf.__version__)"
   ]
  },
  {
   "cell_type": "code",
   "execution_count": 41,
   "metadata": {
    "scrolled": true
   },
   "outputs": [
    {
     "name": "stdout",
     "output_type": "stream",
     "text": [
      "Training entries: 7000, labels: 7000\n",
      "[752, 914, 5, 3596, 1, 1, 1, 932, 532, 3199, 2076, 2, 1016, 1623, 1151, 1]\n",
      "_________________________________________________________________\n",
      "Layer (type)                 Output Shape              Param #   \n",
      "=================================================================\n",
      "embedding_3 (Embedding)      (None, None, 16)          342416    \n",
      "_________________________________________________________________\n",
      "bidirectional_1 (Bidirection (None, 128)               41472     \n",
      "_________________________________________________________________\n",
      "dropout_1 (Dropout)          (None, 128)               0         \n",
      "_________________________________________________________________\n",
      "dense_5 (Dense)              (None, 1)                 129       \n",
      "=================================================================\n",
      "Total params: 384,017\n",
      "Trainable params: 384,017\n",
      "Non-trainable params: 0\n",
      "_________________________________________________________________\n",
      "7000\n"
     ]
    },
    {
     "name": "stderr",
     "output_type": "stream",
     "text": [
      "/usr/local/anaconda3/lib/python3.6/site-packages/tensorflow/python/ops/gradients_impl.py:112: UserWarning: Converting sparse IndexedSlices to a dense Tensor of unknown shape. This may consume a large amount of memory.\n",
      "  \"Converting sparse IndexedSlices to a dense Tensor of unknown shape. \"\n"
     ]
    },
    {
     "name": "stdout",
     "output_type": "stream",
     "text": [
      "Train on 6000 samples, validate on 1000 samples\n",
      "Epoch 1/10\n",
      "6000/6000 [==============================] - 14s 2ms/step - loss: 0.6931 - acc: 0.5105 - val_loss: 0.6929 - val_acc: 0.5220\n",
      "Epoch 2/10\n",
      "6000/6000 [==============================] - 11s 2ms/step - loss: 0.6926 - acc: 0.5263 - val_loss: 0.6924 - val_acc: 0.5320\n",
      "Epoch 3/10\n",
      "6000/6000 [==============================] - 10s 2ms/step - loss: 0.6913 - acc: 0.5843 - val_loss: 0.6909 - val_acc: 0.6080\n",
      "Epoch 4/10\n",
      "6000/6000 [==============================] - 10s 2ms/step - loss: 0.6879 - acc: 0.6550 - val_loss: 0.6873 - val_acc: 0.6170\n",
      "Epoch 5/10\n",
      "6000/6000 [==============================] - 11s 2ms/step - loss: 0.6781 - acc: 0.6507 - val_loss: 0.6748 - val_acc: 0.6240\n",
      "Epoch 6/10\n",
      "6000/6000 [==============================] - 11s 2ms/step - loss: 0.6637 - acc: 0.6060 - val_loss: 0.6650 - val_acc: 0.6340\n",
      "Epoch 7/10\n",
      "6000/6000 [==============================] - 10s 2ms/step - loss: 0.6433 - acc: 0.6788 - val_loss: 0.6615 - val_acc: 0.6200\n",
      "Epoch 8/10\n",
      "6000/6000 [==============================] - 10s 2ms/step - loss: 0.6243 - acc: 0.7333 - val_loss: 0.6415 - val_acc: 0.6740\n",
      "Epoch 9/10\n",
      "6000/6000 [==============================] - 10s 2ms/step - loss: 0.5844 - acc: 0.7387 - val_loss: 0.6877 - val_acc: 0.5640\n",
      "Epoch 10/10\n",
      "6000/6000 [==============================] - 9s 2ms/step - loss: 0.5626 - acc: 0.7208 - val_loss: 0.6153 - val_acc: 0.6840\n",
      "3662/3662 [==============================] - 5s 1ms/step\n",
      "[0.6061037961477012, 0.6930638994433592]\n"
     ]
    }
   ],
   "source": [
    "Tokenizer = keras.preprocessing.text.Tokenizer(num_words=5000, filters='!\"#$%&()*+,-./:;<=>?@[\\\\]^_`{|}~\\t\\n', lower=True, split=' ', char_level=False, oov_token=None, document_count=0)\n",
    "\n",
    "sents = list(itertools.chain(pos_sents, neg_sents))\n",
    "\n",
    "total_pos_sents = len(pos_sents)\n",
    "total_neg_sents = len(neg_sents)\n",
    "\n",
    "Tokenizer.fit_on_texts(sents)\n",
    "seq_of_ints = Tokenizer.texts_to_sequences(sents)\n",
    "\n",
    "total_sents = len(sents)\n",
    "pos_labels = [1 for x in range(total_pos_sents)]\n",
    "neg_labels = [0 for x in range(total_neg_sents)]\n",
    "labels = list(itertools.chain(pos_labels, neg_labels))\n",
    "\n",
    "data_and_labels = list(zip(seq_of_ints,labels))\n",
    "random.shuffle(data_and_labels)\n",
    "seq_of_ints, labels = zip(*data_and_labels)\n",
    "\n",
    "train_data = seq_of_ints[:7000]\n",
    "train_labels = labels[:7000]\n",
    "test_data = seq_of_ints[7000:]\n",
    "test_labels = labels[7000:]\n",
    "\n",
    "max_pad_len = 0\n",
    "for l in seq_of_ints:\n",
    "  max_pad_len = max(max_pad_len, (len(l)))\n",
    "max_pad_len\n",
    "\n",
    "\n",
    "print(\"Training entries: {}, labels: {}\".format(len(train_data), len(train_labels)))\n",
    "\n",
    "print(train_data[0])\n",
    "\n",
    "len(train_data[0]), len(train_data[1])\n",
    "\n",
    "train_data = keras.preprocessing.sequence.pad_sequences(train_data,\n",
    "                                                        padding='post',\n",
    "                                                        maxlen=max_pad_len)\n",
    "\n",
    "test_data = keras.preprocessing.sequence.pad_sequences(test_data,\n",
    "                                                       padding='post',\n",
    "                                                       maxlen=max_pad_len)\n",
    "\n",
    "# input shape is the vocabulary count used for the movie reviews (10,000 words)\n",
    "# input shape is the vocabulary count used for the movie reviews (10,000 words)\n",
    "vocab_size = 21401\n",
    "\n",
    "model = keras.Sequential()\n",
    "model.add(keras.layers.Embedding(vocab_size, 16))\n",
    "lstm_layer = keras.layers.LSTM(64)\n",
    "model.add(keras.layers.Bidirectional(lstm_layer))\n",
    "model.add(keras.layers.Dropout(0.5))\n",
    "model.add(keras.layers.Dense(1, activation=tf.nn.sigmoid))\n",
    "\n",
    "model.summary()\n",
    "\n",
    "model.compile(optimizer='adam',\n",
    "              loss='binary_crossentropy',\n",
    "              metrics=['acc'])\n",
    "\n",
    "print(len(train_data))\n",
    "tmp = 6000\n",
    "x_val = train_data[tmp:]\n",
    "partial_x_train = train_data[:tmp]\n",
    "\n",
    "y_val = train_labels[tmp:]\n",
    "partial_y_train = train_labels[:tmp]\n",
    "# print(train_data)\n",
    "history = model.fit(partial_x_train,\n",
    "                    partial_y_train,\n",
    "                    epochs=10,\n",
    "                    batch_size=1024,\n",
    "                    validation_data=(x_val, y_val),\n",
    "                    verbose=1)\n",
    "\n",
    "history_dict = history.history\n",
    "history_dict.keys()\n",
    "\n",
    "## Evaluate the model\n",
    "results = model.evaluate(test_data, test_labels)\n",
    "\n",
    "print(results)"
   ]
  },
  {
   "cell_type": "code",
   "execution_count": 42,
   "metadata": {
    "scrolled": true
   },
   "outputs": [
    {
     "data": {
      "image/png": "[encoded data removed]",
      "text/plain": [
       "<Figure size 432x288 with 1 Axes>"
      ]
     },
     "metadata": {},
     "output_type": "display_data"
    }
   ],
   "source": [
    "## graph of accuracy and loss over time\n",
    "\n",
    "\n",
    "import matplotlib.pyplot as plt\n",
    "\n",
    "acc = history_dict['acc']\n",
    "val_acc = history_dict['val_acc']\n",
    "loss = history_dict['loss']\n",
    "val_loss = history_dict['val_loss']\n",
    "\n",
    "epochs = range(1, len(acc) + 1)\n",
    "\n",
    "# \"bo\" is for \"blue dot\"\n",
    "plt.plot(epochs, loss, 'bo', label='Training loss')\n",
    "# b is for \"solid blue line\"\n",
    "plt.plot(epochs, val_loss, 'b', label='Validation loss')\n",
    "plt.title('Training and validation loss')\n",
    "plt.xlabel('Epochs')\n",
    "plt.ylabel('Loss')\n",
    "plt.legend()\n",
    "\n",
    "plt.show()"
   ]
  },
  {
   "cell_type": "markdown",
   "metadata": {},
   "source": [
    "Note that the model is about to overfit if any more epochs are used. "
   ]
  },
  {
   "cell_type": "code",
   "execution_count": null,
   "metadata": {},
   "outputs": [],
   "source": []
  },
  {
   "cell_type": "markdown",
   "metadata": {},
   "source": [
    "\n",
    "\n",
    "## POS Tagging<br>\n",
    "Two common approaches to build a POS tagger are:<br>\n",
    "a. Rule based <br>\n",
    "b. Statistical based <br>\n",
    "Statistical based approaches are further classified into Generative and Discriminative approaches.<br>\n",
    "i. Differentiate between Generative and Discriminative approaches. <br>\n",
    "ii. Provide examples of classifiers for both approaches (Give as many as possible).<br>\n",
    "iii. Build any classifier (Generative or Discriminative) of your choice for POS tagging. Provide mathematical details of the chosen classifier. Also give reason for choosing that classifier. Write clearly about the features etc. Provide accuracy, precision, recall and f1 scores. Also comment on these scores.<br>\n",
    "Use brown data set which can be downloaded using nltk downloader."
   ]
  },
  {
   "cell_type": "markdown",
   "metadata": {},
   "source": [
    "### Answer\n",
    "#### i. Differentiate between Generative and Discriminative approaches. \n",
    "> A generative approach predicts $P(input, label)$, the joint probability of a $(input, label)$ pair.  and is more powerful. Whereas a discriminative approach predicts $P(label \\vert input)$ — the probability of a label given the input value. <br>\n",
    "> - Discriminative models learn the (hard or soft) boundary between classes.\n",
    "> - Generative models model the distribution of individual classes.\n",
    "\n",
    "\n",
    "####  ii. Provide examples of classifiers for both approaches (Give as many as possible). \n",
    "- Generative: Naive Bayes Classifier. \n",
    "- Discriminative:  Maximum Entropy classifier, SVM, Decision Tree"
   ]
  },
  {
   "cell_type": "code",
   "execution_count": 170,
   "metadata": {},
   "outputs": [],
   "source": [
    "from nltk.corpus import brown"
   ]
  },
  {
   "cell_type": "code",
   "execution_count": 173,
   "metadata": {},
   "outputs": [],
   "source": [
    "suffix_fdist = nltk.FreqDist()\n",
    "for word in brown.words():\n",
    "    word = word.lower()\n",
    "    suffix_fdist[word[-1:]] += 1\n",
    "    suffix_fdist[word[-2:]] += 1\n",
    "    suffix_fdist[word[-3:]] += 1\n",
    "\n",
    "common_suffixes = [suffix for (suffix, count) in suffix_fdist.most_common(100)]\n",
    "\n",
    "def pos_features(word):\n",
    "    features = {}\n",
    "    for suffix in common_suffixes:\n",
    "        features['endswith({})'.format(suffix)] = word.lower().endswith(suffix)\n",
    "    return features"
   ]
  },
  {
   "cell_type": "code",
   "execution_count": 174,
   "metadata": {},
   "outputs": [],
   "source": [
    "tagges_words = brown.tagged_words(categories='news')\n",
    "feature_sets = [(pos_features(word), tag) for word, tag in tagges_words]"
   ]
  },
  {
   "cell_type": "code",
   "execution_count": 177,
   "metadata": {},
   "outputs": [],
   "source": [
    "train_set, test_set = feature_sets[:int(.9*len(feature_sets))], feature_sets[int(.9*len(feature_sets)):]"
   ]
  },
  {
   "cell_type": "markdown",
   "metadata": {},
   "source": [
    "#### A discriminative model: Decision Tree for POS tagging"
   ]
  },
  {
   "cell_type": "code",
   "execution_count": 178,
   "metadata": {},
   "outputs": [],
   "source": [
    "classifier_decision_tree = nltk.DecisionTreeClassifier.train(train_set)"
   ]
  },
  {
   "cell_type": "code",
   "execution_count": 179,
   "metadata": {
    "scrolled": true
   },
   "outputs": [
    {
     "data": {
      "text/plain": [
       "0.6268894192521878"
      ]
     },
     "execution_count": 179,
     "metadata": {},
     "output_type": "execute_result"
    }
   ],
   "source": [
    "nltk.classify.accuracy(classifier_decision_tree, test_set)"
   ]
  },
  {
   "cell_type": "markdown",
   "metadata": {},
   "source": [
    "#### A generative model: Naive Bayes for POS tagging"
   ]
  },
  {
   "cell_type": "code",
   "execution_count": 180,
   "metadata": {},
   "outputs": [],
   "source": [
    "classifier_NaiveBayes = nltk.NaiveBayesClassifier.train(train_set)"
   ]
  },
  {
   "cell_type": "code",
   "execution_count": 181,
   "metadata": {},
   "outputs": [
    {
     "data": {
      "text/plain": [
       "0.5684168655529037"
      ]
     },
     "execution_count": 181,
     "metadata": {},
     "output_type": "execute_result"
    }
   ],
   "source": [
    "nltk.classify.accuracy(classifier_NaiveBayes, test_set)"
   ]
  },
  {
   "cell_type": "code",
   "execution_count": null,
   "metadata": {},
   "outputs": [],
   "source": []
  },
  {
   "cell_type": "code",
   "execution_count": 227,
   "metadata": {},
   "outputs": [],
   "source": [
    "refsets = collections.defaultdict(set)\n",
    "testset = collections.defaultdict(set)\n",
    "for i, (feature, label) in enumerate(test_set):\n",
    "    refsets[label].add(i)\n",
    "    predicted_label = classifier_decision_tree.classify(feature)\n",
    "    testset[predicted_label].add(i)"
   ]
  },
  {
   "cell_type": "code",
   "execution_count": 221,
   "metadata": {},
   "outputs": [
    {
     "data": {
      "text/plain": [
       "0.7964169381107492"
      ]
     },
     "execution_count": 221,
     "metadata": {},
     "output_type": "execute_result"
    }
   ],
   "source": [
    "precision(refsets['negative'], testset['negative'])"
   ]
  },
  {
   "cell_type": "code",
   "execution_count": 222,
   "metadata": {},
   "outputs": [
    {
     "data": {
      "text/plain": [
       "0.6909219357117626"
      ]
     },
     "execution_count": 222,
     "metadata": {},
     "output_type": "execute_result"
    }
   ],
   "source": [
    "recall(refsets['negative'], testset['negative'])"
   ]
  },
  {
   "cell_type": "code",
   "execution_count": 223,
   "metadata": {},
   "outputs": [
    {
     "data": {
      "text/plain": [
       "0.7399281255910725"
      ]
     },
     "execution_count": 223,
     "metadata": {},
     "output_type": "execute_result"
    }
   ],
   "source": [
    "f_measure(refsets['negative'], testset['negative'])"
   ]
  },
  {
   "cell_type": "code",
   "execution_count": null,
   "metadata": {},
   "outputs": [],
   "source": []
  },
  {
   "cell_type": "code",
   "execution_count": 224,
   "metadata": {},
   "outputs": [
    {
     "data": {
      "text/plain": [
       "0.7270742358078602"
      ]
     },
     "execution_count": 224,
     "metadata": {},
     "output_type": "execute_result"
    }
   ],
   "source": [
    "precision(refsets['positive'], testset['positive'])"
   ]
  },
  {
   "cell_type": "code",
   "execution_count": 225,
   "metadata": {},
   "outputs": [
    {
     "data": {
      "text/plain": [
       "0.8233839632638643"
      ]
     },
     "execution_count": 225,
     "metadata": {},
     "output_type": "execute_result"
    }
   ],
   "source": [
    "recall(refsets['positive'], testset['positive'])"
   ]
  },
  {
   "cell_type": "code",
   "execution_count": 226,
   "metadata": {},
   "outputs": [
    {
     "data": {
      "text/plain": [
       "0.7722378664899784"
      ]
     },
     "execution_count": 226,
     "metadata": {},
     "output_type": "execute_result"
    }
   ],
   "source": [
    "f_measure(refsets['positive'], testset['positive'])"
   ]
  },
  {
   "cell_type": "code",
   "execution_count": null,
   "metadata": {},
   "outputs": [],
   "source": []
  }
 ],
 "metadata": {
  "kernelspec": {
   "display_name": "Python 3",
   "language": "python",
   "name": "python3"
  },
  "language_info": {
   "codemirror_mode": {
    "name": "ipython",
    "version": 3
   },
   "file_extension": ".py",
   "mimetype": "text/x-python",
   "name": "python",
   "nbconvert_exporter": "python",
   "pygments_lexer": "ipython3",
   "version": "3.6.5"
  }
 },
 "nbformat": 4,
 "nbformat_minor": 1
}
